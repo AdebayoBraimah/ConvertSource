{
 "cells": [
  {
   "cell_type": "code",
   "execution_count": 1,
   "metadata": {},
   "outputs": [],
   "source": [
    "import os\n",
    "import sys\n",
    "import platform"
   ]
  },
  {
   "cell_type": "code",
   "execution_count": 21,
   "metadata": {},
   "outputs": [],
   "source": [
    "test_dir = \"img.test.dir/\"\n",
    "test_dir = os.path.abspath(test_dir)"
   ]
  },
  {
   "cell_type": "code",
   "execution_count": 22,
   "metadata": {},
   "outputs": [],
   "source": [
    "mod_path = \"../bin\""
   ]
  },
  {
   "cell_type": "code",
   "execution_count": 23,
   "metadata": {},
   "outputs": [],
   "source": [
    "# os.listdir(mod_path)\n",
    "sys.path.append(mod_path)"
   ]
  },
  {
   "cell_type": "code",
   "execution_count": 24,
   "metadata": {},
   "outputs": [],
   "source": [
    "import convert_source as cs"
   ]
  },
  {
   "cell_type": "code",
   "execution_count": 25,
   "metadata": {},
   "outputs": [],
   "source": [
    "c_file = \"../config.default.yml\""
   ]
  },
  {
   "cell_type": "code",
   "execution_count": 26,
   "metadata": {},
   "outputs": [
    {
     "output_type": "stream",
     "name": "stdout",
     "text": [
      "Initialized parameters from configuration file\nCategorizing search terms\nExclusion option implemented\nIncluding additional settings for metadata\n"
     ]
    }
   ],
   "source": [
    "[search_dict, \\\n",
    "    exclude_list, \\\n",
    "        meta_dict ] = cs.read_config(config_file=c_file,verbose=True)"
   ]
  },
  {
   "cell_type": "code",
   "execution_count": 27,
   "metadata": {},
   "outputs": [],
   "source": [
    "import utils.img_dir as id"
   ]
  },
  {
   "cell_type": "code",
   "execution_count": 30,
   "metadata": {},
   "outputs": [],
   "source": [
    "# os.listdir(test_dir)\n",
    "[dir_list, id_list] = id.img_dir_list(directory=test_dir,verbose=False)"
   ]
  },
  {
   "cell_type": "code",
   "execution_count": 31,
   "metadata": {},
   "outputs": [
    {
     "output_type": "execute_result",
     "data": {
      "text/plain": [
       "'c:\\\\Users\\\\smart\\\\Desktop\\\\projects\\\\cs_med_data\\\\convert_source\\\\tests\\\\img.test.dir\\\\001-001\\\\DICOM\\\\20211701'"
      ]
     },
     "metadata": {},
     "execution_count": 31
    }
   ],
   "source": [
    "dir_list[0]"
   ]
  },
  {
   "cell_type": "code",
   "execution_count": 32,
   "metadata": {},
   "outputs": [],
   "source": [
    "if 'windows' in platform.platform().lower():\n",
    "    path_sep = \"\\\\\"\n",
    "else:\n",
    "    path_sep = \"/\""
   ]
  },
  {
   "cell_type": "code",
   "execution_count": 13,
   "metadata": {},
   "outputs": [],
   "source": [
    "# path_sep = \"/\""
   ]
  },
  {
   "cell_type": "code",
   "execution_count": 46,
   "metadata": {},
   "outputs": [
    {
     "output_type": "execute_result",
     "data": {
      "text/plain": [
       "['001', '001']"
      ]
     },
     "metadata": {},
     "execution_count": 46
    }
   ],
   "source": [
    "# Isolate subject and session ID\n",
    "os.path.dirname(os.path.dirname(dir_list[0].replace(test_dir + path_sep,\"\"))).split(sep=\"-\")"
   ]
  },
  {
   "cell_type": "code",
   "execution_count": 53,
   "metadata": {},
   "outputs": [
    {
     "output_type": "execute_result",
     "data": {
      "text/plain": [
       "'c:\\\\Users\\\\smart\\\\Desktop\\\\projects\\\\cs_med_data\\\\convert_source\\\\tests\\\\img.test.dir\\\\001-001'"
      ]
     },
     "metadata": {},
     "execution_count": 53
    }
   ],
   "source": [
    "# Isolate subject and session ID\n",
    "# os.path.dirname(os.path.basename(dir_list[0].replace(test_dir + path_sep,\"\")))\n",
    "os.path.dirname(os.path.dirname(dir_list[0]))"
   ]
  },
  {
   "cell_type": "code",
   "execution_count": 39,
   "metadata": {},
   "outputs": [],
   "source": [
    "[sub, ses] = os.path.dirname(os.path.dirname(dir_list[0].replace(test_dir + path_sep,\"\"))).split(sep=\"-\")"
   ]
  },
  {
   "cell_type": "code",
   "execution_count": 40,
   "metadata": {},
   "outputs": [
    {
     "output_type": "execute_result",
     "data": {
      "text/plain": [
       "'001'"
      ]
     },
     "metadata": {},
     "execution_count": 40
    }
   ],
   "source": [
    "sub"
   ]
  },
  {
   "cell_type": "code",
   "execution_count": 44,
   "metadata": {},
   "outputs": [
    {
     "output_type": "execute_result",
     "data": {
      "text/plain": [
       "['900XXT5']"
      ]
     },
     "metadata": {},
     "execution_count": 44
    }
   ],
   "source": [
    "os.path.dirname(\n",
    "    os.path.dirname(\n",
    "        os.path.dirname(\n",
    "            dir_list[9].replace(test_dir + path_sep,\"\")))).split(sep=\"-\")"
   ]
  },
  {
   "cell_type": "code",
   "execution_count": null,
   "metadata": {},
   "outputs": [],
   "source": [
    "class SubDataInfo():\n",
    "    '''class doc-string'''\n",
    "\n",
    "    def __init__(self,sub,data,ses)"
   ]
  },
  {
   "cell_type": "code",
   "execution_count": null,
   "metadata": {},
   "outputs": [],
   "source": [
    "# Solve recursively\n",
    "def get_ids(parent_dir):\n",
    "    '''working doc-string'''\n",
    "\n",
    "    not_finished = True\n",
    "\n",
    "    if 'windows' in platform.platform().lower():\n",
    "        path_sep = \"\\\\\"\n",
    "    else:\n",
    "        path_sep = \"/\"\n",
    "    \n",
    "    # Get image directory information\n",
    "    [dir_list, id_list] = id.img_dir_list(directory=parent_dir, verbose=False)\n",
    "\n",
    "    # Iterate through each subject image directory\n",
    "    for img in dir_list:\n",
    "        # Edge case\n",
    "        [sub, ses] = os.path.dirname(\n",
    "            os.path.dirname(\n",
    "                os.path.dirname(\n",
    "                    img.replace(parent_dir + path_sep,\"\")))).split(sep=\"-\")\n",
    "        \n",
    "        if len(sub) is 0:\n",
    "            # Base case\n",
    "            [sub, ses] = os.path.dirname(\n",
    "                os.path.dirname(\n",
    "                    img.replace(parent_dir + path_sep,\"\"))).split(sep=\"-\")\n"
   ]
  },
  {
   "cell_type": "code",
   "execution_count": 58,
   "metadata": {},
   "outputs": [],
   "source": [
    "t = {}"
   ]
  },
  {
   "cell_type": "code",
   "execution_count": 62,
   "metadata": {},
   "outputs": [
    {
     "output_type": "error",
     "ename": "SyntaxError",
     "evalue": "keyword can't be an expression (<ipython-input-62-2f4a265e7b9c>, line 1)",
     "traceback": [
      "\u001b[1;36m  File \u001b[1;32m\"<ipython-input-62-2f4a265e7b9c>\"\u001b[1;36m, line \u001b[1;32m1\u001b[0m\n\u001b[1;33m    t.update(\"001\"=\"p\")\u001b[0m\n\u001b[1;37m            ^\u001b[0m\n\u001b[1;31mSyntaxError\u001b[0m\u001b[1;31m:\u001b[0m keyword can't be an expression\n"
     ]
    }
   ],
   "source": []
  },
  {
   "cell_type": "code",
   "execution_count": 57,
   "metadata": {},
   "outputs": [
    {
     "output_type": "execute_result",
     "data": {
      "text/plain": [
       "{'sub': '001'}"
      ]
     },
     "metadata": {},
     "execution_count": 57
    }
   ],
   "source": [
    "t"
   ]
  },
  {
   "cell_type": "code",
   "execution_count": null,
   "metadata": {},
   "outputs": [],
   "source": []
  }
 ],
 "metadata": {
  "kernelspec": {
   "display_name": "Python 3",
   "language": "python",
   "name": "python3"
  },
  "language_info": {
   "codemirror_mode": {
    "name": "ipython",
    "version": 3
   },
   "file_extension": ".py",
   "mimetype": "text/x-python",
   "name": "python",
   "nbconvert_exporter": "python",
   "pygments_lexer": "ipython3",
   "version": "3.6.8-final"
  }
 },
 "nbformat": 4,
 "nbformat_minor": 2
}