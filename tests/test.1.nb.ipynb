{
 "cells": [
  {
   "cell_type": "code",
   "execution_count": 1,
   "metadata": {},
   "outputs": [],
   "source": [
    "import os\n",
    "import sys\n",
    "import platform\n",
    "from typing import List, Dict, Optional, Union, Tuple"
   ]
  },
  {
   "cell_type": "code",
   "execution_count": 2,
   "metadata": {},
   "outputs": [],
   "source": [
    "test_dir = \"img.test.dir/\"\n",
    "test_dir = os.path.abspath(test_dir)"
   ]
  },
  {
   "cell_type": "code",
   "execution_count": 3,
   "metadata": {},
   "outputs": [],
   "source": [
    "mod_path = \"../bin\""
   ]
  },
  {
   "cell_type": "code",
   "execution_count": 4,
   "metadata": {},
   "outputs": [],
   "source": [
    "# os.listdir(mod_path)\n",
    "sys.path.append(mod_path)"
   ]
  },
  {
   "cell_type": "code",
   "execution_count": 5,
   "metadata": {},
   "outputs": [],
   "source": [
    "import convert_source as cs"
   ]
  },
  {
   "cell_type": "code",
   "execution_count": 6,
   "metadata": {},
   "outputs": [],
   "source": [
    "c_file = \"../config.default.yml\""
   ]
  },
  {
   "cell_type": "code",
   "execution_count": 7,
   "metadata": {},
   "outputs": [
    {
     "name": "stdout",
     "output_type": "stream",
     "text": [
      "Initialized parameters from configuration file\n",
      "Categorizing search terms\n",
      "Exclusion option implemented\n",
      "Including additional settings for metadata\n"
     ]
    }
   ],
   "source": [
    "[search_dict, \\\n",
    "    exclude_list, \\\n",
    "        meta_dict ] = cs.read_config(config_file=c_file,verbose=True)"
   ]
  },
  {
   "cell_type": "code",
   "execution_count": 8,
   "metadata": {},
   "outputs": [],
   "source": [
    "import utils.img_dir as id"
   ]
  },
  {
   "cell_type": "code",
   "execution_count": 9,
   "metadata": {},
   "outputs": [],
   "source": [
    "# os.listdir(test_dir)\n",
    "[dir_list, id_list] = id.img_dir_list(directory=test_dir,verbose=False)"
   ]
  },
  {
   "cell_type": "code",
   "execution_count": 10,
   "metadata": {},
   "outputs": [
    {
     "data": {
      "text/plain": [
       "'/Users/adebayobraimah/Desktop/projects/convert_source/tests/img.test.dir/001-001/DICOM/20211701'"
      ]
     },
     "execution_count": 10,
     "metadata": {},
     "output_type": "execute_result"
    }
   ],
   "source": [
    "dir_list[0]"
   ]
  },
  {
   "cell_type": "code",
   "execution_count": 11,
   "metadata": {},
   "outputs": [],
   "source": [
    "if 'windows' in platform.platform().lower():\n",
    "    path_sep = \"\\\\\"\n",
    "else:\n",
    "    path_sep = \"/\""
   ]
  },
  {
   "cell_type": "code",
   "execution_count": 12,
   "metadata": {},
   "outputs": [],
   "source": [
    "# path_sep = \"/\""
   ]
  },
  {
   "cell_type": "code",
   "execution_count": 13,
   "metadata": {},
   "outputs": [
    {
     "data": {
      "text/plain": [
       "['001', '001']"
      ]
     },
     "execution_count": 13,
     "metadata": {},
     "output_type": "execute_result"
    }
   ],
   "source": [
    "# Isolate subject and session ID\n",
    "os.path.dirname(os.path.dirname(dir_list[0].replace(test_dir + path_sep,\"\"))).split(sep=\"-\")"
   ]
  },
  {
   "cell_type": "code",
   "execution_count": 14,
   "metadata": {},
   "outputs": [
    {
     "data": {
      "text/plain": [
       "'/Users/adebayobraimah/Desktop/projects/convert_source/tests/img.test.dir/001-001'"
      ]
     },
     "execution_count": 14,
     "metadata": {},
     "output_type": "execute_result"
    }
   ],
   "source": [
    "# Isolate subject and session ID\n",
    "# os.path.dirname(os.path.basename(dir_list[0].replace(test_dir + path_sep,\"\")))\n",
    "os.path.dirname(os.path.dirname(dir_list[0]))"
   ]
  },
  {
   "cell_type": "code",
   "execution_count": 15,
   "metadata": {},
   "outputs": [],
   "source": [
    "[sub, ses] = os.path.dirname(os.path.dirname(dir_list[0].replace(test_dir + path_sep,\"\"))).split(sep=\"-\")"
   ]
  },
  {
   "cell_type": "code",
   "execution_count": 16,
   "metadata": {},
   "outputs": [
    {
     "data": {
      "text/plain": [
       "'001'"
      ]
     },
     "execution_count": 16,
     "metadata": {},
     "output_type": "execute_result"
    }
   ],
   "source": [
    "sub"
   ]
  },
  {
   "cell_type": "code",
   "execution_count": 69,
   "metadata": {},
   "outputs": [
    {
     "data": {
      "text/plain": [
       "['900XXT5']"
      ]
     },
     "execution_count": 69,
     "metadata": {},
     "output_type": "execute_result"
    }
   ],
   "source": [
    "os.path.dirname(\n",
    "    os.path.dirname(\n",
    "        os.path.dirname(\n",
    "            dir_list[9].replace(test_dir + path_sep,\"\")))).split(sep=\"-\")"
   ]
  },
  {
   "cell_type": "code",
   "execution_count": 78,
   "metadata": {},
   "outputs": [
    {
     "data": {
      "text/plain": [
       "['900XXT5/DICOM/20211701']"
      ]
     },
     "execution_count": 78,
     "metadata": {},
     "output_type": "execute_result"
    }
   ],
   "source": [
    "os.path.dirname(dir_list[9]).replace(test_dir + path_sep,\"\").split(sep=\"-\")"
   ]
  },
  {
   "cell_type": "code",
   "execution_count": 92,
   "metadata": {},
   "outputs": [],
   "source": [
    "class SubDataInfo():\n",
    "    '''Class instance that creates a data object that organizes a subject's \n",
    "    identification (ID) number, session ID number, and the \n",
    "    path to the image data directory. This information is then stored for \n",
    "    each separate class instance, and can be accessed as shown in the example\n",
    "    usage.\n",
    "    \n",
    "    Usage example:\n",
    "        >>> sub_info = SubDataInfo(sub=\"002\",\n",
    "                                    data=\"<path/to/img/data>\",\n",
    "                                    ses=\"001\")\n",
    "        >>> sub_info.sub\n",
    "        \"002\"\n",
    "        >>> \n",
    "        >>> sub_info.ses\n",
    "        \"001\"\n",
    "    '''\n",
    "\n",
    "    def __init__(self,\n",
    "                 sub: str,\n",
    "                 data: str,\n",
    "                 ses: Optional[str] = None):\n",
    "        '''Init doc-string for the 'SubDataInfo' class. \n",
    "        \n",
    "        Arguments:\n",
    "            sub: Subject ID.\n",
    "            data: Path to image data directory.\n",
    "            ses: Session ID.\n",
    "        '''\n",
    "        self.sub: str = sub\n",
    "        self.data: str = data\n",
    "        if ses:\n",
    "            self.ses: str = ses\n",
    "        else:\n",
    "            self.ses: str = \"\""
   ]
  },
  {
   "cell_type": "code",
   "execution_count": 93,
   "metadata": {},
   "outputs": [],
   "source": [
    "def collect_info(parent_dir: str) -> List[SubDataInfo]:\n",
    "    '''Collects image data information for each subject for a study, \n",
    "    provided there exists some parent directory.\n",
    "    \n",
    "    Arguments:\n",
    "        parent_dir: Parent directory that contains each subject.\n",
    "        \n",
    "    Returns:\n",
    "        List/Array of SubDataInfo objects that corresponds to a subject ID, \n",
    "            session ID, and path to medical image directory.\n",
    "    '''\n",
    "    \n",
    "    data: List = []\n",
    "\n",
    "    if 'windows' in platform.platform().lower():\n",
    "        path_sep = \"\\\\\"\n",
    "    else:\n",
    "        path_sep = \"/\"\n",
    "    \n",
    "    # Get image directory information\n",
    "    [dir_list, id_list] = id.img_dir_list(directory=parent_dir,\n",
    "                                          verbose=False)\n",
    "\n",
    "    # Iterate through each subject image directory\n",
    "    for img in dir_list:\n",
    "        # Set empty variables\n",
    "        sub = \"\"; ses = \"\"\n",
    "        \n",
    "        # Edge case 2\n",
    "        try:\n",
    "            [sub, ses] = os.path.dirname(\n",
    "                os.path.dirname(\n",
    "                    os.path.dirname(\n",
    "                        img.replace(parent_dir + path_sep,\"\")))).split(sep=\"-\")\n",
    "        except ValueError:\n",
    "            ses = \"\"\n",
    "            sub = os.path.dirname(\n",
    "                os.path.dirname(\n",
    "                    os.path.dirname(\n",
    "                        img.replace(parent_dir + path_sep,\"\"))))#.split(sep=\"-\")\n",
    "        \n",
    "        # Edge case 1\n",
    "        if len(sub) == 0:\n",
    "            try:\n",
    "                [sub, ses] = os.path.dirname(\n",
    "                    os.path.dirname(\n",
    "                        img.replace(parent_dir + path_sep,\"\"))).split(sep=\"-\")\n",
    "            except ValueError:\n",
    "                ses = \"\"\n",
    "                sub = os.path.dirname(\n",
    "                    os.path.dirname(\n",
    "                        img.replace(parent_dir + path_sep,\"\")))#.split(sep=\"-\")\n",
    "        \n",
    "        # Base case\n",
    "        if len(sub) == 0:\n",
    "            try:\n",
    "                [sub, ses] = os.path.dirname(\n",
    "                    img.replace(parent_dir + path_sep,\"\")).split(sep=\"-\")\n",
    "            except ValueError:\n",
    "                ses = \"\"\n",
    "                sub = os.path.dirname(\n",
    "                    img.replace(parent_dir + path_sep,\"\"))#.split(sep=\"-\")\n",
    "                \n",
    "    \n",
    "        # Collect and organize each subjects' session and data\n",
    "        sub_info = SubDataInfo(sub=sub,\n",
    "                               data=img,\n",
    "                               ses=ses)\n",
    "        \n",
    "        data.append(sub_info)\n",
    "        \n",
    "        # Clear variables\n",
    "        del sub, ses\n",
    "        \n",
    "    return data"
   ]
  },
  {
   "cell_type": "code",
   "execution_count": 58,
   "metadata": {},
   "outputs": [],
   "source": [
    "t = {}"
   ]
  },
  {
   "cell_type": "code",
   "execution_count": 62,
   "metadata": {},
   "outputs": [
    {
     "ename": "SyntaxError",
     "evalue": "keyword can't be an expression (<ipython-input-62-2f4a265e7b9c>, line 1)",
     "output_type": "error",
     "traceback": [
      "\u001b[1;36m  File \u001b[1;32m\"<ipython-input-62-2f4a265e7b9c>\"\u001b[1;36m, line \u001b[1;32m1\u001b[0m\n\u001b[1;33m    t.update(\"001\"=\"p\")\u001b[0m\n\u001b[1;37m            ^\u001b[0m\n\u001b[1;31mSyntaxError\u001b[0m\u001b[1;31m:\u001b[0m keyword can't be an expression\n"
     ]
    }
   ],
   "source": []
  },
  {
   "cell_type": "code",
   "execution_count": 57,
   "metadata": {},
   "outputs": [
    {
     "data": {
      "text/plain": [
       "{'sub': '001'}"
      ]
     },
     "execution_count": 57,
     "metadata": {},
     "output_type": "execute_result"
    }
   ],
   "source": [
    "t"
   ]
  },
  {
   "cell_type": "code",
   "execution_count": 20,
   "metadata": {},
   "outputs": [],
   "source": [
    "s = SubDataInfo(\"001\",dir_list[0],\"001\")"
   ]
  },
  {
   "cell_type": "code",
   "execution_count": 24,
   "metadata": {},
   "outputs": [
    {
     "data": {
      "text/plain": [
       "'C:\\\\Users\\\\smart\\\\Desktop\\\\projects\\\\cs_med_data\\\\convert_source\\\\tests\\\\img.test.dir\\\\001-001\\\\DICOM\\\\20211701'"
      ]
     },
     "execution_count": 24,
     "metadata": {},
     "output_type": "execute_result"
    }
   ],
   "source": [
    "s.data"
   ]
  },
  {
   "cell_type": "code",
   "execution_count": 25,
   "metadata": {},
   "outputs": [],
   "source": [
    "t = []; t.append(s)"
   ]
  },
  {
   "cell_type": "code",
   "execution_count": 26,
   "metadata": {},
   "outputs": [],
   "source": [
    "s = SubDataInfo(\"002\",dir_list[1],\"001\")"
   ]
  },
  {
   "cell_type": "code",
   "execution_count": 28,
   "metadata": {},
   "outputs": [
    {
     "data": {
      "text/plain": [
       "'C:\\\\Users\\\\smart\\\\Desktop\\\\projects\\\\cs_med_data\\\\convert_source\\\\tests\\\\img.test.dir\\\\001-001\\\\NIFTI'"
      ]
     },
     "execution_count": 28,
     "metadata": {},
     "output_type": "execute_result"
    }
   ],
   "source": [
    "s.data"
   ]
  },
  {
   "cell_type": "code",
   "execution_count": 29,
   "metadata": {},
   "outputs": [],
   "source": [
    "t.append(s)"
   ]
  },
  {
   "cell_type": "code",
   "execution_count": 32,
   "metadata": {},
   "outputs": [
    {
     "data": {
      "text/plain": [
       "'002'"
      ]
     },
     "execution_count": 32,
     "metadata": {},
     "output_type": "execute_result"
    }
   ],
   "source": [
    "t[1].sub"
   ]
  },
  {
   "cell_type": "code",
   "execution_count": 94,
   "metadata": {},
   "outputs": [],
   "source": [
    "data = collect_info(parent_dir=test_dir)"
   ]
  },
  {
   "cell_type": "code",
   "execution_count": 56,
   "metadata": {},
   "outputs": [
    {
     "data": {
      "text/plain": [
       "36"
      ]
     },
     "execution_count": 56,
     "metadata": {},
     "output_type": "execute_result"
    }
   ],
   "source": [
    "len(data)"
   ]
  },
  {
   "cell_type": "code",
   "execution_count": 67,
   "metadata": {},
   "outputs": [
    {
     "data": {
      "text/plain": [
       "'/Users/adebayobraimah/Desktop/projects/convert_source/tests/img.test.dir/001-001/NIFTI'"
      ]
     },
     "execution_count": 67,
     "metadata": {},
     "output_type": "execute_result"
    }
   ],
   "source": [
    "data[1].data"
   ]
  },
  {
   "cell_type": "code",
   "execution_count": 95,
   "metadata": {},
   "outputs": [
    {
     "name": "stdout",
     "output_type": "stream",
     "text": [
      "sub-001_ses-001\n",
      "sub-001_ses-001\n",
      "sub-001_ses-001\n",
      "sub-002_ses-001\n",
      "sub-002_ses-001\n",
      "sub-002_ses-001\n",
      "sub-003_ses-001\n",
      "sub-003_ses-001\n",
      "sub-003_ses-001\n",
      "sub-900XXT5_ses-\n",
      "sub-900XXT5_ses-\n",
      "sub-900XXT5_ses-\n",
      "sub-901XXP5_ses-\n",
      "sub-901XXP5_ses-\n",
      "sub-901XXP5_ses-\n",
      "sub-902XXY8_ses-\n",
      "sub-902XXY8_ses-\n",
      "sub-902XXY8_ses-\n",
      "sub-C01_ses-001\n",
      "sub-C01_ses-001\n",
      "sub-C01_ses-001\n",
      "sub-C02_ses-001\n",
      "sub-C02_ses-001\n",
      "sub-C02_ses-001\n",
      "sub-C03_ses-001\n",
      "sub-C03_ses-001\n",
      "sub-C03_ses-001\n",
      "sub-P01_ses-001\n",
      "sub-P01_ses-001\n",
      "sub-P01_ses-001\n",
      "sub-P02_ses-001\n",
      "sub-P02_ses-001\n",
      "sub-P02_ses-001\n",
      "sub-P03_ses-001\n",
      "sub-P03_ses-001\n",
      "sub-P03_ses-001\n"
     ]
    }
   ],
   "source": [
    "for i in range(0,len(data)):\n",
    "    try:\n",
    "        print(f\"sub-{data[i].sub}_ses-{data[i].ses}\")\n",
    "        # print(f\"sub-{data[i].sub}\")\n",
    "    except AttributeError:\n",
    "        pass"
   ]
  },
  {
   "cell_type": "code",
   "execution_count": null,
   "metadata": {},
   "outputs": [],
   "source": []
  }
 ],
 "metadata": {
  "kernelspec": {
   "display_name": "Python 3",
   "language": "python",
   "name": "python3"
  },
  "language_info": {
   "codemirror_mode": {
    "name": "ipython",
    "version": 3
   },
   "file_extension": ".py",
   "mimetype": "text/x-python",
   "name": "python",
   "nbconvert_exporter": "python",
   "pygments_lexer": "ipython3",
   "version": "3.8.3"
  }
 },
 "nbformat": 4,
 "nbformat_minor": 2
}
