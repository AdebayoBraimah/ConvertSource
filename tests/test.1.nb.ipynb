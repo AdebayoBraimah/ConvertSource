{
 "metadata": {
  "language_info": {
   "codemirror_mode": {
    "name": "ipython",
    "version": 3
   },
   "file_extension": ".py",
   "mimetype": "text/x-python",
   "name": "python",
   "nbconvert_exporter": "python",
   "pygments_lexer": "ipython3",
   "version": "3.8.3-final"
  },
  "orig_nbformat": 2,
  "kernelspec": {
   "name": "python3",
   "display_name": "Python 3",
   "language": "python"
  }
 },
 "nbformat": 4,
 "nbformat_minor": 2,
 "cells": [
  {
   "cell_type": "code",
   "execution_count": 5,
   "metadata": {},
   "outputs": [],
   "source": [
    "import os\n",
    "import sys"
   ]
  },
  {
   "cell_type": "code",
   "execution_count": 3,
   "metadata": {},
   "outputs": [],
   "source": [
    "test_dir = \"img.test.dir/\""
   ]
  },
  {
   "cell_type": "code",
   "execution_count": 6,
   "metadata": {},
   "outputs": [],
   "source": [
    "mod_path = \"../bin\""
   ]
  },
  {
   "cell_type": "code",
   "execution_count": 8,
   "metadata": {},
   "outputs": [],
   "source": [
    "# os.listdir(mod_path)\n",
    "sys.path.append(mod_path)"
   ]
  },
  {
   "cell_type": "code",
   "execution_count": 15,
   "metadata": {},
   "outputs": [],
   "source": [
    "import convert_source as cs"
   ]
  },
  {
   "cell_type": "code",
   "execution_count": 13,
   "metadata": {},
   "outputs": [],
   "source": [
    "c_file = \"../config.default.yml\""
   ]
  },
  {
   "cell_type": "code",
   "execution_count": 18,
   "metadata": {},
   "outputs": [
    {
     "output_type": "stream",
     "name": "stdout",
     "text": [
      "Initialized parameters from configuration file\nCategorizing search terms\nExclusion option implemented\nimplementing additional settings for metadata\n"
     ]
    }
   ],
   "source": [
    "[search_dict, \\\n",
    "    exclude_list, \\\n",
    "        meta_dict ] = cs.read_config(config_file=c_file,verbose=True)"
   ]
  },
  {
   "cell_type": "code",
   "execution_count": 21,
   "metadata": {},
   "outputs": [],
   "source": [
    "import utils.img_dir as id"
   ]
  },
  {
   "cell_type": "code",
   "execution_count": 23,
   "metadata": {},
   "outputs": [
    {
     "output_type": "execute_result",
     "data": {
      "text/plain": [
       "(['/Users/adebayobraimah/Desktop/projects/convert_source/tests/img.test.dir/001/DICOM/20211701',\n",
       "  '/Users/adebayobraimah/Desktop/projects/convert_source/tests/img.test.dir/001/NIFTI',\n",
       "  '/Users/adebayobraimah/Desktop/projects/convert_source/tests/img.test.dir/001/PAR REC',\n",
       "  '/Users/adebayobraimah/Desktop/projects/convert_source/tests/img.test.dir/002/DICOM/20211701',\n",
       "  '/Users/adebayobraimah/Desktop/projects/convert_source/tests/img.test.dir/002/NIFTI',\n",
       "  '/Users/adebayobraimah/Desktop/projects/convert_source/tests/img.test.dir/002/PAR REC',\n",
       "  '/Users/adebayobraimah/Desktop/projects/convert_source/tests/img.test.dir/003/DICOM/20211701',\n",
       "  '/Users/adebayobraimah/Desktop/projects/convert_source/tests/img.test.dir/003/NIFTI',\n",
       "  '/Users/adebayobraimah/Desktop/projects/convert_source/tests/img.test.dir/003/PAR REC',\n",
       "  '/Users/adebayobraimah/Desktop/projects/convert_source/tests/img.test.dir/900XXT5/DICOM/20211701/NAME^ 20201701',\n",
       "  '/Users/adebayobraimah/Desktop/projects/convert_source/tests/img.test.dir/900XXT5/NIFTI/NAME^ 20201701',\n",
       "  '/Users/adebayobraimah/Desktop/projects/convert_source/tests/img.test.dir/900XXT5/PAR REC/NAME^ 20201701',\n",
       "  '/Users/adebayobraimah/Desktop/projects/convert_source/tests/img.test.dir/901XXP5/DICOM/20211701/NAME^ 20201701',\n",
       "  '/Users/adebayobraimah/Desktop/projects/convert_source/tests/img.test.dir/901XXP5/NIFTI/NAME^ 20201701',\n",
       "  '/Users/adebayobraimah/Desktop/projects/convert_source/tests/img.test.dir/901XXP5/PAR REC/NAME^ 20201701',\n",
       "  '/Users/adebayobraimah/Desktop/projects/convert_source/tests/img.test.dir/902XXY8/DICOM/20211701/NAME^ 20201701',\n",
       "  '/Users/adebayobraimah/Desktop/projects/convert_source/tests/img.test.dir/902XXY8/NIFTI/NAME^ 20201701',\n",
       "  '/Users/adebayobraimah/Desktop/projects/convert_source/tests/img.test.dir/902XXY8/PAR REC/NAME^ 20201701',\n",
       "  '/Users/adebayobraimah/Desktop/projects/convert_source/tests/img.test.dir/C01/DICOM/20211701',\n",
       "  '/Users/adebayobraimah/Desktop/projects/convert_source/tests/img.test.dir/C01/NIFTI',\n",
       "  '/Users/adebayobraimah/Desktop/projects/convert_source/tests/img.test.dir/C01/PAR REC',\n",
       "  '/Users/adebayobraimah/Desktop/projects/convert_source/tests/img.test.dir/C02/DICOM/20211701',\n",
       "  '/Users/adebayobraimah/Desktop/projects/convert_source/tests/img.test.dir/C02/NIFTI',\n",
       "  '/Users/adebayobraimah/Desktop/projects/convert_source/tests/img.test.dir/C02/PAR REC',\n",
       "  '/Users/adebayobraimah/Desktop/projects/convert_source/tests/img.test.dir/C03/DICOM/20211701',\n",
       "  '/Users/adebayobraimah/Desktop/projects/convert_source/tests/img.test.dir/C03/NIFTI',\n",
       "  '/Users/adebayobraimah/Desktop/projects/convert_source/tests/img.test.dir/C03/PAR REC',\n",
       "  '/Users/adebayobraimah/Desktop/projects/convert_source/tests/img.test.dir/P01/DICOM/20211701',\n",
       "  '/Users/adebayobraimah/Desktop/projects/convert_source/tests/img.test.dir/P01/NIFTI',\n",
       "  '/Users/adebayobraimah/Desktop/projects/convert_source/tests/img.test.dir/P01/PAR REC',\n",
       "  '/Users/adebayobraimah/Desktop/projects/convert_source/tests/img.test.dir/P02/DICOM/20211701',\n",
       "  '/Users/adebayobraimah/Desktop/projects/convert_source/tests/img.test.dir/P02/NIFTI',\n",
       "  '/Users/adebayobraimah/Desktop/projects/convert_source/tests/img.test.dir/P02/PAR REC',\n",
       "  '/Users/adebayobraimah/Desktop/projects/convert_source/tests/img.test.dir/P03/DICOM/20211701',\n",
       "  '/Users/adebayobraimah/Desktop/projects/convert_source/tests/img.test.dir/P03/NIFTI',\n",
       "  '/Users/adebayobraimah/Desktop/projects/convert_source/tests/img.test.dir/P03/PAR REC'],\n",
       " ['DCM',\n",
       "  'NII',\n",
       "  'PAR',\n",
       "  'DCM',\n",
       "  'NII',\n",
       "  'PAR',\n",
       "  'DCM',\n",
       "  'NII',\n",
       "  'PAR',\n",
       "  'DCM',\n",
       "  'NII',\n",
       "  'PAR',\n",
       "  'DCM',\n",
       "  'NII',\n",
       "  'PAR',\n",
       "  'DCM',\n",
       "  'NII',\n",
       "  'PAR',\n",
       "  'DCM',\n",
       "  'NII',\n",
       "  'PAR',\n",
       "  'DCM',\n",
       "  'NII',\n",
       "  'PAR',\n",
       "  'DCM',\n",
       "  'NII',\n",
       "  'PAR',\n",
       "  'DCM',\n",
       "  'NII',\n",
       "  'PAR',\n",
       "  'DCM',\n",
       "  'NII',\n",
       "  'PAR',\n",
       "  'DCM',\n",
       "  'NII',\n",
       "  'PAR'])"
      ]
     },
     "metadata": {},
     "execution_count": 23
    }
   ],
   "source": [
    "# os.listdir(test_dir)\n",
    "id.img_dir_list(directory=test_dir,verbose=False)"
   ]
  },
  {
   "cell_type": "code",
   "execution_count": null,
   "metadata": {},
   "outputs": [],
   "source": []
  }
 ]
}