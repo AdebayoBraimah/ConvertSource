{
 "cells": [
  {
   "cell_type": "code",
   "execution_count": 1,
   "metadata": {},
   "outputs": [],
   "source": [
    "import os\n",
    "import sys\n",
    "import platform\n",
    "from typing import List, Dict, Optional, Union, Tuple"
   ]
  },
  {
   "cell_type": "code",
   "execution_count": 2,
   "metadata": {},
   "outputs": [],
   "source": [
    "test_dir = \"img.test.dir/\"\n",
    "test_dir = os.path.abspath(test_dir)\n",
    "mod_path = \"../bin\"\n",
    "sys.path.append(mod_path)"
   ]
  },
  {
   "cell_type": "code",
   "execution_count": 3,
   "metadata": {},
   "outputs": [],
   "source": [
    "import convert_source as cs"
   ]
  },
  {
   "cell_type": "code",
   "execution_count": 4,
   "metadata": {},
   "outputs": [],
   "source": [
    "import utils.img_dir as id"
   ]
  },
  {
   "cell_type": "code",
   "execution_count": 5,
   "metadata": {},
   "outputs": [],
   "source": [
    "class SubDataInfo():\n",
    "    '''Class instance that creates a data object that organizes a subject's \n",
    "    identification (ID) number, session ID number, and the \n",
    "    path to the image data directory. This information is then stored for \n",
    "    each separate class instance, and can be accessed as shown in the example\n",
    "    usage.\n",
    "    \n",
    "    Usage example:\n",
    "        >>> sub_info = SubDataInfo(sub=\"002\",\n",
    "        ...                        data=\"<path/to/img/data>\",\n",
    "        ...                        ses=\"001\")\n",
    "        >>> sub_info.sub\n",
    "        \"002\"\n",
    "        >>> \n",
    "        >>> sub_info.ses\n",
    "        \"001\"\n",
    "    '''\n",
    "\n",
    "    def __init__(self,\n",
    "                 sub: str,\n",
    "                 data: str,\n",
    "                 ses: Optional[str] = None):\n",
    "        '''Init doc-string for the 'SubDataInfo' class. \n",
    "        \n",
    "        Arguments:\n",
    "            sub: Subject ID.\n",
    "            data: Path to image data directory.\n",
    "            ses: Session ID.\n",
    "        '''\n",
    "        self.sub: str = sub\n",
    "        self.data: str = data\n",
    "        if ses:\n",
    "            self.ses: str = ses\n",
    "        else:\n",
    "            self.ses: str = \"\"\n",
    "    \n",
    "    def __repr__(self):\n",
    "        '''NOTE: '''\n",
    "        return (str({\"sub\": self.sub,\n",
    "                     \"ses\": self.ses,\n",
    "                     \"data\": self.data}))"
   ]
  },
  {
   "cell_type": "code",
   "execution_count": null,
   "metadata": {},
   "outputs": [],
   "source": []
  }
 ],
 "metadata": {
  "kernelspec": {
   "display_name": "Python 3",
   "language": "python",
   "name": "python3"
  },
  "language_info": {
   "codemirror_mode": {
    "name": "ipython",
    "version": 3
   },
   "file_extension": ".py",
   "mimetype": "text/x-python",
   "name": "python",
   "nbconvert_exporter": "python",
   "pygments_lexer": "ipython3",
   "version": "3.6.8"
  }
 },
 "nbformat": 4,
 "nbformat_minor": 2
}
