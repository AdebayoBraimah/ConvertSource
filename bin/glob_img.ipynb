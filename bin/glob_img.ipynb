{
 "cells": [
  {
   "cell_type": "code",
   "execution_count": 26,
   "metadata": {},
   "outputs": [],
   "source": [
    "import os\n",
    "import sys\n",
    "import platform\n",
    "import glob\n",
    "from typing import List, Dict, Optional, Union, Tuple"
   ]
  },
  {
   "cell_type": "code",
   "execution_count": 12,
   "metadata": {},
   "outputs": [
    {
     "data": {
      "text/plain": [
       "'C:\\\\Users\\\\smart\\\\Desktop\\\\projects\\\\cs_med_data\\\\convert_source\\\\bin'"
      ]
     },
     "execution_count": 12,
     "metadata": {},
     "output_type": "execute_result"
    }
   ],
   "source": [
    "os.getcwd()"
   ]
  },
  {
   "cell_type": "code",
   "execution_count": 19,
   "metadata": {},
   "outputs": [],
   "source": [
    "test_dir = os.getcwd() + \"/../tests/img.test.dir\""
   ]
  },
  {
   "cell_type": "code",
   "execution_count": null,
   "metadata": {},
   "outputs": [],
   "source": []
  },
  {
   "cell_type": "code",
   "execution_count": null,
   "metadata": {},
   "outputs": [],
   "source": []
  },
  {
   "cell_type": "code",
   "execution_count": null,
   "metadata": {},
   "outputs": [],
   "source": []
  },
  {
   "cell_type": "code",
   "execution_count": 4,
   "metadata": {},
   "outputs": [],
   "source": [
    "import utils.img_dir as id"
   ]
  },
  {
   "cell_type": "code",
   "execution_count": 6,
   "metadata": {},
   "outputs": [],
   "source": [
    "class SubDataInfo():\n",
    "    '''Class instance that creates a data object that organizes a subject's \n",
    "    identification (ID) number, session ID number, and the \n",
    "    path to the image data directory. This information is then stored for \n",
    "    each separate class instance, and can be accessed as shown in the example\n",
    "    usage.\n",
    "    \n",
    "    Usage example:\n",
    "        >>> sub_info = SubDataInfo(sub=\"002\",\n",
    "        ...                        data=\"<path/to/img/data>\",\n",
    "        ...                        ses=\"001\")\n",
    "        >>> sub_info.sub\n",
    "        \"002\"\n",
    "        >>> \n",
    "        >>> sub_info.ses\n",
    "        \"001\"\n",
    "    '''\n",
    "\n",
    "    def __init__(self,\n",
    "                 sub: str,\n",
    "                 data: str,\n",
    "                 ses: Optional[str] = None):\n",
    "        '''Init doc-string for the 'SubDataInfo' class. \n",
    "        \n",
    "        Arguments:\n",
    "            sub: Subject ID.\n",
    "            data: Path to image data directory.\n",
    "            ses: Session ID.\n",
    "        '''\n",
    "        self.sub: str = sub\n",
    "        self.data: str = data\n",
    "        if ses:\n",
    "            self.ses: str = ses\n",
    "        else:\n",
    "            self.ses: str = \"\"\n",
    "    \n",
    "    def __repr__(self):\n",
    "        '''NOTE: Returns string represented as dictionary.'''\n",
    "        return (str({\"sub\": self.sub,\n",
    "                     \"ses\": self.ses,\n",
    "                     \"data\": self.data}))"
   ]
  },
  {
   "cell_type": "code",
   "execution_count": 94,
   "metadata": {},
   "outputs": [],
   "source": [
    "# Deconstruct this function\n",
    "\n",
    "def collect_info(parent_dir: str) -> List[SubDataInfo]:\n",
    "    '''Collects image data information for each subject for a study, \n",
    "    provided there exists some parent directory.\n",
    "\n",
    "    Usage example:\n",
    "        >>> data = collect_info(\"<parent/directory>\")\n",
    "        >>>\n",
    "        >>> data[0].sub\n",
    "        \"<subject_ID>\"\n",
    "        >>> \n",
    "        >>> data[0].data\n",
    "        \"<path/to/data>\"\n",
    "        >>> \n",
    "        >>> data[0].ses\n",
    "        \"<session_ID>\"\n",
    "    \n",
    "    Arguments:\n",
    "        parent_dir: Parent directory that contains each subject.\n",
    "        \n",
    "    Returns:\n",
    "        List/Array of SubDataInfo objects that corresponds to a subject ID, \n",
    "            session ID, and path to medical image directory.\n",
    "    '''\n",
    "    \n",
    "    parent_dir: str = os.path.abspath(parent_dir)\n",
    "    data: List[SubDataInfo] = []\n",
    "\n",
    "    if 'windows' in platform.platform().lower():\n",
    "        path_sep = \"\\\\\"\n",
    "    else:\n",
    "        path_sep = \"/\"\n",
    "    \n",
    "    # Get image directory information\n",
    "    [dir_list, id_list] = id.img_dir_list(directory=parent_dir,\n",
    "                                          verbose=False)\n",
    "\n",
    "    # Iterate through each subject image directory\n",
    "    for img_dir in dir_list:\n",
    "        # Set empty variables\n",
    "        sub: str = \"\"\n",
    "        ses: str = \"\"\n",
    "        img_list: List[str] = []\n",
    "        tmp_list: List[str] = []\n",
    "        \n",
    "        # Get subject and session ID from file path\n",
    "        try:\n",
    "            [sub, ses] = img_dir.replace(parent_dir + path_sep,\"\").split(sep=path_sep)[0].split(sep=\"-\")\n",
    "        except ValueError:\n",
    "            ses = \"\"\n",
    "            sub = img_dir.replace(parent_dir + path_sep,\"\").split(sep=path_sep)[0]\n",
    "                \n",
    "    \n",
    "        # Need function here to glob and grab individual files\n",
    "        tmp_list: List[str] = glob_img(img_dir)\n",
    "        img_list.extend(tmp_list)\n",
    "        \n",
    "        # Need function here to exclude files\n",
    "        \n",
    "        for img in img_list:\n",
    "            # Collect and organize each subjects' session and data\n",
    "            sub_info: SubDataInfo = SubDataInfo(sub=sub,data=img,ses=ses)\n",
    "            data.append(sub_info)\n",
    "        \n",
    "        # Clear variables\n",
    "        del sub, ses\n",
    "        \n",
    "    return data"
   ]
  },
  {
   "cell_type": "code",
   "execution_count": 20,
   "metadata": {},
   "outputs": [],
   "source": [
    "parent_dir = test_dir"
   ]
  },
  {
   "cell_type": "code",
   "execution_count": 21,
   "metadata": {},
   "outputs": [],
   "source": [
    "data: List = []\n",
    "\n",
    "if 'windows' in platform.platform().lower():\n",
    "    path_sep = \"\\\\\"\n",
    "else:\n",
    "    path_sep = \"/\"\n",
    "\n",
    "# Get image directory information\n",
    "[dir_list, id_list] = id.img_dir_list(directory=parent_dir,\n",
    "                                      verbose=False)"
   ]
  },
  {
   "cell_type": "code",
   "execution_count": 25,
   "metadata": {
    "scrolled": true
   },
   "outputs": [
    {
     "data": {
      "text/plain": [
       "'C:\\\\Users\\\\smart\\\\Desktop\\\\projects\\\\cs_med_data\\\\convert_source\\\\tests\\\\img.test.dir\\\\001-001\\\\NIFTI'"
      ]
     },
     "execution_count": 25,
     "metadata": {},
     "output_type": "execute_result"
    }
   ],
   "source": [
    "dir_list[1]"
   ]
  },
  {
   "cell_type": "code",
   "execution_count": 27,
   "metadata": {
    "scrolled": true
   },
   "outputs": [
    {
     "data": {
      "text/plain": [
       "['C:\\\\Users\\\\smart\\\\Desktop\\\\projects\\\\cs_med_data\\\\convert_source\\\\tests\\\\img.test.dir\\\\001-001\\\\NIFTI\\\\DWI_32dir.nii.gz',\n",
       " 'C:\\\\Users\\\\smart\\\\Desktop\\\\projects\\\\cs_med_data\\\\convert_source\\\\tests\\\\img.test.dir\\\\001-001\\\\NIFTI\\\\DWI_68dir.nii.gz',\n",
       " 'C:\\\\Users\\\\smart\\\\Desktop\\\\projects\\\\cs_med_data\\\\convert_source\\\\tests\\\\img.test.dir\\\\001-001\\\\NIFTI\\\\DWI_sbref.nii.gz',\n",
       " 'C:\\\\Users\\\\smart\\\\Desktop\\\\projects\\\\cs_med_data\\\\convert_source\\\\tests\\\\img.test.dir\\\\001-001\\\\NIFTI\\\\FLAIR.nii.gz',\n",
       " 'C:\\\\Users\\\\smart\\\\Desktop\\\\projects\\\\cs_med_data\\\\convert_source\\\\tests\\\\img.test.dir\\\\001-001\\\\NIFTI\\\\rs-func.nii.gz',\n",
       " 'C:\\\\Users\\\\smart\\\\Desktop\\\\projects\\\\cs_med_data\\\\convert_source\\\\tests\\\\img.test.dir\\\\001-001\\\\NIFTI\\\\rs-func_sbref.nii.gz',\n",
       " 'C:\\\\Users\\\\smart\\\\Desktop\\\\projects\\\\cs_med_data\\\\convert_source\\\\tests\\\\img.test.dir\\\\001-001\\\\NIFTI\\\\SWI.nii.gz',\n",
       " 'C:\\\\Users\\\\smart\\\\Desktop\\\\projects\\\\cs_med_data\\\\convert_source\\\\tests\\\\img.test.dir\\\\001-001\\\\NIFTI\\\\T1.nii.gz',\n",
       " 'C:\\\\Users\\\\smart\\\\Desktop\\\\projects\\\\cs_med_data\\\\convert_source\\\\tests\\\\img.test.dir\\\\001-001\\\\NIFTI\\\\T2.nii.gz',\n",
       " 'C:\\\\Users\\\\smart\\\\Desktop\\\\projects\\\\cs_med_data\\\\convert_source\\\\tests\\\\img.test.dir\\\\001-001\\\\NIFTI\\\\task-1-func.nii.gz',\n",
       " 'C:\\\\Users\\\\smart\\\\Desktop\\\\projects\\\\cs_med_data\\\\convert_source\\\\tests\\\\img.test.dir\\\\001-001\\\\NIFTI\\\\task-2-func.nii.gz',\n",
       " 'C:\\\\Users\\\\smart\\\\Desktop\\\\projects\\\\cs_med_data\\\\convert_source\\\\tests\\\\img.test.dir\\\\001-001\\\\NIFTI\\\\task-func_sbref.nii.gz']"
      ]
     },
     "execution_count": 27,
     "metadata": {},
     "output_type": "execute_result"
    }
   ],
   "source": [
    "dir_search = os.path.join(dir_list[1],\"*.nii*\")\n",
    "glob.glob(dir_search)"
   ]
  },
  {
   "cell_type": "code",
   "execution_count": 29,
   "metadata": {
    "scrolled": true
   },
   "outputs": [
    {
     "data": {
      "text/plain": [
       "['C:\\\\Users\\\\smart\\\\Desktop\\\\projects\\\\cs_med_data\\\\convert_source\\\\tests\\\\img.test.dir\\\\001-001\\\\PAR REC\\\\DWI_32dir.PAR',\n",
       " 'C:\\\\Users\\\\smart\\\\Desktop\\\\projects\\\\cs_med_data\\\\convert_source\\\\tests\\\\img.test.dir\\\\001-001\\\\PAR REC\\\\DWI_68dir.PAR',\n",
       " 'C:\\\\Users\\\\smart\\\\Desktop\\\\projects\\\\cs_med_data\\\\convert_source\\\\tests\\\\img.test.dir\\\\001-001\\\\PAR REC\\\\DWI_sbref.PAR',\n",
       " 'C:\\\\Users\\\\smart\\\\Desktop\\\\projects\\\\cs_med_data\\\\convert_source\\\\tests\\\\img.test.dir\\\\001-001\\\\PAR REC\\\\FLAIR.PAR',\n",
       " 'C:\\\\Users\\\\smart\\\\Desktop\\\\projects\\\\cs_med_data\\\\convert_source\\\\tests\\\\img.test.dir\\\\001-001\\\\PAR REC\\\\rs-func.PAR',\n",
       " 'C:\\\\Users\\\\smart\\\\Desktop\\\\projects\\\\cs_med_data\\\\convert_source\\\\tests\\\\img.test.dir\\\\001-001\\\\PAR REC\\\\rs-func_sbref.PAR',\n",
       " 'C:\\\\Users\\\\smart\\\\Desktop\\\\projects\\\\cs_med_data\\\\convert_source\\\\tests\\\\img.test.dir\\\\001-001\\\\PAR REC\\\\SWI.PAR',\n",
       " 'C:\\\\Users\\\\smart\\\\Desktop\\\\projects\\\\cs_med_data\\\\convert_source\\\\tests\\\\img.test.dir\\\\001-001\\\\PAR REC\\\\T1.PAR',\n",
       " 'C:\\\\Users\\\\smart\\\\Desktop\\\\projects\\\\cs_med_data\\\\convert_source\\\\tests\\\\img.test.dir\\\\001-001\\\\PAR REC\\\\T2.PAR',\n",
       " 'C:\\\\Users\\\\smart\\\\Desktop\\\\projects\\\\cs_med_data\\\\convert_source\\\\tests\\\\img.test.dir\\\\001-001\\\\PAR REC\\\\task-1-func.PAR',\n",
       " 'C:\\\\Users\\\\smart\\\\Desktop\\\\projects\\\\cs_med_data\\\\convert_source\\\\tests\\\\img.test.dir\\\\001-001\\\\PAR REC\\\\task-2-func.PAR',\n",
       " 'C:\\\\Users\\\\smart\\\\Desktop\\\\projects\\\\cs_med_data\\\\convert_source\\\\tests\\\\img.test.dir\\\\001-001\\\\PAR REC\\\\task-func_sbref.PAR']"
      ]
     },
     "execution_count": 29,
     "metadata": {},
     "output_type": "execute_result"
    }
   ],
   "source": [
    "dir_search = os.path.join(dir_list[2],\"*.PAR*\")\n",
    "glob.glob(dir_search)"
   ]
  },
  {
   "cell_type": "code",
   "execution_count": 30,
   "metadata": {},
   "outputs": [
    {
     "data": {
      "text/plain": [
       "'C:\\\\Users\\\\smart\\\\Desktop\\\\projects\\\\cs_med_data\\\\convert_source\\\\tests\\\\img.test.dir\\\\001-001\\\\DICOM\\\\20211701'"
      ]
     },
     "execution_count": 30,
     "metadata": {},
     "output_type": "execute_result"
    }
   ],
   "source": [
    "dir_list[0]"
   ]
  },
  {
   "cell_type": "code",
   "execution_count": 33,
   "metadata": {},
   "outputs": [
    {
     "data": {
      "text/plain": [
       "['C:\\\\Users\\\\smart\\\\Desktop\\\\projects\\\\cs_med_data\\\\convert_source\\\\tests\\\\img.test.dir\\\\001-001\\\\DICOM\\\\20211701\\\\DWI_32dir',\n",
       " 'C:\\\\Users\\\\smart\\\\Desktop\\\\projects\\\\cs_med_data\\\\convert_source\\\\tests\\\\img.test.dir\\\\001-001\\\\DICOM\\\\20211701\\\\DWI_68dir',\n",
       " 'C:\\\\Users\\\\smart\\\\Desktop\\\\projects\\\\cs_med_data\\\\convert_source\\\\tests\\\\img.test.dir\\\\001-001\\\\DICOM\\\\20211701\\\\DWI_sbref',\n",
       " 'C:\\\\Users\\\\smart\\\\Desktop\\\\projects\\\\cs_med_data\\\\convert_source\\\\tests\\\\img.test.dir\\\\001-001\\\\DICOM\\\\20211701\\\\FLAIR',\n",
       " 'C:\\\\Users\\\\smart\\\\Desktop\\\\projects\\\\cs_med_data\\\\convert_source\\\\tests\\\\img.test.dir\\\\001-001\\\\DICOM\\\\20211701\\\\rs-func',\n",
       " 'C:\\\\Users\\\\smart\\\\Desktop\\\\projects\\\\cs_med_data\\\\convert_source\\\\tests\\\\img.test.dir\\\\001-001\\\\DICOM\\\\20211701\\\\rs-func_sbref',\n",
       " 'C:\\\\Users\\\\smart\\\\Desktop\\\\projects\\\\cs_med_data\\\\convert_source\\\\tests\\\\img.test.dir\\\\001-001\\\\DICOM\\\\20211701\\\\SWI',\n",
       " 'C:\\\\Users\\\\smart\\\\Desktop\\\\projects\\\\cs_med_data\\\\convert_source\\\\tests\\\\img.test.dir\\\\001-001\\\\DICOM\\\\20211701\\\\T1',\n",
       " 'C:\\\\Users\\\\smart\\\\Desktop\\\\projects\\\\cs_med_data\\\\convert_source\\\\tests\\\\img.test.dir\\\\001-001\\\\DICOM\\\\20211701\\\\T2',\n",
       " 'C:\\\\Users\\\\smart\\\\Desktop\\\\projects\\\\cs_med_data\\\\convert_source\\\\tests\\\\img.test.dir\\\\001-001\\\\DICOM\\\\20211701\\\\task-1-func',\n",
       " 'C:\\\\Users\\\\smart\\\\Desktop\\\\projects\\\\cs_med_data\\\\convert_source\\\\tests\\\\img.test.dir\\\\001-001\\\\DICOM\\\\20211701\\\\task-2-func',\n",
       " 'C:\\\\Users\\\\smart\\\\Desktop\\\\projects\\\\cs_med_data\\\\convert_source\\\\tests\\\\img.test.dir\\\\001-001\\\\DICOM\\\\20211701\\\\task-func_sbref']"
      ]
     },
     "execution_count": 33,
     "metadata": {},
     "output_type": "execute_result"
    }
   ],
   "source": [
    "dir_search = os.path.join(dir_list[0],\"*\")\n",
    "dcm_dir_list = glob.glob(dir_search)\n",
    "dcm_dir_list"
   ]
  },
  {
   "cell_type": "code",
   "execution_count": 34,
   "metadata": {},
   "outputs": [],
   "source": [
    "dcm_files = []"
   ]
  },
  {
   "cell_type": "code",
   "execution_count": 35,
   "metadata": {
    "scrolled": true
   },
   "outputs": [
    {
     "data": {
      "text/plain": [
       "['C:\\\\Users\\\\smart\\\\Desktop\\\\projects\\\\cs_med_data\\\\convert_source\\\\tests\\\\img.test.dir\\\\001-001\\\\DICOM\\\\20211701\\\\DWI_32dir\\\\00000001.dcm',\n",
       " 'C:\\\\Users\\\\smart\\\\Desktop\\\\projects\\\\cs_med_data\\\\convert_source\\\\tests\\\\img.test.dir\\\\001-001\\\\DICOM\\\\20211701\\\\DWI_68dir\\\\00000001.dcm',\n",
       " 'C:\\\\Users\\\\smart\\\\Desktop\\\\projects\\\\cs_med_data\\\\convert_source\\\\tests\\\\img.test.dir\\\\001-001\\\\DICOM\\\\20211701\\\\DWI_sbref\\\\00000001.dcm',\n",
       " 'C:\\\\Users\\\\smart\\\\Desktop\\\\projects\\\\cs_med_data\\\\convert_source\\\\tests\\\\img.test.dir\\\\001-001\\\\DICOM\\\\20211701\\\\FLAIR\\\\00000001.dcm',\n",
       " 'C:\\\\Users\\\\smart\\\\Desktop\\\\projects\\\\cs_med_data\\\\convert_source\\\\tests\\\\img.test.dir\\\\001-001\\\\DICOM\\\\20211701\\\\rs-func\\\\00000001.dcm',\n",
       " 'C:\\\\Users\\\\smart\\\\Desktop\\\\projects\\\\cs_med_data\\\\convert_source\\\\tests\\\\img.test.dir\\\\001-001\\\\DICOM\\\\20211701\\\\rs-func_sbref\\\\00000001.dcm',\n",
       " 'C:\\\\Users\\\\smart\\\\Desktop\\\\projects\\\\cs_med_data\\\\convert_source\\\\tests\\\\img.test.dir\\\\001-001\\\\DICOM\\\\20211701\\\\SWI\\\\00000001.dcm',\n",
       " 'C:\\\\Users\\\\smart\\\\Desktop\\\\projects\\\\cs_med_data\\\\convert_source\\\\tests\\\\img.test.dir\\\\001-001\\\\DICOM\\\\20211701\\\\T1\\\\00000001.dcm',\n",
       " 'C:\\\\Users\\\\smart\\\\Desktop\\\\projects\\\\cs_med_data\\\\convert_source\\\\tests\\\\img.test.dir\\\\001-001\\\\DICOM\\\\20211701\\\\T2\\\\00000001.dcm',\n",
       " 'C:\\\\Users\\\\smart\\\\Desktop\\\\projects\\\\cs_med_data\\\\convert_source\\\\tests\\\\img.test.dir\\\\001-001\\\\DICOM\\\\20211701\\\\task-1-func\\\\00000001.dcm',\n",
       " 'C:\\\\Users\\\\smart\\\\Desktop\\\\projects\\\\cs_med_data\\\\convert_source\\\\tests\\\\img.test.dir\\\\001-001\\\\DICOM\\\\20211701\\\\task-2-func\\\\00000001.dcm',\n",
       " 'C:\\\\Users\\\\smart\\\\Desktop\\\\projects\\\\cs_med_data\\\\convert_source\\\\tests\\\\img.test.dir\\\\001-001\\\\DICOM\\\\20211701\\\\task-func_sbref\\\\00000001.dcm']"
      ]
     },
     "execution_count": 35,
     "metadata": {},
     "output_type": "execute_result"
    }
   ],
   "source": [
    "for dir_ in dcm_dir_list:\n",
    "# print(dir_)\n",
    "    for root, dirs, files in os.walk(dir_):\n",
    "        tmp_dcm_file = files[0] # only need the first dicom file\n",
    "        tmp_dcm_dir = root\n",
    "        tmp_file = os.path.join(tmp_dcm_dir, tmp_dcm_file)\n",
    "\n",
    "        dcm_files.append(tmp_file)\n",
    "        break\n",
    "dcm_files"
   ]
  },
  {
   "cell_type": "code",
   "execution_count": 48,
   "metadata": {},
   "outputs": [],
   "source": [
    "def glob_dcm(dcm_dir: str) -> List[str]:\n",
    "    '''Globs subject DICOM data directories for the top-most DICOM file\n",
    "    in each respective directory.\n",
    "    \n",
    "    Example usage:\n",
    "        >>> dcm_files = glob_dcm(dcm_dir)\n",
    "        \n",
    "    Arguments:\n",
    "        dcm_dir: Subject DICOM data directory.\n",
    "        \n",
    "    Returns:\n",
    "        List of strings of image files.\n",
    "    '''\n",
    "    dcm_dir: str = os.path.abspath(dcm_dir)\n",
    "    dir_search: str = os.path.join(dcm_dir,\"*\")\n",
    "    dcm_dir_list: List[str] = glob.glob(dir_search)\n",
    "    \n",
    "    dcm_files: List[str] = []\n",
    "    \n",
    "    for dir_ in dcm_dir_list:\n",
    "        for root, dirs, files in os.walk(dir_):\n",
    "            # only need the first DICOM file\n",
    "            tmp_dcm_file = files[0]\n",
    "            tmp_dcm_dir = root\n",
    "            tmp_file = os.path.join(tmp_dcm_dir, tmp_dcm_file)\n",
    "\n",
    "            dcm_files.append(tmp_file)\n",
    "            break\n",
    "    return dcm_files"
   ]
  },
  {
   "cell_type": "code",
   "execution_count": 46,
   "metadata": {},
   "outputs": [
    {
     "data": {
      "text/plain": [
       "[]"
      ]
     },
     "execution_count": 46,
     "metadata": {},
     "output_type": "execute_result"
    }
   ],
   "source": [
    "glob_dcm(dir_list[1])"
   ]
  },
  {
   "cell_type": "code",
   "execution_count": 89,
   "metadata": {},
   "outputs": [],
   "source": [
    "def glob_img(img_dir: str) -> List[str]:\n",
    "    '''Globs image data files given a subject image data directory.\n",
    "    The image file types that are search for are:\n",
    "        * DICOMs\n",
    "        * PAR RECs\n",
    "        * NIFTIs\n",
    "    \n",
    "    Example usage:\n",
    "        >>> img_list = glob_img(img_dir)\n",
    "        \n",
    "    Arguments:\n",
    "        img_dir: Path to image directory.\n",
    "        \n",
    "    Returns:\n",
    "        List of strings of file paths to images.\n",
    "    '''\n",
    "    \n",
    "    # Listed in most desirable order\n",
    "    img_types: List[str] = [ \"dcm\", \"PAR\", \"nii\" ]\n",
    "        \n",
    "    img_list: List[str] = []\n",
    "        \n",
    "    for img_type in img_types:\n",
    "                \n",
    "        dir_search: str = os.path.join(img_dir,f\"*.{img_type}*\")\n",
    "        tmp_list: List[str] = glob.glob(dir_search)\n",
    "        img_list.extend(tmp_list)\n",
    "        \n",
    "        tmp_list: List[str] = glob_dcm(dcm_dir=img_dir)\n",
    "        img_list.extend(tmp_list)\n",
    "    \n",
    "    return img_list"
   ]
  },
  {
   "cell_type": "code",
   "execution_count": 53,
   "metadata": {
    "scrolled": true
   },
   "outputs": [
    {
     "data": {
      "text/plain": [
       "['C:\\\\Users\\\\smart\\\\Desktop\\\\projects\\\\cs_med_data\\\\convert_source\\\\tests\\\\img.test.dir\\\\002-001\\\\DICOM\\\\20211701\\\\DWI_32dir\\\\00000001.dcm',\n",
       " 'C:\\\\Users\\\\smart\\\\Desktop\\\\projects\\\\cs_med_data\\\\convert_source\\\\tests\\\\img.test.dir\\\\002-001\\\\DICOM\\\\20211701\\\\DWI_68dir\\\\00000001.dcm',\n",
       " 'C:\\\\Users\\\\smart\\\\Desktop\\\\projects\\\\cs_med_data\\\\convert_source\\\\tests\\\\img.test.dir\\\\002-001\\\\DICOM\\\\20211701\\\\DWI_sbref\\\\00000001.dcm',\n",
       " 'C:\\\\Users\\\\smart\\\\Desktop\\\\projects\\\\cs_med_data\\\\convert_source\\\\tests\\\\img.test.dir\\\\002-001\\\\DICOM\\\\20211701\\\\FLAIR\\\\00000001.dcm',\n",
       " 'C:\\\\Users\\\\smart\\\\Desktop\\\\projects\\\\cs_med_data\\\\convert_source\\\\tests\\\\img.test.dir\\\\002-001\\\\DICOM\\\\20211701\\\\rs-func\\\\00000001.dcm',\n",
       " 'C:\\\\Users\\\\smart\\\\Desktop\\\\projects\\\\cs_med_data\\\\convert_source\\\\tests\\\\img.test.dir\\\\002-001\\\\DICOM\\\\20211701\\\\rs-func_sbref\\\\00000001.dcm',\n",
       " 'C:\\\\Users\\\\smart\\\\Desktop\\\\projects\\\\cs_med_data\\\\convert_source\\\\tests\\\\img.test.dir\\\\002-001\\\\DICOM\\\\20211701\\\\SWI\\\\00000001.dcm',\n",
       " 'C:\\\\Users\\\\smart\\\\Desktop\\\\projects\\\\cs_med_data\\\\convert_source\\\\tests\\\\img.test.dir\\\\002-001\\\\DICOM\\\\20211701\\\\T1\\\\00000001.dcm',\n",
       " 'C:\\\\Users\\\\smart\\\\Desktop\\\\projects\\\\cs_med_data\\\\convert_source\\\\tests\\\\img.test.dir\\\\002-001\\\\DICOM\\\\20211701\\\\T2\\\\00000001.dcm',\n",
       " 'C:\\\\Users\\\\smart\\\\Desktop\\\\projects\\\\cs_med_data\\\\convert_source\\\\tests\\\\img.test.dir\\\\002-001\\\\DICOM\\\\20211701\\\\task-1-func\\\\00000001.dcm',\n",
       " 'C:\\\\Users\\\\smart\\\\Desktop\\\\projects\\\\cs_med_data\\\\convert_source\\\\tests\\\\img.test.dir\\\\002-001\\\\DICOM\\\\20211701\\\\task-2-func\\\\00000001.dcm',\n",
       " 'C:\\\\Users\\\\smart\\\\Desktop\\\\projects\\\\cs_med_data\\\\convert_source\\\\tests\\\\img.test.dir\\\\002-001\\\\DICOM\\\\20211701\\\\task-func_sbref\\\\00000001.dcm',\n",
       " 'C:\\\\Users\\\\smart\\\\Desktop\\\\projects\\\\cs_med_data\\\\convert_source\\\\tests\\\\img.test.dir\\\\002-001\\\\DICOM\\\\20211701\\\\DWI_32dir\\\\00000001.dcm',\n",
       " 'C:\\\\Users\\\\smart\\\\Desktop\\\\projects\\\\cs_med_data\\\\convert_source\\\\tests\\\\img.test.dir\\\\002-001\\\\DICOM\\\\20211701\\\\DWI_68dir\\\\00000001.dcm',\n",
       " 'C:\\\\Users\\\\smart\\\\Desktop\\\\projects\\\\cs_med_data\\\\convert_source\\\\tests\\\\img.test.dir\\\\002-001\\\\DICOM\\\\20211701\\\\DWI_sbref\\\\00000001.dcm',\n",
       " 'C:\\\\Users\\\\smart\\\\Desktop\\\\projects\\\\cs_med_data\\\\convert_source\\\\tests\\\\img.test.dir\\\\002-001\\\\DICOM\\\\20211701\\\\FLAIR\\\\00000001.dcm',\n",
       " 'C:\\\\Users\\\\smart\\\\Desktop\\\\projects\\\\cs_med_data\\\\convert_source\\\\tests\\\\img.test.dir\\\\002-001\\\\DICOM\\\\20211701\\\\rs-func\\\\00000001.dcm',\n",
       " 'C:\\\\Users\\\\smart\\\\Desktop\\\\projects\\\\cs_med_data\\\\convert_source\\\\tests\\\\img.test.dir\\\\002-001\\\\DICOM\\\\20211701\\\\rs-func_sbref\\\\00000001.dcm',\n",
       " 'C:\\\\Users\\\\smart\\\\Desktop\\\\projects\\\\cs_med_data\\\\convert_source\\\\tests\\\\img.test.dir\\\\002-001\\\\DICOM\\\\20211701\\\\SWI\\\\00000001.dcm',\n",
       " 'C:\\\\Users\\\\smart\\\\Desktop\\\\projects\\\\cs_med_data\\\\convert_source\\\\tests\\\\img.test.dir\\\\002-001\\\\DICOM\\\\20211701\\\\T1\\\\00000001.dcm',\n",
       " 'C:\\\\Users\\\\smart\\\\Desktop\\\\projects\\\\cs_med_data\\\\convert_source\\\\tests\\\\img.test.dir\\\\002-001\\\\DICOM\\\\20211701\\\\T2\\\\00000001.dcm',\n",
       " 'C:\\\\Users\\\\smart\\\\Desktop\\\\projects\\\\cs_med_data\\\\convert_source\\\\tests\\\\img.test.dir\\\\002-001\\\\DICOM\\\\20211701\\\\task-1-func\\\\00000001.dcm',\n",
       " 'C:\\\\Users\\\\smart\\\\Desktop\\\\projects\\\\cs_med_data\\\\convert_source\\\\tests\\\\img.test.dir\\\\002-001\\\\DICOM\\\\20211701\\\\task-2-func\\\\00000001.dcm',\n",
       " 'C:\\\\Users\\\\smart\\\\Desktop\\\\projects\\\\cs_med_data\\\\convert_source\\\\tests\\\\img.test.dir\\\\002-001\\\\DICOM\\\\20211701\\\\task-func_sbref\\\\00000001.dcm',\n",
       " 'C:\\\\Users\\\\smart\\\\Desktop\\\\projects\\\\cs_med_data\\\\convert_source\\\\tests\\\\img.test.dir\\\\002-001\\\\DICOM\\\\20211701\\\\DWI_32dir\\\\00000001.dcm',\n",
       " 'C:\\\\Users\\\\smart\\\\Desktop\\\\projects\\\\cs_med_data\\\\convert_source\\\\tests\\\\img.test.dir\\\\002-001\\\\DICOM\\\\20211701\\\\DWI_68dir\\\\00000001.dcm',\n",
       " 'C:\\\\Users\\\\smart\\\\Desktop\\\\projects\\\\cs_med_data\\\\convert_source\\\\tests\\\\img.test.dir\\\\002-001\\\\DICOM\\\\20211701\\\\DWI_sbref\\\\00000001.dcm',\n",
       " 'C:\\\\Users\\\\smart\\\\Desktop\\\\projects\\\\cs_med_data\\\\convert_source\\\\tests\\\\img.test.dir\\\\002-001\\\\DICOM\\\\20211701\\\\FLAIR\\\\00000001.dcm',\n",
       " 'C:\\\\Users\\\\smart\\\\Desktop\\\\projects\\\\cs_med_data\\\\convert_source\\\\tests\\\\img.test.dir\\\\002-001\\\\DICOM\\\\20211701\\\\rs-func\\\\00000001.dcm',\n",
       " 'C:\\\\Users\\\\smart\\\\Desktop\\\\projects\\\\cs_med_data\\\\convert_source\\\\tests\\\\img.test.dir\\\\002-001\\\\DICOM\\\\20211701\\\\rs-func_sbref\\\\00000001.dcm',\n",
       " 'C:\\\\Users\\\\smart\\\\Desktop\\\\projects\\\\cs_med_data\\\\convert_source\\\\tests\\\\img.test.dir\\\\002-001\\\\DICOM\\\\20211701\\\\SWI\\\\00000001.dcm',\n",
       " 'C:\\\\Users\\\\smart\\\\Desktop\\\\projects\\\\cs_med_data\\\\convert_source\\\\tests\\\\img.test.dir\\\\002-001\\\\DICOM\\\\20211701\\\\T1\\\\00000001.dcm',\n",
       " 'C:\\\\Users\\\\smart\\\\Desktop\\\\projects\\\\cs_med_data\\\\convert_source\\\\tests\\\\img.test.dir\\\\002-001\\\\DICOM\\\\20211701\\\\T2\\\\00000001.dcm',\n",
       " 'C:\\\\Users\\\\smart\\\\Desktop\\\\projects\\\\cs_med_data\\\\convert_source\\\\tests\\\\img.test.dir\\\\002-001\\\\DICOM\\\\20211701\\\\task-1-func\\\\00000001.dcm',\n",
       " 'C:\\\\Users\\\\smart\\\\Desktop\\\\projects\\\\cs_med_data\\\\convert_source\\\\tests\\\\img.test.dir\\\\002-001\\\\DICOM\\\\20211701\\\\task-2-func\\\\00000001.dcm',\n",
       " 'C:\\\\Users\\\\smart\\\\Desktop\\\\projects\\\\cs_med_data\\\\convert_source\\\\tests\\\\img.test.dir\\\\002-001\\\\DICOM\\\\20211701\\\\task-func_sbref\\\\00000001.dcm']"
      ]
     },
     "execution_count": 53,
     "metadata": {},
     "output_type": "execute_result"
    }
   ],
   "source": [
    "glob_img(dir_list[3])"
   ]
  },
  {
   "cell_type": "code",
   "execution_count": 91,
   "metadata": {},
   "outputs": [],
   "source": [
    "data = collect_info(parent_dir=test_dir)"
   ]
  },
  {
   "cell_type": "code",
   "execution_count": 92,
   "metadata": {},
   "outputs": [
    {
     "data": {
      "text/plain": [
       "720"
      ]
     },
     "execution_count": 92,
     "metadata": {},
     "output_type": "execute_result"
    }
   ],
   "source": [
    "len(data)"
   ]
  },
  {
   "cell_type": "code",
   "execution_count": 93,
   "metadata": {},
   "outputs": [
    {
     "data": {
      "text/plain": [
       "{'sub': '002', 'ses': '001', 'data': 'C:\\\\Users\\\\smart\\\\Desktop\\\\projects\\\\cs_med_data\\\\convert_source\\\\tests\\\\img.test.dir\\\\002-001\\\\DICOM\\\\20211701\\\\task-2-func\\\\00000001.dcm'}"
      ]
     },
     "execution_count": 93,
     "metadata": {},
     "output_type": "execute_result"
    }
   ],
   "source": [
    "data[70]"
   ]
  },
  {
   "cell_type": "code",
   "execution_count": null,
   "metadata": {},
   "outputs": [],
   "source": []
  }
 ],
 "metadata": {
  "kernelspec": {
   "display_name": "Python 3",
   "language": "python",
   "name": "python3"
  },
  "language_info": {
   "codemirror_mode": {
    "name": "ipython",
    "version": 3
   },
   "file_extension": ".py",
   "mimetype": "text/x-python",
   "name": "python",
   "nbconvert_exporter": "python",
   "pygments_lexer": "ipython3",
   "version": "3.6.8"
  }
 },
 "nbformat": 4,
 "nbformat_minor": 2
}
