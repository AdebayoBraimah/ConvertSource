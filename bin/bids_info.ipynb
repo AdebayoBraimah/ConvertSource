{
 "cells": [
  {
   "cell_type": "code",
   "execution_count": 4,
   "metadata": {},
   "outputs": [],
   "source": [
    "import os\n",
    "from typing import (\n",
    "    List, \n",
    "    Dict, \n",
    "    Optional \n",
    ")\n",
    "from collections import OrderedDict"
   ]
  },
  {
   "cell_type": "code",
   "execution_count": null,
   "metadata": {},
   "outputs": [],
   "source": [
    "# NOTE:\n",
    "# - find way to create switch statement in python"
   ]
  },
  {
   "cell_type": "code",
   "execution_count": 5,
   "metadata": {},
   "outputs": [
    {
     "output_type": "execute_result",
     "data": {
      "text/plain": [
       "'c:\\\\Users\\\\smart\\\\Desktop\\\\projects\\\\cs_med_data\\\\convert_source\\\\bin'"
      ]
     },
     "metadata": {},
     "execution_count": 5
    }
   ],
   "source": [
    "os.getcwd()"
   ]
  },
  {
   "cell_type": "code",
   "execution_count": 10,
   "metadata": {},
   "outputs": [],
   "source": [
    "# test_dir = \"../tests/img.test.dir/001-001/PAR REC\"\n",
    "test_dir = \"../tests/img.test.dir\""
   ]
  },
  {
   "cell_type": "code",
   "execution_count": 11,
   "metadata": {},
   "outputs": [
    {
     "output_type": "execute_result",
     "data": {
      "text/plain": [
       "['001-001',\n",
       " '002-001',\n",
       " '003-001',\n",
       " '900XXT5',\n",
       " '901XXP5',\n",
       " '902XXY8',\n",
       " 'C01-001',\n",
       " 'C02-001',\n",
       " 'C03-001',\n",
       " 'P01-001',\n",
       " 'P02-001',\n",
       " 'P03-001']"
      ]
     },
     "metadata": {},
     "execution_count": 11
    }
   ],
   "source": [
    "os.listdir(test_dir)"
   ]
  },
  {
   "cell_type": "code",
   "execution_count": 2,
   "metadata": {},
   "outputs": [],
   "source": [
    "import utils.img_dir as id\n",
    "from utils.file_utils import dict_multi_update"
   ]
  },
  {
   "cell_type": "code",
   "execution_count": 16,
   "metadata": {},
   "outputs": [],
   "source": [
    "dir_list,type_list = id.img_dir_list(test_dir)"
   ]
  },
  {
   "cell_type": "code",
   "execution_count": 17,
   "metadata": {},
   "outputs": [
    {
     "output_type": "execute_result",
     "data": {
      "text/plain": [
       "['c:\\\\Users\\\\smart\\\\Desktop\\\\projects\\\\cs_med_data\\\\convert_source\\\\tests\\\\img.test.dir\\\\001-001\\\\DICOM\\\\20211701',\n",
       " 'c:\\\\Users\\\\smart\\\\Desktop\\\\projects\\\\cs_med_data\\\\convert_source\\\\tests\\\\img.test.dir\\\\001-001\\\\NIFTI',\n",
       " 'c:\\\\Users\\\\smart\\\\Desktop\\\\projects\\\\cs_med_data\\\\convert_source\\\\tests\\\\img.test.dir\\\\001-001\\\\PAR REC',\n",
       " 'c:\\\\Users\\\\smart\\\\Desktop\\\\projects\\\\cs_med_data\\\\convert_source\\\\tests\\\\img.test.dir\\\\002-001\\\\DICOM\\\\20211701',\n",
       " 'c:\\\\Users\\\\smart\\\\Desktop\\\\projects\\\\cs_med_data\\\\convert_source\\\\tests\\\\img.test.dir\\\\002-001\\\\NIFTI',\n",
       " 'c:\\\\Users\\\\smart\\\\Desktop\\\\projects\\\\cs_med_data\\\\convert_source\\\\tests\\\\img.test.dir\\\\002-001\\\\PAR REC',\n",
       " 'c:\\\\Users\\\\smart\\\\Desktop\\\\projects\\\\cs_med_data\\\\convert_source\\\\tests\\\\img.test.dir\\\\003-001\\\\DICOM\\\\20211701',\n",
       " 'c:\\\\Users\\\\smart\\\\Desktop\\\\projects\\\\cs_med_data\\\\convert_source\\\\tests\\\\img.test.dir\\\\003-001\\\\NIFTI',\n",
       " 'c:\\\\Users\\\\smart\\\\Desktop\\\\projects\\\\cs_med_data\\\\convert_source\\\\tests\\\\img.test.dir\\\\003-001\\\\PAR REC',\n",
       " 'c:\\\\Users\\\\smart\\\\Desktop\\\\projects\\\\cs_med_data\\\\convert_source\\\\tests\\\\img.test.dir\\\\900XXT5\\\\DICOM\\\\20211701\\\\NAME^ 20201701',\n",
       " 'c:\\\\Users\\\\smart\\\\Desktop\\\\projects\\\\cs_med_data\\\\convert_source\\\\tests\\\\img.test.dir\\\\900XXT5\\\\NIFTI\\\\NAME^ 20201701',\n",
       " 'c:\\\\Users\\\\smart\\\\Desktop\\\\projects\\\\cs_med_data\\\\convert_source\\\\tests\\\\img.test.dir\\\\900XXT5\\\\PAR REC\\\\NAME^ 20201701',\n",
       " 'c:\\\\Users\\\\smart\\\\Desktop\\\\projects\\\\cs_med_data\\\\convert_source\\\\tests\\\\img.test.dir\\\\901XXP5\\\\DICOM\\\\20211701\\\\NAME^ 20201701',\n",
       " 'c:\\\\Users\\\\smart\\\\Desktop\\\\projects\\\\cs_med_data\\\\convert_source\\\\tests\\\\img.test.dir\\\\901XXP5\\\\NIFTI\\\\NAME^ 20201701',\n",
       " 'c:\\\\Users\\\\smart\\\\Desktop\\\\projects\\\\cs_med_data\\\\convert_source\\\\tests\\\\img.test.dir\\\\901XXP5\\\\PAR REC\\\\NAME^ 20201701',\n",
       " 'c:\\\\Users\\\\smart\\\\Desktop\\\\projects\\\\cs_med_data\\\\convert_source\\\\tests\\\\img.test.dir\\\\902XXY8\\\\DICOM\\\\20211701\\\\NAME^ 20201701',\n",
       " 'c:\\\\Users\\\\smart\\\\Desktop\\\\projects\\\\cs_med_data\\\\convert_source\\\\tests\\\\img.test.dir\\\\902XXY8\\\\NIFTI\\\\NAME^ 20201701',\n",
       " 'c:\\\\Users\\\\smart\\\\Desktop\\\\projects\\\\cs_med_data\\\\convert_source\\\\tests\\\\img.test.dir\\\\902XXY8\\\\PAR REC\\\\NAME^ 20201701',\n",
       " 'c:\\\\Users\\\\smart\\\\Desktop\\\\projects\\\\cs_med_data\\\\convert_source\\\\tests\\\\img.test.dir\\\\C01-001\\\\DICOM\\\\20211701',\n",
       " 'c:\\\\Users\\\\smart\\\\Desktop\\\\projects\\\\cs_med_data\\\\convert_source\\\\tests\\\\img.test.dir\\\\C01-001\\\\NIFTI',\n",
       " 'c:\\\\Users\\\\smart\\\\Desktop\\\\projects\\\\cs_med_data\\\\convert_source\\\\tests\\\\img.test.dir\\\\C01-001\\\\PAR REC',\n",
       " 'c:\\\\Users\\\\smart\\\\Desktop\\\\projects\\\\cs_med_data\\\\convert_source\\\\tests\\\\img.test.dir\\\\C02-001\\\\DICOM\\\\20211701',\n",
       " 'c:\\\\Users\\\\smart\\\\Desktop\\\\projects\\\\cs_med_data\\\\convert_source\\\\tests\\\\img.test.dir\\\\C02-001\\\\NIFTI',\n",
       " 'c:\\\\Users\\\\smart\\\\Desktop\\\\projects\\\\cs_med_data\\\\convert_source\\\\tests\\\\img.test.dir\\\\C02-001\\\\PAR REC',\n",
       " 'c:\\\\Users\\\\smart\\\\Desktop\\\\projects\\\\cs_med_data\\\\convert_source\\\\tests\\\\img.test.dir\\\\C03-001\\\\DICOM\\\\20211701',\n",
       " 'c:\\\\Users\\\\smart\\\\Desktop\\\\projects\\\\cs_med_data\\\\convert_source\\\\tests\\\\img.test.dir\\\\C03-001\\\\NIFTI',\n",
       " 'c:\\\\Users\\\\smart\\\\Desktop\\\\projects\\\\cs_med_data\\\\convert_source\\\\tests\\\\img.test.dir\\\\C03-001\\\\PAR REC',\n",
       " 'c:\\\\Users\\\\smart\\\\Desktop\\\\projects\\\\cs_med_data\\\\convert_source\\\\tests\\\\img.test.dir\\\\P01-001\\\\DICOM\\\\20211701',\n",
       " 'c:\\\\Users\\\\smart\\\\Desktop\\\\projects\\\\cs_med_data\\\\convert_source\\\\tests\\\\img.test.dir\\\\P01-001\\\\NIFTI',\n",
       " 'c:\\\\Users\\\\smart\\\\Desktop\\\\projects\\\\cs_med_data\\\\convert_source\\\\tests\\\\img.test.dir\\\\P01-001\\\\PAR REC',\n",
       " 'c:\\\\Users\\\\smart\\\\Desktop\\\\projects\\\\cs_med_data\\\\convert_source\\\\tests\\\\img.test.dir\\\\P02-001\\\\DICOM\\\\20211701',\n",
       " 'c:\\\\Users\\\\smart\\\\Desktop\\\\projects\\\\cs_med_data\\\\convert_source\\\\tests\\\\img.test.dir\\\\P02-001\\\\NIFTI',\n",
       " 'c:\\\\Users\\\\smart\\\\Desktop\\\\projects\\\\cs_med_data\\\\convert_source\\\\tests\\\\img.test.dir\\\\P02-001\\\\PAR REC',\n",
       " 'c:\\\\Users\\\\smart\\\\Desktop\\\\projects\\\\cs_med_data\\\\convert_source\\\\tests\\\\img.test.dir\\\\P03-001\\\\DICOM\\\\20211701',\n",
       " 'c:\\\\Users\\\\smart\\\\Desktop\\\\projects\\\\cs_med_data\\\\convert_source\\\\tests\\\\img.test.dir\\\\P03-001\\\\NIFTI',\n",
       " 'c:\\\\Users\\\\smart\\\\Desktop\\\\projects\\\\cs_med_data\\\\convert_source\\\\tests\\\\img.test.dir\\\\P03-001\\\\PAR REC']"
      ]
     },
     "metadata": {},
     "execution_count": 17
    }
   ],
   "source": [
    "dir_list"
   ]
  },
  {
   "cell_type": "code",
   "execution_count": 1,
   "metadata": {},
   "outputs": [],
   "source": [
    "# construct BIDS dictionary\n",
    "# \n",
    "# BIDS dict\n",
    "# \n",
    "# subject data dict\n",
    "# metadata dict (should include parameter data)\n",
    "# JSON file dict\n",
    "# parameter dict: \n",
    "#   - dwi: acq, dir, run [, sbref]\n",
    "#   - func: task, acq, dir, ce, echo, run, rec\n",
    "#       - contrast_label: bold, cbv, phase [, sbref]\n",
    "#   - anat: acq, dir, ce, rec, run\n",
    "#       - modality: T1w, T2w, etc.\n",
    "#   - fmap: \n",
    "# \n",
    "# Relevant links:\n",
    "# https://bids-specification.readthedocs.io/en/stable/04-modality-specific-files/01-magnetic-resonance-imaging-data.html"
   ]
  },
  {
   "cell_type": "code",
   "execution_count": 3,
   "metadata": {},
   "outputs": [],
   "source": [
    "class SubDataInfo():\n",
    "    # place holder class\n",
    "    # \n",
    "    # class implementation performed in another\n",
    "    # jupyter notebook\n",
    "    pass"
   ]
  },
  {
   "cell_type": "code",
   "execution_count": 35,
   "metadata": {},
   "outputs": [],
   "source": [
    "def construct_bids_json(meta_dict: Optional[Dict] = None,\n",
    "                        json_dict: Optional[Dict] = None\n",
    "                        ) -> Dict:\n",
    "    '''Constructs dictionary of relevant BIDS related information that includes subject and session IDs, in addition\n",
    "    to various metadata.\n",
    "\n",
    "    Usage example:\n",
    "        >>> bids_dict = construct_bids_dict(meta_dict,\n",
    "        ...                                 json_dict)\n",
    "\n",
    "    Arguments:\n",
    "        meta_dict: Metadata dictionary that contains the relevant BIDS metadata.\n",
    "        json_dict: Dictionary constructed from the BIDS JSON file.\n",
    "\n",
    "    Returns:\n",
    "        Dictionary containing BIDS related data.\n",
    "    '''\n",
    "    # Add BIDS info dict here\n",
    "    bids_info: Dict = {\n",
    "        # Common metadata\n",
    "        ## Scanner Hardware\n",
    "        \"Manufacturer\":\"\",\n",
    "        \"ManufacturersModelName\":\"\",\n",
    "        \"DeviceSerialNumber\":\"\",\n",
    "        \"StationName\":\"\",\n",
    "        \"SoftwareVersions\":\"\",\n",
    "        \"HardcopyDeviceSoftwareVersion\":\"\",\n",
    "        \"MagneticFieldStrength\":\"\",\n",
    "        \"ReceiveCoilName\":\"\",\n",
    "        \"ReceiveCoilActiveElements\":\"\",\n",
    "        \"GradientSetType\":\"\",\n",
    "        \"MRTransmitCoilSequence\":\"\",\n",
    "        \"MatrixCoilMode\":\"\",\n",
    "        \"CoilCombinationMethod\":\"\",\n",
    "        ## Sequence Specifics\n",
    "        \"PulseSequenceType\":\"\",\n",
    "        \"ScanningSequence\":\"\",\n",
    "        \"SequenceVariant\":\"\",\n",
    "        \"ScanOptions\":\"\",\n",
    "        \"SequenceName\":\"\",\n",
    "        \"PulseSequenceDetails\":\"\",\n",
    "        \"NonlinearGradientCorrection\":\"\",\n",
    "        ## In-Plane Spatial Encoding\n",
    "        \"NumberShots\":\"\",\n",
    "        \"ParallelReductionFactorInPlane\":\"\",\n",
    "        \"ParallelAcquisitionTechnique\":\"\",\n",
    "        \"PartialFourier\":\"\",\n",
    "        \"PartialFourierDirection\":\"\",\n",
    "        \"PhaseEncodingDirection\":\"\",\n",
    "        \"EffectiveEchoSpacing\":\"\",\n",
    "        \"TotalReadoutTime\":\"\",\n",
    "        ## Timing Parameters\n",
    "        \"EchoTime\":\"\",\n",
    "        \"InversionTime\":\"\",\n",
    "        \"SliceTiming\":\"\",\n",
    "        \"SliceEncodingDirection\":\"\",\n",
    "        \"DwellTime\":\"\",\n",
    "        ## RF & Contrast\n",
    "        \"FlipAngle\":\"\",\n",
    "        \"NegativeContrast\":\"\",\n",
    "        ## Slice Acceleration\n",
    "        \"MultibandAccelerationFactor\":\"\",\n",
    "        ## Anatomical landmarks\n",
    "        \"AnatomicalLandmarkCoordinates\":\"\",\n",
    "        ## Institution information\n",
    "        \"InstitutionName\":\"\",\n",
    "        \"InstitutionAddress\":\"\",\n",
    "        \"InstitutionalDepartmentName\":\"\",\n",
    "        # Anat\n",
    "        \"ContrastBolusIngredient\":\"\",\n",
    "        # Func\n",
    "        \"RepetitionTime\":\"\",\n",
    "        \"VolumeTiming\":\"\",\n",
    "        \"TaskName\":\"\",\n",
    "        \"NumberOfVolumesDiscardedByScanner\":\"\",\n",
    "        \"NumberOfVolumesDiscardedByUser\":\"\",\n",
    "        \"DelayTime\":\"\",\n",
    "        \"AcquisitionDuration\":\"\",\n",
    "        \"DelayAfterTrigger\":\"\",\n",
    "        \"Instructions\":\"\",\n",
    "        \"TaskDescription\":\"\",\n",
    "        \"CogAtlasID\":\"\",\n",
    "        \"CogPOID\":\"\",\n",
    "        # Fmap\n",
    "        \"Units\":\"\",\n",
    "        \"IntendedFor\":\"\",\n",
    "        # Custom BIDS fields\n",
    "        \"SourceDataFormat\":\"\"\n",
    "    }\n",
    "\n",
    "    # Add array for OrderedDict here\n",
    "    ordered_array: List[str] = [\n",
    "        \"Manufacturer\",\n",
    "        \"ManufacturersModelName\",\n",
    "        \"DeviceSerialNumber\",\n",
    "        \"StationName\",\n",
    "        \"SoftwareVersions\",\n",
    "        \"HardcopyDeviceSoftwareVersion\",\n",
    "        \"MagneticFieldStrength\",\n",
    "        \"ReceiveCoilName\",\n",
    "        \"ReceiveCoilActiveElements\",\n",
    "        \"GradientSetType\",\n",
    "        \"MRTransmitCoilSequence\",\n",
    "        \"MatrixCoilMode\",\n",
    "        \"CoilCombinationMethod\",\n",
    "        \"PulseSequenceType\",\n",
    "        \"ScanningSequence\",\n",
    "        \"SequenceVariant\",\n",
    "        \"ScanOptions\",\n",
    "        \"SequenceName\",\n",
    "        \"PulseSequenceDetails\",\n",
    "        \"NonlinearGradientCorrection\",\n",
    "        \"NumberShots\",\n",
    "        \"ParallelReductionFactorInPlane\",\n",
    "        \"ParallelAcquisitionTechnique\",\n",
    "        \"PartialFourier\",\n",
    "        \"PartialFourierDirection\",\n",
    "        \"PhaseEncodingDirection\",\n",
    "        \"EffectiveEchoSpacing\",\n",
    "        \"TotalReadoutTime\",\n",
    "        \"EchoTime\",\n",
    "        \"InversionTime\",\n",
    "        \"SliceTiming\",\n",
    "        \"SliceEncodingDirection\",\n",
    "        \"DwellTime\",\n",
    "        \"FlipAngle\",\n",
    "        \"NegativeContrast\",\n",
    "        \"MultibandAccelerationFactor\",\n",
    "        \"AnatomicalLandmarkCoordinates\",\n",
    "        \"InstitutionName\",\n",
    "        \"InstitutionAddress\",\n",
    "        \"InstitutionalDepartmentName\",\n",
    "        \"ContrastBolusIngredient\",\n",
    "        \"RepetitionTime\",\n",
    "        \"VolumeTiming\",\n",
    "        \"TaskName\",\n",
    "        \"NumberOfVolumesDiscardedByScanner\",\n",
    "        \"NumberOfVolumesDiscardedByUser\",\n",
    "        \"DelayTime\",\n",
    "        \"AcquisitionDuration\",\n",
    "        \"DelayAfterTrigger\",\n",
    "        \"Instructions\",\n",
    "        \"TaskDescription\",\n",
    "        \"CogAtlasID\",\n",
    "        \"CogPOID\",\n",
    "        \"Units\",\n",
    "        \"IntendedFor\",\n",
    "        \"SourceDataFormat\"\n",
    "    ]\n",
    "\n",
    "    bids_dict: Dict = {}\n",
    "\n",
    "    if meta_dict:\n",
    "        pass\n",
    "    else:\n",
    "        meta_dict: Dict = {}\n",
    "    \n",
    "    if json_dict:\n",
    "        pass\n",
    "    else:\n",
    "        json_dict = {}\n",
    "\n",
    "    bids_dict: Dict = dict_multi_update(**bids_info,\n",
    "                                        **meta_dict,\n",
    "                                        **json_dict)\n",
    "\n",
    "    ordered_bids_dict: OrderedDict = OrderedDict()\n",
    "    for key in ordered_array:\n",
    "        ordered_bids_dict[key] = bids_dict[key]\n",
    "    return bids_dict"
   ]
  },
  {
   "cell_type": "code",
   "execution_count": null,
   "metadata": {},
   "outputs": [],
   "source": [
    "def construct_bids_name():\n",
    "    '''working doc-string'''"
   ]
  },
  {
   "cell_type": "code",
   "execution_count": 24,
   "metadata": {},
   "outputs": [],
   "source": [
    "# BIDS information dictionary\n",
    "bids_info = {\n",
    "    # Common metadata\n",
    "    ## Scanner Hardware\n",
    "    \"Manufacturer\":\"\",\n",
    "    \"ManufacturersModelName\":\"\",\n",
    "    \"DeviceSerialNumber\":\"\",\n",
    "    \"StationName\":\"\",\n",
    "    \"SoftwareVersions\":\"\",\n",
    "    \"HardcopyDeviceSoftwareVersion\":\"\",\n",
    "    \"MagneticFieldStrength\":\"\",\n",
    "    \"ReceiveCoilName\":\"\",\n",
    "    \"ReceiveCoilActiveElements\":\"\",\n",
    "    \"GradientSetType\":\"\",\n",
    "    \"MRTransmitCoilSequence\":\"\",\n",
    "    \"MatrixCoilMode\":\"\",\n",
    "    \"CoilCombinationMethod\":\"\",\n",
    "    ## Sequence Specifics\n",
    "    \"PulseSequenceType\":\"\",\n",
    "    \"ScanningSequence\":\"\",\n",
    "    \"SequenceVariant\":\"\",\n",
    "    \"ScanOptions\":\"\",\n",
    "    \"SequenceName\":\"\",\n",
    "    \"PulseSequenceDetails\":\"\",\n",
    "    \"NonlinearGradientCorrection\":\"\",\n",
    "    ## In-Plane Spatial Encoding\n",
    "    \"NumberShots\":\"\",\n",
    "    \"ParallelReductionFactorInPlane\":\"\",\n",
    "    \"ParallelAcquisitionTechnique\":\"\",\n",
    "    \"PartialFourier\":\"\",\n",
    "    \"PartialFourierDirection\":\"\",\n",
    "    \"PhaseEncodingDirection\":\"\",\n",
    "    \"EffectiveEchoSpacing\":\"\",\n",
    "    \"TotalReadoutTime\":\"\",\n",
    "    ## Timing Parameters\n",
    "    \"EchoTime\":\"\",\n",
    "    \"InversionTime\":\"\",\n",
    "    \"SliceTiming\":\"\",\n",
    "    \"SliceEncodingDirection\":\"\",\n",
    "    \"DwellTime\":\"\",\n",
    "    ## RF & Contrast\n",
    "    \"FlipAngle\":\"\",\n",
    "    \"NegativeContrast\":\"\",\n",
    "    ## Slice Acceleration\n",
    "    \"MultibandAccelerationFactor\":\"\",\n",
    "    ## Anatomical landmarks\n",
    "    \"AnatomicalLandmarkCoordinates\":\"\",\n",
    "    ## Institution information\n",
    "    \"InstitutionName\":\"\",\n",
    "    \"InstitutionAddress\":\"\",\n",
    "    \"InstitutionalDepartmentName\":\"\",\n",
    "    # Anat\n",
    "    \"ContrastBolusIngredient\":\"\",\n",
    "    # Func\n",
    "    \"RepetitionTime\":\"\",\n",
    "    \"VolumeTiming\":\"\",\n",
    "    \"TaskName\":\"\",\n",
    "    \"NumberOfVolumesDiscardedByScanner\":\"\",\n",
    "    \"NumberOfVolumesDiscardedByUser\":\"\",\n",
    "    \"DelayTime\":\"\",\n",
    "    \"AcquisitionDuration\":\"\",\n",
    "    \"DelayAfterTrigger\":\"\",\n",
    "    \"Instructions\":\"\",\n",
    "    \"TaskDescription\":\"\",\n",
    "    \"CogAtlasID\":\"\",\n",
    "    \"CogPOID\":\"\",\n",
    "    # Fmap\n",
    "    \"Units\":\"\",\n",
    "    \"IntendedFor\":\"\",\n",
    "    # Custom BIDS fields\n",
    "    \"SourceDataFormat\":\"\"\n",
    "}"
   ]
  },
  {
   "cell_type": "code",
   "execution_count": 31,
   "metadata": {},
   "outputs": [],
   "source": [
    "# list(bids_info.keys())"
   ]
  },
  {
   "cell_type": "code",
   "execution_count": null,
   "metadata": {},
   "outputs": [],
   "source": []
  },
  {
   "cell_type": "code",
   "execution_count": 25,
   "metadata": {},
   "outputs": [],
   "source": [
    "# * Add parameter specific metadata to BIDS info dictionary *\n",
    "# BIDS parameter dictionary\n",
    "bids_param = {\n",
    "    \"info\":{\n",
    "        \"sub\":\"\",\n",
    "        \"ses\":\"\"\n",
    "    }\n",
    "    \"anat\":{\n",
    "        \"acq\":\"\",\n",
    "        \"ce\":\"\",\n",
    "        \"rec\":\"\",\n",
    "        \"run\":\"\",\n",
    "        \"modality_label\":\"\"\n",
    "    },\n",
    "    \"func\":{\n",
    "        \"task\":\"\",\n",
    "        \"acq\":\"\",\n",
    "        \"ce\":\"\",\n",
    "        \"dir\":\"\",\n",
    "        \"rec\":\"\",\n",
    "        \"run\":\"\",\n",
    "        \"echo\":\"\",\n",
    "        \"modality_label\":\"\"\n",
    "    },\n",
    "    \"dwi\":{\n",
    "        \"acq\":\"\",\n",
    "        \"dir\":\"\",\n",
    "        \"run\":\"\",\n",
    "        \"modality_label\":\"\"\n",
    "    },\n",
    "    \"fmap\":{\n",
    "        \"acq\":\"\",\n",
    "        \"run\":\"\",\n",
    "        # Case 1: Phase difference image and at least one magnitude image\n",
    "        \"case1\":{\n",
    "            \"phasediff\":\"\",\n",
    "            \"magnitude1\":\"\",\n",
    "            \"magnitude2\":\"\"\n",
    "        },\n",
    "        # Case 2: Two phase images and two magnitude images\n",
    "        \"case2\":{\n",
    "            \"phase1\":\"\",\n",
    "            \"phase2\":\"\",\n",
    "            \"magnitude1\":\"\",\n",
    "            \"magnitude2\":\"\"\n",
    "        },\n",
    "        # Case 3: A real fieldmap image\n",
    "        \"case3\":{\n",
    "            \"magnitude\":\"\",\n",
    "            \"fieldmap\":\"\"\n",
    "        },\n",
    "        # Case 4: Multiple phase encoded directions (\"pepolar\")\n",
    "        \"case4\":{\n",
    "            \"ce\":\"\",\n",
    "            \"dir\":\"\"\n",
    "        }\n",
    "    }\n",
    "}"
   ]
  },
  {
   "cell_type": "code",
   "execution_count": 27,
   "metadata": {},
   "outputs": [
    {
     "output_type": "execute_result",
     "data": {
      "text/plain": [
       "{'task': '',\n",
       " 'acq': '',\n",
       " 'ce': '',\n",
       " 'dir': '',\n",
       " 'rec': '',\n",
       " 'run': '',\n",
       " 'echo': '',\n",
       " 'modality_label': ''}"
      ]
     },
     "metadata": {},
     "execution_count": 27
    }
   ],
   "source": [
    "bids_param['func']"
   ]
  },
  {
   "source": [
    "#### Test case for `OrderedDict`"
   ],
   "cell_type": "markdown",
   "metadata": {}
  },
  {
   "cell_type": "code",
   "execution_count": 32,
   "metadata": {},
   "outputs": [],
   "source": [
    "mydict = {'Rust': {'definition':'rusts definition'},\n",
    "          'Iron': {'definition':'iron definition'},\n",
    "          'Pyrite': {'definition':'pyrite definition'}}\n",
    "\n",
    "myorder = ['Pyrite', 'Rust', 'Iron']"
   ]
  },
  {
   "cell_type": "code",
   "execution_count": 34,
   "metadata": {},
   "outputs": [
    {
     "output_type": "execute_result",
     "data": {
      "text/plain": [
       "OrderedDict([('Pyrite', {'definition': 'pyrite definition'}),\n",
       "             ('Rust', {'definition': 'rusts definition'}),\n",
       "             ('Iron', {'definition': 'iron definition'})])"
      ]
     },
     "metadata": {},
     "execution_count": 34
    }
   ],
   "source": [
    "ordered = OrderedDict()\n",
    "for k in myorder:\n",
    "    ordered[k] = mydict[k]\n",
    "ordered"
   ]
  },
  {
   "cell_type": "code",
   "execution_count": null,
   "metadata": {},
   "outputs": [],
   "source": []
  }
 ],
 "metadata": {
  "kernelspec": {
   "display_name": "Python 3",
   "language": "python",
   "name": "python3"
  },
  "language_info": {
   "codemirror_mode": {
    "name": "ipython",
    "version": 3
   },
   "file_extension": ".py",
   "mimetype": "text/x-python",
   "name": "python",
   "nbconvert_exporter": "python",
   "pygments_lexer": "ipython3",
   "version": "3.8.3-final"
  }
 },
 "nbformat": 4,
 "nbformat_minor": 2
}