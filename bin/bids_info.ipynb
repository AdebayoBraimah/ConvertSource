{
 "cells": [
  {
   "cell_type": "code",
   "execution_count": 4,
   "metadata": {},
   "outputs": [],
   "source": [
    "import os\n",
    "from typing import List, Dict, Optional"
   ]
  },
  {
   "cell_type": "code",
   "execution_count": 5,
   "metadata": {},
   "outputs": [
    {
     "output_type": "execute_result",
     "data": {
      "text/plain": [
       "'c:\\\\Users\\\\smart\\\\Desktop\\\\projects\\\\cs_med_data\\\\convert_source\\\\bin'"
      ]
     },
     "metadata": {},
     "execution_count": 5
    }
   ],
   "source": [
    "os.getcwd()"
   ]
  },
  {
   "cell_type": "code",
   "execution_count": 10,
   "metadata": {},
   "outputs": [],
   "source": [
    "# test_dir = \"../tests/img.test.dir/001-001/PAR REC\"\n",
    "test_dir = \"../tests/img.test.dir\""
   ]
  },
  {
   "cell_type": "code",
   "execution_count": 11,
   "metadata": {},
   "outputs": [
    {
     "output_type": "execute_result",
     "data": {
      "text/plain": [
       "['001-001',\n",
       " '002-001',\n",
       " '003-001',\n",
       " '900XXT5',\n",
       " '901XXP5',\n",
       " '902XXY8',\n",
       " 'C01-001',\n",
       " 'C02-001',\n",
       " 'C03-001',\n",
       " 'P01-001',\n",
       " 'P02-001',\n",
       " 'P03-001']"
      ]
     },
     "metadata": {},
     "execution_count": 11
    }
   ],
   "source": [
    "os.listdir(test_dir)"
   ]
  },
  {
   "cell_type": "code",
   "execution_count": 8,
   "metadata": {},
   "outputs": [],
   "source": [
    "import utils.img_dir as id"
   ]
  },
  {
   "cell_type": "code",
   "execution_count": 16,
   "metadata": {},
   "outputs": [],
   "source": [
    "dir_list,type_list = id.img_dir_list(test_dir)"
   ]
  },
  {
   "cell_type": "code",
   "execution_count": 17,
   "metadata": {},
   "outputs": [
    {
     "output_type": "execute_result",
     "data": {
      "text/plain": [
       "['c:\\\\Users\\\\smart\\\\Desktop\\\\projects\\\\cs_med_data\\\\convert_source\\\\tests\\\\img.test.dir\\\\001-001\\\\DICOM\\\\20211701',\n",
       " 'c:\\\\Users\\\\smart\\\\Desktop\\\\projects\\\\cs_med_data\\\\convert_source\\\\tests\\\\img.test.dir\\\\001-001\\\\NIFTI',\n",
       " 'c:\\\\Users\\\\smart\\\\Desktop\\\\projects\\\\cs_med_data\\\\convert_source\\\\tests\\\\img.test.dir\\\\001-001\\\\PAR REC',\n",
       " 'c:\\\\Users\\\\smart\\\\Desktop\\\\projects\\\\cs_med_data\\\\convert_source\\\\tests\\\\img.test.dir\\\\002-001\\\\DICOM\\\\20211701',\n",
       " 'c:\\\\Users\\\\smart\\\\Desktop\\\\projects\\\\cs_med_data\\\\convert_source\\\\tests\\\\img.test.dir\\\\002-001\\\\NIFTI',\n",
       " 'c:\\\\Users\\\\smart\\\\Desktop\\\\projects\\\\cs_med_data\\\\convert_source\\\\tests\\\\img.test.dir\\\\002-001\\\\PAR REC',\n",
       " 'c:\\\\Users\\\\smart\\\\Desktop\\\\projects\\\\cs_med_data\\\\convert_source\\\\tests\\\\img.test.dir\\\\003-001\\\\DICOM\\\\20211701',\n",
       " 'c:\\\\Users\\\\smart\\\\Desktop\\\\projects\\\\cs_med_data\\\\convert_source\\\\tests\\\\img.test.dir\\\\003-001\\\\NIFTI',\n",
       " 'c:\\\\Users\\\\smart\\\\Desktop\\\\projects\\\\cs_med_data\\\\convert_source\\\\tests\\\\img.test.dir\\\\003-001\\\\PAR REC',\n",
       " 'c:\\\\Users\\\\smart\\\\Desktop\\\\projects\\\\cs_med_data\\\\convert_source\\\\tests\\\\img.test.dir\\\\900XXT5\\\\DICOM\\\\20211701\\\\NAME^ 20201701',\n",
       " 'c:\\\\Users\\\\smart\\\\Desktop\\\\projects\\\\cs_med_data\\\\convert_source\\\\tests\\\\img.test.dir\\\\900XXT5\\\\NIFTI\\\\NAME^ 20201701',\n",
       " 'c:\\\\Users\\\\smart\\\\Desktop\\\\projects\\\\cs_med_data\\\\convert_source\\\\tests\\\\img.test.dir\\\\900XXT5\\\\PAR REC\\\\NAME^ 20201701',\n",
       " 'c:\\\\Users\\\\smart\\\\Desktop\\\\projects\\\\cs_med_data\\\\convert_source\\\\tests\\\\img.test.dir\\\\901XXP5\\\\DICOM\\\\20211701\\\\NAME^ 20201701',\n",
       " 'c:\\\\Users\\\\smart\\\\Desktop\\\\projects\\\\cs_med_data\\\\convert_source\\\\tests\\\\img.test.dir\\\\901XXP5\\\\NIFTI\\\\NAME^ 20201701',\n",
       " 'c:\\\\Users\\\\smart\\\\Desktop\\\\projects\\\\cs_med_data\\\\convert_source\\\\tests\\\\img.test.dir\\\\901XXP5\\\\PAR REC\\\\NAME^ 20201701',\n",
       " 'c:\\\\Users\\\\smart\\\\Desktop\\\\projects\\\\cs_med_data\\\\convert_source\\\\tests\\\\img.test.dir\\\\902XXY8\\\\DICOM\\\\20211701\\\\NAME^ 20201701',\n",
       " 'c:\\\\Users\\\\smart\\\\Desktop\\\\projects\\\\cs_med_data\\\\convert_source\\\\tests\\\\img.test.dir\\\\902XXY8\\\\NIFTI\\\\NAME^ 20201701',\n",
       " 'c:\\\\Users\\\\smart\\\\Desktop\\\\projects\\\\cs_med_data\\\\convert_source\\\\tests\\\\img.test.dir\\\\902XXY8\\\\PAR REC\\\\NAME^ 20201701',\n",
       " 'c:\\\\Users\\\\smart\\\\Desktop\\\\projects\\\\cs_med_data\\\\convert_source\\\\tests\\\\img.test.dir\\\\C01-001\\\\DICOM\\\\20211701',\n",
       " 'c:\\\\Users\\\\smart\\\\Desktop\\\\projects\\\\cs_med_data\\\\convert_source\\\\tests\\\\img.test.dir\\\\C01-001\\\\NIFTI',\n",
       " 'c:\\\\Users\\\\smart\\\\Desktop\\\\projects\\\\cs_med_data\\\\convert_source\\\\tests\\\\img.test.dir\\\\C01-001\\\\PAR REC',\n",
       " 'c:\\\\Users\\\\smart\\\\Desktop\\\\projects\\\\cs_med_data\\\\convert_source\\\\tests\\\\img.test.dir\\\\C02-001\\\\DICOM\\\\20211701',\n",
       " 'c:\\\\Users\\\\smart\\\\Desktop\\\\projects\\\\cs_med_data\\\\convert_source\\\\tests\\\\img.test.dir\\\\C02-001\\\\NIFTI',\n",
       " 'c:\\\\Users\\\\smart\\\\Desktop\\\\projects\\\\cs_med_data\\\\convert_source\\\\tests\\\\img.test.dir\\\\C02-001\\\\PAR REC',\n",
       " 'c:\\\\Users\\\\smart\\\\Desktop\\\\projects\\\\cs_med_data\\\\convert_source\\\\tests\\\\img.test.dir\\\\C03-001\\\\DICOM\\\\20211701',\n",
       " 'c:\\\\Users\\\\smart\\\\Desktop\\\\projects\\\\cs_med_data\\\\convert_source\\\\tests\\\\img.test.dir\\\\C03-001\\\\NIFTI',\n",
       " 'c:\\\\Users\\\\smart\\\\Desktop\\\\projects\\\\cs_med_data\\\\convert_source\\\\tests\\\\img.test.dir\\\\C03-001\\\\PAR REC',\n",
       " 'c:\\\\Users\\\\smart\\\\Desktop\\\\projects\\\\cs_med_data\\\\convert_source\\\\tests\\\\img.test.dir\\\\P01-001\\\\DICOM\\\\20211701',\n",
       " 'c:\\\\Users\\\\smart\\\\Desktop\\\\projects\\\\cs_med_data\\\\convert_source\\\\tests\\\\img.test.dir\\\\P01-001\\\\NIFTI',\n",
       " 'c:\\\\Users\\\\smart\\\\Desktop\\\\projects\\\\cs_med_data\\\\convert_source\\\\tests\\\\img.test.dir\\\\P01-001\\\\PAR REC',\n",
       " 'c:\\\\Users\\\\smart\\\\Desktop\\\\projects\\\\cs_med_data\\\\convert_source\\\\tests\\\\img.test.dir\\\\P02-001\\\\DICOM\\\\20211701',\n",
       " 'c:\\\\Users\\\\smart\\\\Desktop\\\\projects\\\\cs_med_data\\\\convert_source\\\\tests\\\\img.test.dir\\\\P02-001\\\\NIFTI',\n",
       " 'c:\\\\Users\\\\smart\\\\Desktop\\\\projects\\\\cs_med_data\\\\convert_source\\\\tests\\\\img.test.dir\\\\P02-001\\\\PAR REC',\n",
       " 'c:\\\\Users\\\\smart\\\\Desktop\\\\projects\\\\cs_med_data\\\\convert_source\\\\tests\\\\img.test.dir\\\\P03-001\\\\DICOM\\\\20211701',\n",
       " 'c:\\\\Users\\\\smart\\\\Desktop\\\\projects\\\\cs_med_data\\\\convert_source\\\\tests\\\\img.test.dir\\\\P03-001\\\\NIFTI',\n",
       " 'c:\\\\Users\\\\smart\\\\Desktop\\\\projects\\\\cs_med_data\\\\convert_source\\\\tests\\\\img.test.dir\\\\P03-001\\\\PAR REC']"
      ]
     },
     "metadata": {},
     "execution_count": 17
    }
   ],
   "source": [
    "dir_list"
   ]
  },
  {
   "cell_type": "code",
   "execution_count": 1,
   "metadata": {},
   "outputs": [],
   "source": [
    "# construct BIDS dictionary\n",
    "# \n",
    "# BIDS dict\n",
    "# \n",
    "# subject data dict\n",
    "# metadata dict (should include parameter data)\n",
    "# JSON file dict\n",
    "# parameter dict: \n",
    "#   - dwi: acq, dir, run [, sbref]\n",
    "#   - func: task, acq, dir, ce, echo, run, rec\n",
    "#       - contrast_label: bold, cbv, phase [, sbref]\n",
    "#   - anat: acq, dir, ce, rec, run\n",
    "#       - modality: T1w, T2w, etc.\n",
    "#   - fmap: \n",
    "# \n",
    "# Relevant links:\n",
    "# https://bids-specification.readthedocs.io/en/stable/04-modality-specific-files/01-magnetic-resonance-imaging-data.html"
   ]
  },
  {
   "cell_type": "code",
   "execution_count": 3,
   "metadata": {},
   "outputs": [],
   "source": [
    "class SubDataInfo():\n",
    "    # place holder class\n",
    "    # \n",
    "    # class implementation performed in another\n",
    "    # jupyter notebook\n",
    "    pass"
   ]
  },
  {
   "cell_type": "code",
   "execution_count": 8,
   "metadata": {},
   "outputs": [],
   "source": [
    "def construct_bids_file(sub_data: SubDataInfo,\n",
    "                        meta_dict: Optional[Dict] = None,\n",
    "                        json_dict: Optional[Dict] = None\n",
    "                        ):\n",
    "    '''working doc-string'''\n",
    "\n",
    "    bids_dict: Dict = {}\n",
    "\n",
    "    if meta_dict:\n",
    "        pass\n",
    "    else:\n",
    "        meta_dict: Dict = {}\n",
    "    \n",
    "    if json_dict:\n",
    "        pass\n",
    "    else:\n",
    "        json_dict = {}\n",
    "    \n",
    "    tmp_dict: Dict = {\"sub\": sub_data.sub,\n",
    "                      \"ses\": sub_data.ses }\n",
    "\n",
    "    # bids_dict: Dict = multi_update(**meta_dict,\n",
    "    #                                **json_dict,\n",
    "    #                                **tmp_dict) # This function does not exist yet"
   ]
  },
  {
   "cell_type": "code",
   "execution_count": null,
   "metadata": {},
   "outputs": [],
   "source": []
  }
 ],
 "metadata": {
  "kernelspec": {
   "display_name": "Python 3",
   "language": "python",
   "name": "python3"
  },
  "language_info": {
   "codemirror_mode": {
    "name": "ipython",
    "version": 3
   },
   "file_extension": ".py",
   "mimetype": "text/x-python",
   "name": "python",
   "nbconvert_exporter": "python",
   "pygments_lexer": "ipython3",
   "version": "3.8.3-final"
  }
 },
 "nbformat": 4,
 "nbformat_minor": 2
}