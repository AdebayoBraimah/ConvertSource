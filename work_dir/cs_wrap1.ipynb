{
 "cells": [
  {
   "cell_type": "code",
   "execution_count": 12,
   "metadata": {},
   "outputs": [],
   "source": [
    "import os\n",
    "import sys\n",
    "import yaml\n",
    "from typing import (\n",
    "    Dict,\n",
    "    List, \n",
    "    Optional,\n",
    "    Tuple,\n",
    "    Union\n",
    ")"
   ]
  },
  {
   "cell_type": "code",
   "execution_count": 2,
   "metadata": {},
   "outputs": [],
   "source": [
    "__file__ = os.path.join(os.getcwd(),\"cs_wrap1.ipynb\")"
   ]
  },
  {
   "cell_type": "code",
   "execution_count": 3,
   "metadata": {},
   "outputs": [],
   "source": [
    "mod_path = os.path.join(os.path.dirname(os.path.abspath(__file__)),\"..\")"
   ]
  },
  {
   "cell_type": "code",
   "execution_count": 4,
   "metadata": {},
   "outputs": [],
   "source": [
    "sys.path.append(mod_path)"
   ]
  },
  {
   "cell_type": "code",
   "execution_count": 5,
   "metadata": {},
   "outputs": [],
   "source": [
    "from convert_source.utils.bids_info import (\n",
    "    construct_bids_dict,\n",
    "    construct_bids_name\n",
    ")"
   ]
  },
  {
   "cell_type": "code",
   "execution_count": 26,
   "metadata": {},
   "outputs": [],
   "source": [
    "from convert_source.utils.utils import (\n",
    "    BIDSimg,\n",
    "    collect_info,\n",
    "    convert_image_data,\n",
    "    SubInfoError,\n",
    "    SubDataInfo,\n",
    ")"
   ]
  },
  {
   "cell_type": "code",
   "execution_count": 7,
   "metadata": {},
   "outputs": [],
   "source": [
    "from convert_source.utils.const import DEFAULT_CONFIG"
   ]
  },
  {
   "cell_type": "code",
   "execution_count": 10,
   "metadata": {},
   "outputs": [],
   "source": [
    "def read_config(config_file: Optional[str] = \"\", \n",
    "                verbose: Optional[bool] = False\n",
    "                ) -> Tuple[Dict,List[str],Dict]:\n",
    "    '''Reads configuration file and creates a dictionary of search terms for \n",
    "    certain modalities provided that BIDS modalities are used as keys. If\n",
    "    exclusions are provided (via the key 'exclude') then an exclusion list is \n",
    "    created. Otherwise, 'exclusion_list' is returned as an empty list. If \n",
    "    additional settings are specified, they should be done so via the key\n",
    "    'metadata' to enable writing of additional metadata. Otherwise, an \n",
    "    empty dictionary is returned.\n",
    "\n",
    "    BIDS modalities:\n",
    "        - anat:\n",
    "            - T1w, T2w, FLAIR, etc.\n",
    "        - func:\n",
    "            - task:\n",
    "                - resting state, <task-name>\n",
    "        - dwi\n",
    "        - fmap\n",
    "\n",
    "    Usage example:\n",
    "        >>> [search_dict, exclusion_list, meta_dict] = read_config(config_file)\n",
    "    \n",
    "    Arguments:\n",
    "        config_file: File path to yaml configuration file. If no file is used, then the default configuration file is used.\n",
    "        verbose: Prints additional information to screen.\n",
    "    \n",
    "    Returns: \n",
    "        search_dict: Nested dictionary of search terms for BIDS modalities.\n",
    "        exclusion_list: List of exclusion terms.\n",
    "        meta_dict: Nested dictionary of metadata terms to write to JSON file(s).\n",
    "    \n",
    "    Raises:\n",
    "        ConfigFileReadError: Error that arises if no heuristic search terms are provided.\n",
    "    '''\n",
    "    class ConfigFileReadError(Exception):\n",
    "        pass\n",
    "\n",
    "    if config_file:\n",
    "        config_file: str = os.path.abspath(config_file)\n",
    "    else:\n",
    "        config_file: str = DEFAULT_CONFIG\n",
    "\n",
    "    with open(config_file) as file:\n",
    "        data_map = yaml.safe_load(file)\n",
    "        if verbose:\n",
    "            print(\"Initialized parameters from configuration file\")\n",
    "    \n",
    "    # Required search terms\n",
    "    if any(\"search\" in data_map for element in data_map):\n",
    "        if verbose:\n",
    "            print(\"Categorizing search terms\")\n",
    "        search_dict = data_map[\"search\"]\n",
    "        del data_map[\"search\"]\n",
    "    else:\n",
    "        if verbose:\n",
    "            print(\"Heuristic search terms required. Exiting...\")\n",
    "        raise ConfigFileReadError(\"Heuristic search terms required. Exiting...\")\n",
    "\n",
    "    # Exclusion terms  \n",
    "    if any(\"exclude\" in data_map for element in data_map):\n",
    "        if verbose:\n",
    "            print(\"Exclusion option implemented\")\n",
    "        exclusion_list = data_map[\"exclude\"]\n",
    "        del data_map[\"exclude\"]\n",
    "    else:\n",
    "        if verbose:\n",
    "            print(\"Exclusion option not implemented\")\n",
    "        exclusion_list = list()\n",
    "    \n",
    "    # Metadata terms\n",
    "    if any(\"metadata\" in data_map for element in data_map):\n",
    "        if verbose:\n",
    "            print(\"Including additional settings for metadata\")\n",
    "        meta_dict = data_map[\"metadata\"]\n",
    "        del data_map[\"metadata\"]\n",
    "    else:\n",
    "        if verbose:\n",
    "            print(\"No metadata settings\")\n",
    "        meta_dict = dict()\n",
    "        \n",
    "    return search_dict,exclusion_list,meta_dict"
   ]
  },
  {
   "cell_type": "code",
   "execution_count": 13,
   "metadata": {},
   "outputs": [],
   "source": [
    "[search_dict,exclusion_list,meta_dict] = read_config()"
   ]
  },
  {
   "cell_type": "code",
   "execution_count": 17,
   "metadata": {},
   "outputs": [],
   "source": [
    "# search_dict\n",
    "# exclusion_list\n",
    "# meta_dict"
   ]
  },
  {
   "cell_type": "code",
   "execution_count": 18,
   "metadata": {},
   "outputs": [],
   "source": [
    "par_img_dir = \"test.img\""
   ]
  },
  {
   "cell_type": "code",
   "execution_count": 19,
   "metadata": {},
   "outputs": [],
   "source": [
    "par_img_dir = os.path.abspath(par_img_dir)"
   ]
  },
  {
   "cell_type": "code",
   "execution_count": 27,
   "metadata": {},
   "outputs": [],
   "source": [
    "subs_data = collect_info(parent_dir=par_img_dir,\n",
    "                        exclusion_list=exclusion_list)"
   ]
  },
  {
   "cell_type": "code",
   "execution_count": 43,
   "metadata": {},
   "outputs": [
    {
     "output_type": "execute_result",
     "data": {
      "text/plain": [
       "'001'"
      ]
     },
     "metadata": {},
     "execution_count": 43
    }
   ],
   "source": [
    "subs_data[90].ses"
   ]
  },
  {
   "cell_type": "code",
   "execution_count": null,
   "metadata": {},
   "outputs": [],
   "source": [
    "# TODO:\n",
    "#   - Write function that takes input (of array) of SubDataInfo object(s) {sub,data,ses}, and search dict - to search and categorize data\n",
    "#   - helper/support function to aid in search and categorization of data."
   ]
  },
  {
   "cell_type": "code",
   "execution_count": null,
   "metadata": {},
   "outputs": [],
   "source": []
  },
  {
   "cell_type": "code",
   "execution_count": null,
   "metadata": {},
   "outputs": [],
   "source": []
  },
  {
   "cell_type": "code",
   "execution_count": null,
   "metadata": {},
   "outputs": [],
   "source": []
  },
  {
   "cell_type": "code",
   "execution_count": null,
   "metadata": {},
   "outputs": [],
   "source": []
  },
  {
   "cell_type": "code",
   "execution_count": 31,
   "metadata": {},
   "outputs": [],
   "source": [
    "# Pass the large number of args as a dict\n",
    "# \n",
    "# Needs to run within for-loop\n",
    "# \n",
    "# Unable to test without actual data\n",
    "# \n",
    "# img_data = convert_image_data(file=subs_data[0].data,\n",
    "#                                 basename=\"random_str\",\n",
    "#                                 out_dir=\"out_dir\")"
   ]
  },
  {
   "cell_type": "code",
   "execution_count": null,
   "metadata": {},
   "outputs": [],
   "source": []
  }
 ],
 "metadata": {
  "kernelspec": {
   "display_name": "Python 3",
   "language": "python",
   "name": "python3"
  },
  "language_info": {
   "codemirror_mode": {
    "name": "ipython",
    "version": 3
   },
   "file_extension": ".py",
   "mimetype": "text/x-python",
   "name": "python",
   "nbconvert_exporter": "python",
   "pygments_lexer": "ipython3",
   "version": "3.8.3-final"
  }
 },
 "nbformat": 4,
 "nbformat_minor": 4
}