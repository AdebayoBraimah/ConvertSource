{
 "cells": [
  {
   "cell_type": "code",
   "execution_count": 1,
   "metadata": {},
   "outputs": [],
   "source": [
    "import os\n",
    "import sys\n",
    "import yaml\n",
    "from typing import (\n",
    "    Dict,\n",
    "    List, \n",
    "    Optional,\n",
    "    Tuple,\n",
    "    Union\n",
    ")"
   ]
  },
  {
   "cell_type": "code",
   "execution_count": 2,
   "metadata": {},
   "outputs": [],
   "source": [
    "__file__ = os.path.join(os.getcwd(),\"cs_wrap1.ipynb\")"
   ]
  },
  {
   "cell_type": "code",
   "execution_count": 3,
   "metadata": {},
   "outputs": [],
   "source": [
    "mod_path = os.path.join(os.path.dirname(os.path.abspath(__file__)),\"..\")"
   ]
  },
  {
   "cell_type": "code",
   "execution_count": 4,
   "metadata": {},
   "outputs": [],
   "source": [
    "sys.path.append(mod_path)"
   ]
  },
  {
   "cell_type": "code",
   "execution_count": 5,
   "metadata": {},
   "outputs": [],
   "source": [
    "from convert_source.utils.bids_info import (\n",
    "    construct_bids_dict,\n",
    "    construct_bids_name\n",
    ")"
   ]
  },
  {
   "cell_type": "code",
   "execution_count": 6,
   "metadata": {},
   "outputs": [],
   "source": [
    "from convert_source.utils.utils import (\n",
    "    BIDSimg,\n",
    "    collect_info,\n",
    "    convert_image_data,\n",
    "    get_metadata,\n",
    "    list_in_substr,\n",
    "    SubInfoError,\n",
    "    SubDataInfo,\n",
    ")"
   ]
  },
  {
   "cell_type": "code",
   "execution_count": 7,
   "metadata": {},
   "outputs": [],
   "source": [
    "from convert_source.utils.fileio import TmpDir"
   ]
  },
  {
   "cell_type": "code",
   "execution_count": 8,
   "metadata": {},
   "outputs": [],
   "source": [
    "from convert_source.utils.const import DEFAULT_CONFIG"
   ]
  },
  {
   "cell_type": "code",
   "execution_count": 9,
   "metadata": {},
   "outputs": [],
   "source": [
    "from convert_source.imgio.dcmio import (\n",
    "    is_valid_dcm\n",
    ")"
   ]
  },
  {
   "cell_type": "code",
   "execution_count": 10,
   "metadata": {},
   "outputs": [],
   "source": [
    "def read_config(config_file: Optional[str] = \"\", \n",
    "                verbose: Optional[bool] = False\n",
    "                ) -> Tuple[Dict[str,str],List[str],Dict[str,Union[str,int]]]:\n",
    "    '''Reads configuration file and creates a dictionary of search terms for \n",
    "    certain modalities provided that BIDS modalities are used as keys. If\n",
    "    exclusions are provided (via the key 'exclude') then an exclusion list is \n",
    "    created. Otherwise, 'exclusion_list' is returned as an empty list. If \n",
    "    additional settings are specified, they should be done so via the key\n",
    "    'metadata' to enable writing of additional metadata. Otherwise, an \n",
    "    empty dictionary is returned.\n",
    "\n",
    "    BIDS modalities:\n",
    "        - anat:\n",
    "            - T1w, T2w, FLAIR, etc.\n",
    "        - func:\n",
    "            - task:\n",
    "                - resting state, <task-name>\n",
    "        - dwi\n",
    "        - fmap\n",
    "\n",
    "    Usage example:\n",
    "        >>> [search_dict, exclusion_list, meta_dict] = read_config(config_file)\n",
    "    \n",
    "    Arguments:\n",
    "        config_file: File path to yaml configuration file. If no file is used, then the default configuration file is used.\n",
    "        verbose: Prints additional information to screen.\n",
    "    \n",
    "    Returns: \n",
    "        search_dict: Nested dictionary of search terms for BIDS modalities.\n",
    "        exclusion_list: List of exclusion terms.\n",
    "        meta_dict: Nested dictionary of metadata terms to write to JSON file(s).\n",
    "    \n",
    "    Raises:\n",
    "        ConfigFileReadError: Error that arises if no heuristic search terms are provided.\n",
    "    '''\n",
    "    class ConfigFileReadError(Exception):\n",
    "        pass\n",
    "\n",
    "    if config_file:\n",
    "        config_file: str = os.path.abspath(config_file)\n",
    "    else:\n",
    "        config_file: str = DEFAULT_CONFIG\n",
    "\n",
    "    with open(config_file) as file:\n",
    "        data_map: Dict[str,str] = yaml.safe_load(file)\n",
    "        if verbose:\n",
    "            print(\"Initialized parameters from configuration file\")\n",
    "    \n",
    "    # Required search terms\n",
    "    if any(\"search\" in data_map for element in data_map):\n",
    "        if verbose:\n",
    "            print(\"Categorizing search terms\")\n",
    "        search_dict: Dict[str,str] = data_map[\"search\"]\n",
    "        del data_map[\"search\"]\n",
    "    else:\n",
    "        if verbose:\n",
    "            print(\"Heuristic search terms required. Exiting...\")\n",
    "        raise ConfigFileReadError(\"Heuristic search terms required. Exiting...\")\n",
    "\n",
    "    # Exclusion terms  \n",
    "    if any(\"exclude\" in data_map for element in data_map):\n",
    "        if verbose:\n",
    "            print(\"Exclusion option implemented\")\n",
    "        exclusion_list: List[str] = data_map[\"exclude\"]\n",
    "        del data_map[\"exclude\"]\n",
    "    else:\n",
    "        if verbose:\n",
    "            print(\"Exclusion option not implemented\")\n",
    "        exclusion_list: List = list()\n",
    "    \n",
    "    # Metadata terms\n",
    "    if any(\"metadata\" in data_map for element in data_map):\n",
    "        if verbose:\n",
    "            print(\"Including additional settings for metadata\")\n",
    "        meta_dict: Dict[str,Union[str,int]] = data_map[\"metadata\"]\n",
    "        del data_map[\"metadata\"]\n",
    "    else:\n",
    "        if verbose:\n",
    "            print(\"No metadata settings\")\n",
    "        meta_dict: Dict = dict()\n",
    "        \n",
    "    return search_dict,exclusion_list,meta_dict"
   ]
  },
  {
   "cell_type": "code",
   "execution_count": 11,
   "metadata": {},
   "outputs": [],
   "source": [
    "[search_dict,exclusion_list,meta_dict] = read_config()"
   ]
  },
  {
   "cell_type": "code",
   "execution_count": 12,
   "metadata": {},
   "outputs": [],
   "source": [
    "# search_dict\n",
    "# exclusion_list\n",
    "# meta_dict"
   ]
  },
  {
   "cell_type": "code",
   "execution_count": 13,
   "metadata": {},
   "outputs": [],
   "source": [
    "par_img_dir = \"test.img\""
   ]
  },
  {
   "cell_type": "code",
   "execution_count": 14,
   "metadata": {},
   "outputs": [],
   "source": [
    "par_img_dir = os.path.abspath(par_img_dir)"
   ]
  },
  {
   "cell_type": "code",
   "execution_count": 15,
   "metadata": {},
   "outputs": [],
   "source": [
    "subs_data = collect_info(parent_dir=par_img_dir,\n",
    "                        exclusion_list=exclusion_list)"
   ]
  },
  {
   "cell_type": "code",
   "execution_count": 16,
   "metadata": {},
   "outputs": [
    {
     "data": {
      "text/plain": [
       "'001'"
      ]
     },
     "execution_count": 16,
     "metadata": {},
     "output_type": "execute_result"
    }
   ],
   "source": [
    "subs_data[90].ses"
   ]
  },
  {
   "cell_type": "code",
   "execution_count": 17,
   "metadata": {},
   "outputs": [],
   "source": [
    "# TODO:\n",
    "#   - Write function that takes input (of array) of SubDataInfo object(s) {sub,data,ses}, and search dict - to search and categorize data\n",
    "#   - helper/support function to aid in search and categorization of data."
   ]
  },
  {
   "cell_type": "code",
   "execution_count": 10,
   "metadata": {},
   "outputs": [],
   "source": [
    "def convert_modality(sub_data: SubDataInfo,\n",
    "                     out_dir: str,\n",
    "                     search_dict: Dict[str,str],\n",
    "                     meta_dict: Optional[Dict[str,Union[int,str]]] = None,\n",
    "                     keep_unknown: Optional[bool] = False):\n",
    "    '''working doc-string'''\n",
    "\n",
    "    mod_found: bool = False\n",
    "\n",
    "    sub = sub_data.sub\n",
    "    ses = sub_data.ses\n",
    "    data = sub_data.data\n",
    "\n",
    "    if 'dcm' in data:\n",
    "        if is_valid_dcm(dcm_file=data,raise_exc=False,verbose=False):\n",
    "            pass\n",
    "        else:\n",
    "            return None\n",
    "    \n",
    "    for key,item in search_dict.items():\n",
    "        for dict_key,dict_item in search_dict[key].items():\n",
    "            if isinstance(dict_item,list):\n",
    "                if list_in_substr(in_list=dict_item,in_str=data):\n",
    "                    mod_found = True\n",
    "                    if verbose:\n",
    "                        print(f\"{key} - {dict_key}: {dict_item}\")\n",
    "                    modality_type = key\n",
    "                    modality_label = dict_key\n",
    "                    [com_param_dict, scan_param_dict] = get_metadata(dictionary=meta_dict,modality_type=modality_type)\n",
    "                    # Conditionals for file conversion\n",
    "            elif isinstance(dict_item,dict):\n",
    "                tmp_dict = search_dict[key]\n",
    "                for d_key,d_item in tmp_dict[dict_key].items():\n",
    "                    if list_in_substr(in_list=d_item,in_str=data):\n",
    "                        if verbose:\n",
    "                            print(f\"{key} - {dict_key} - {d_key}: {d_item}\")\n",
    "                        modality_type = key\n",
    "                        modality_label = dict_key\n",
    "                        task = d_key\n",
    "                        [com_param_dict, scan_param_dict] = utils.get_metadata(dictionary=meta_dict,modality_type=modality_type,task=task)\n",
    "                        # Conditionals for file conversion"
   ]
  },
  {
   "cell_type": "code",
   "execution_count": null,
   "metadata": {},
   "outputs": [],
   "source": []
  },
  {
   "cell_type": "code",
   "execution_count": 31,
   "metadata": {},
   "outputs": [],
   "source": [
    "# Pass the large number of args as a dict\n",
    "# \n",
    "# Needs to run within for-loop\n",
    "# \n",
    "# Unable to test without actual data\n",
    "# \n",
    "# img_data = convert_image_data(file=subs_data[0].data,\n",
    "#                                 basename=\"random_str\",\n",
    "#                                 out_dir=\"out_dir\")"
   ]
  },
  {
   "cell_type": "code",
   "execution_count": null,
   "metadata": {},
   "outputs": [],
   "source": []
  },
  {
   "cell_type": "code",
   "execution_count": 19,
   "metadata": {},
   "outputs": [],
   "source": [
    "# convert_to_bids\n",
    "def data_to_bids(sub_data: SubDataInfo,\n",
    "                 out_dir: str,\n",
    "                 modality_type: Optional[str] = \"\",\n",
    "                 modality_label: Optional[str] = \"\",\n",
    "                 meta_dict: Optional[Dict] = {},\n",
    "                 mod_dict: Optional[Dict] = {}\n",
    "                 ):\n",
    "    '''working doc-string'''\n",
    "    sub_dir = os.path.join(out_dir,\"sub-\" + sub_data.sub)\n",
    "    \n",
    "    if sub_data.ses:\n",
    "        sub_dir = os.path.join(sub_dir,\"ses-\" + sub_data.ses)\n",
    "    \n",
    "    if sub_dir:\n",
    "        sub_dir: str = os.path.abspath(sub_dir)\n",
    "    else:\n",
    "        os.makedirs(sub_dir)\n",
    "        sub_dir: str = os.path.abspath(sub_dir)\n",
    "    \n",
    "    if '.par' in sub_data.data or '.dcm' in sub_data.data:\n",
    "        with TmpDir(tmp_dir=sub_data,use_cwd=False) as tmp:\n",
    "            with TmpDir.TmpFile(tmp_dir=tmp.tmp_dir) as f:\n",
    "                tmp.mk_tmp_dir()\n",
    "                [_path, basename, _ext] = f.file_parts()\n",
    "                img_data = convert_image_data(file=sub_data.data,\n",
    "                                              basename=basename,\n",
    "                                              out_dir=tmp.tmp_dir)"
   ]
  },
  {
   "cell_type": "code",
   "execution_count": null,
   "metadata": {},
   "outputs": [],
   "source": []
  }
 ],
 "metadata": {
  "kernelspec": {
   "display_name": "Python 3",
   "language": "python",
   "name": "python3"
  },
  "language_info": {
   "codemirror_mode": {
    "name": "ipython",
    "version": 3
   },
   "file_extension": ".py",
   "mimetype": "text/x-python",
   "name": "python",
   "nbconvert_exporter": "python",
   "pygments_lexer": "ipython3",
   "version": "3.8.3"
  }
 },
 "nbformat": 4,
 "nbformat_minor": 4
}
