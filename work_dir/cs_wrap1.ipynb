{
 "cells": [
  {
   "cell_type": "code",
   "execution_count": 1,
   "metadata": {},
   "outputs": [],
   "source": [
    "import os\n",
    "import sys\n",
    "import yaml\n",
    "from typing import (\n",
    "    Dict,\n",
    "    List, \n",
    "    Optional,\n",
    "    Tuple,\n",
    "    Union\n",
    ")"
   ]
  },
  {
   "cell_type": "code",
   "execution_count": 2,
   "metadata": {},
   "outputs": [],
   "source": [
    "__file__ = os.path.join(os.getcwd(),\"cs_wrap1.ipynb\")"
   ]
  },
  {
   "cell_type": "code",
   "execution_count": 3,
   "metadata": {},
   "outputs": [],
   "source": [
    "mod_path = os.path.join(os.path.dirname(os.path.abspath(__file__)),\"..\")"
   ]
  },
  {
   "cell_type": "code",
   "execution_count": 4,
   "metadata": {},
   "outputs": [],
   "source": [
    "sys.path.append(mod_path)"
   ]
  },
  {
   "cell_type": "code",
   "execution_count": 27,
   "metadata": {},
   "outputs": [],
   "source": [
    "from convert_source.cs_utils.bids_info import (\n",
    "    construct_bids_dict,\n",
    "    construct_bids_name,\n",
    "    search_bids\n",
    ")"
   ]
  },
  {
   "cell_type": "code",
   "execution_count": 28,
   "metadata": {},
   "outputs": [],
   "source": [
    "from convert_source.cs_utils.utils import (\n",
    "    BIDSimg,\n",
    "    collect_info,\n",
    "    convert_image_data,\n",
    "    dict_multi_update,\n",
    "    get_metadata,\n",
    "    list_in_substr,\n",
    "    SubInfoError,\n",
    "    SubDataInfo,\n",
    "    read_json,\n",
    "    # new functions\n",
    "    comp_dict,\n",
    "    depth,\n",
    "    list_dict\n",
    ")"
   ]
  },
  {
   "cell_type": "code",
   "execution_count": 8,
   "metadata": {},
   "outputs": [],
   "source": [
    "from convert_source.cs_utils.fileio import(\n",
    "    LogFile,\n",
    "    TmpDir\n",
    ")"
   ]
  },
  {
   "cell_type": "code",
   "execution_count": 9,
   "metadata": {},
   "outputs": [],
   "source": [
    "from convert_source.cs_utils.const import DEFAULT_CONFIG"
   ]
  },
  {
   "cell_type": "code",
   "execution_count": 10,
   "metadata": {},
   "outputs": [],
   "source": [
    "from convert_source.imgio.dcmio import (\n",
    "    is_valid_dcm\n",
    ")"
   ]
  },
  {
   "cell_type": "code",
   "execution_count": 18,
   "metadata": {},
   "outputs": [
    {
     "output_type": "execute_result",
     "data": {
      "text/plain": [
       "'/Users/adebayobraimah/Desktop/projects/convert_source/notebooks.old/config.test/config.default.yml'"
      ]
     },
     "metadata": {},
     "execution_count": 18
    }
   ],
   "source": [
    "# test_config:\n",
    "test_config = os.path.abspath(\n",
    "    os.path.join(\n",
    "        __file__,\n",
    "        '..',\n",
    "        '..',\n",
    "        'notebooks.old',\n",
    "        'config.test',\n",
    "        'config.default.yml'\n",
    "        ))\n",
    "test_config"
   ]
  },
  {
   "cell_type": "code",
   "execution_count": null,
   "metadata": {},
   "outputs": [],
   "source": []
  },
  {
   "cell_type": "code",
   "execution_count": 19,
   "metadata": {},
   "outputs": [],
   "source": [
    "def read_config(config_file: Optional[str] = \"\", \n",
    "                verbose: Optional[bool] = False\n",
    "                ) -> Tuple[Dict[str,str],Dict,Dict,Dict,List[str]]:\n",
    "    '''Reads configuration file and creates a dictionary of search terms for \n",
    "    each modality provided that each BIDS modality is used as a key via the \n",
    "    keyword 'modality_search'. Should BIDS related parameter descriptions need \n",
    "    to be used when renaming files, the related search and mapping terms can included \n",
    "    via the keywords 'bids_search' and 'bids_map', respectively. If these keywords \n",
    "    are not specified, then empty dictionaries are returned. Should exclusions be provided \n",
    "    (via the key 'exclude') then an exclusion list is created. Should this not be provided, \n",
    "    then an empty list is returned.\n",
    "\n",
    "    BIDS modalities:\n",
    "        - anat:\n",
    "            - T1w, T2w, FLAIR, etc.\n",
    "        - func:\n",
    "            - bold\n",
    "                - task:\n",
    "                    - resting state, <task-name>\n",
    "        - dwi\n",
    "        - fmap\n",
    "\n",
    "    Usage example:\n",
    "        >>> [search_dict, bids_search, bids_map, meta_dict, exclusion_list] = read_config(config_file)\n",
    "    \n",
    "    Arguments:\n",
    "        config_file: File path to yaml configuration file. If no file is used, then the default configuration file is used.\n",
    "        verbose: Prints additional information to screen.\n",
    "    \n",
    "    Returns: \n",
    "        Tuple of dictionaries and a list that consists of:\n",
    "            * search_dict: Nested dictionary of heuristic modality search terms for BIDS modalities.\n",
    "            * bids_search: Nested dictionary of heuristic BIDS search terms.\n",
    "            * bids_map: Corresponding nested dictionary of BIDS mapping terms to rename files to.\n",
    "            * meta_dict: Nested dictionary of metadata terms to write to JSON file(s).\n",
    "            * exclusion_list: List of exclusion terms.\n",
    "    \n",
    "    Raises:\n",
    "        ConfigFileReadError: Error that arises if no heuristic search terms are provided.\n",
    "    '''\n",
    "    class ConfigFileReadError(Exception):\n",
    "        pass\n",
    "\n",
    "    if config_file:\n",
    "        config_file: str = os.path.abspath(config_file)\n",
    "    else:\n",
    "        config_file: str = DEFAULT_CONFIG\n",
    "\n",
    "    with open(config_file) as file:\n",
    "        data_map: Dict[str,str] = yaml.safe_load(file)\n",
    "        if verbose:\n",
    "            print(\"Initialized parameters from configuration file\")\n",
    "    \n",
    "    # Required modality search terms\n",
    "    if any(\"modality_search\" in data_map for element in data_map):\n",
    "        if verbose:\n",
    "            print(\"Categorizing search terms\")\n",
    "        search_dict: Dict[str,str] = data_map[\"modality_search\"]\n",
    "        del data_map[\"modality_search\"]\n",
    "    else:\n",
    "        if verbose:\n",
    "            print(\"Heuristic search terms required. Exiting...\")\n",
    "        raise ConfigFileReadError(\"Heuristic search terms required. Exiting...\")\n",
    "    \n",
    "    # BIDS search terms\n",
    "    if any(\"bids_search\" in data_map for element in data_map):\n",
    "        if verbose:\n",
    "            print(\"Including BIDS related search term settings\")\n",
    "        bids_search: Dict[str,str] = data_map[\"bids_search\"]\n",
    "        del data_map[\"bids_search\"]\n",
    "    else:\n",
    "        if verbose:\n",
    "            print(\"No BIDS related search term settings\")\n",
    "        meta_dict: Dict = dict()\n",
    "    \n",
    "    # BIDS mapping terms\n",
    "    if any(\"bids_map\" in data_map for element in data_map):\n",
    "        if verbose:\n",
    "            print(\"Corresponding BIDS mapping settings\")\n",
    "        bids_map: Dict[str,str] = data_map[\"bids_map\"]\n",
    "        del data_map[\"bids_map\"]\n",
    "    else:\n",
    "        if verbose:\n",
    "            print(\"No BIDS mapping settings\")\n",
    "        meta_dict: Dict = dict()\n",
    "    \n",
    "    # Metadata terms\n",
    "    if any(\"metadata\" in data_map for element in data_map):\n",
    "        if verbose:\n",
    "            print(\"Including additional settings for metadata\")\n",
    "        meta_dict: Dict[str,Union[str,int]] = data_map[\"metadata\"]\n",
    "        del data_map[\"metadata\"]\n",
    "    else:\n",
    "        if verbose:\n",
    "            print(\"No metadata settings\")\n",
    "        meta_dict: Dict = dict()\n",
    "    \n",
    "    # Exclusion terms  \n",
    "    if any(\"exclude\" in data_map for element in data_map):\n",
    "        if verbose:\n",
    "            print(\"Exclusion option implemented\")\n",
    "        exclusion_list: List[str] = data_map[\"exclude\"]\n",
    "        del data_map[\"exclude\"]\n",
    "    else:\n",
    "        if verbose:\n",
    "            print(\"Exclusion option not implemented\")\n",
    "        exclusion_list: List = list()\n",
    "        \n",
    "    return (search_dict,\n",
    "            bids_search,\n",
    "            bids_map,\n",
    "            meta_dict,\n",
    "            exclusion_list)"
   ]
  },
  {
   "cell_type": "code",
   "execution_count": 20,
   "metadata": {},
   "outputs": [],
   "source": [
    "[search_dict,bids_search,bids_map,meta_dict,exclusion_list] = read_config(config_file=test_config)"
   ]
  },
  {
   "cell_type": "code",
   "execution_count": 26,
   "metadata": {},
   "outputs": [],
   "source": [
    "# search_dict\n",
    "# bids_search\n",
    "# bids_map\n",
    "# meta_dict\n",
    "# exclusion_list"
   ]
  },
  {
   "cell_type": "code",
   "execution_count": 32,
   "metadata": {},
   "outputs": [
    {
     "output_type": "execute_result",
     "data": {
      "text/plain": [
       "True"
      ]
     },
     "metadata": {},
     "execution_count": 32
    }
   ],
   "source": [
    "# Check BIDS search and map dicts\n",
    "comp_dict(d1=bids_search,d2=bids_map)"
   ]
  },
  {
   "cell_type": "code",
   "execution_count": null,
   "metadata": {},
   "outputs": [],
   "source": [
    "# check depth of dicts"
   ]
  },
  {
   "cell_type": "code",
   "execution_count": 37,
   "metadata": {},
   "outputs": [
    {
     "output_type": "execute_result",
     "data": {
      "text/plain": [
       "3"
      ]
     },
     "metadata": {},
     "execution_count": 37
    }
   ],
   "source": [
    "depth(search_dict['func'])"
   ]
  },
  {
   "cell_type": "code",
   "execution_count": 38,
   "metadata": {},
   "outputs": [
    {
     "output_type": "execute_result",
     "data": {
      "text/plain": [
       "2"
      ]
     },
     "metadata": {},
     "execution_count": 38
    }
   ],
   "source": [
    "depth(search_dict['anat'])"
   ]
  },
  {
   "cell_type": "code",
   "execution_count": null,
   "metadata": {},
   "outputs": [],
   "source": []
  },
  {
   "cell_type": "code",
   "execution_count": 29,
   "metadata": {},
   "outputs": [],
   "source": [
    "par_img_dir = \"test.img\""
   ]
  },
  {
   "cell_type": "code",
   "execution_count": 30,
   "metadata": {},
   "outputs": [],
   "source": [
    "par_img_dir = os.path.abspath(par_img_dir)"
   ]
  },
  {
   "cell_type": "code",
   "execution_count": 31,
   "metadata": {},
   "outputs": [],
   "source": [
    "subs_data = collect_info(parent_dir=par_img_dir,\n",
    "                        exclusion_list=exclusion_list)"
   ]
  },
  {
   "cell_type": "code",
   "execution_count": 16,
   "metadata": {},
   "outputs": [
    {
     "data": {
      "text/plain": [
       "'001'"
      ]
     },
     "execution_count": 16,
     "metadata": {},
     "output_type": "execute_result"
    }
   ],
   "source": [
    "subs_data[90].ses"
   ]
  },
  {
   "cell_type": "code",
   "execution_count": 17,
   "metadata": {},
   "outputs": [],
   "source": [
    "# TODO:\n",
    "#   - Write function that takes input (of array) of SubDataInfo object(s) {sub,data,ses}, and search dict - to search and categorize data\n",
    "#   - helper/support function to aid in search and categorization of data."
   ]
  },
  {
   "cell_type": "code",
   "execution_count": null,
   "metadata": {},
   "outputs": [],
   "source": []
  },
  {
   "cell_type": "code",
   "execution_count": 10,
   "metadata": {},
   "outputs": [],
   "source": [
    "def convert_modality(sub_data: SubDataInfo,\n",
    "                     out_dir: str,\n",
    "                     search_dict: Dict[str,str],\n",
    "                     meta_dict: Optional[Dict[str,Union[int,str]]] = None,\n",
    "                     keep_unknown: Optional[bool] = False):\n",
    "    '''working doc-string'''\n",
    "\n",
    "    mod_found: bool = False\n",
    "\n",
    "    sub = sub_data.sub\n",
    "    ses = sub_data.ses\n",
    "    data = sub_data.data\n",
    "\n",
    "    if 'dcm' in data:\n",
    "        if is_valid_dcm(dcm_file=data,raise_exc=False,verbose=False):\n",
    "            pass\n",
    "        else:\n",
    "            return None\n",
    "    \n",
    "    for key,item in search_dict.items():\n",
    "        for dict_key,dict_item in search_dict[key].items():\n",
    "            if isinstance(dict_item,list):\n",
    "                if list_in_substr(in_list=dict_item,in_str=data):\n",
    "                    mod_found = True\n",
    "                    if verbose:\n",
    "                        print(f\"{key} - {dict_key}: {dict_item}\")\n",
    "                    modality_type = key\n",
    "                    modality_label = dict_key\n",
    "                    [com_param_dict, scan_param_dict] = get_metadata(dictionary=meta_dict,modality_type=modality_type)\n",
    "                    # Conditionals for file conversion\n",
    "            elif isinstance(dict_item,dict):\n",
    "                tmp_dict = search_dict[key]\n",
    "                for d_key,d_item in tmp_dict[dict_key].items():\n",
    "                    if list_in_substr(in_list=d_item,in_str=data):\n",
    "                        if verbose:\n",
    "                            print(f\"{key} - {dict_key} - {d_key}: {d_item}\")\n",
    "                        modality_type = key\n",
    "                        modality_label = dict_key\n",
    "                        task = d_key\n",
    "                        [com_param_dict, scan_param_dict] = utils.get_metadata(dictionary=meta_dict,modality_type=modality_type,task=task)\n",
    "                        # Conditionals for file conversion"
   ]
  },
  {
   "cell_type": "code",
   "execution_count": null,
   "metadata": {},
   "outputs": [],
   "source": []
  },
  {
   "cell_type": "code",
   "execution_count": 31,
   "metadata": {},
   "outputs": [],
   "source": [
    "# Pass the large number of args as a dict\n",
    "# \n",
    "# Needs to run within for-loop\n",
    "# \n",
    "# Unable to test without actual data\n",
    "# \n",
    "# img_data = convert_image_data(file=subs_data[0].data,\n",
    "#                                 basename=\"random_str\",\n",
    "#                                 out_dir=\"out_dir\")"
   ]
  },
  {
   "cell_type": "code",
   "execution_count": null,
   "metadata": {},
   "outputs": [],
   "source": []
  },
  {
   "cell_type": "code",
   "execution_count": 25,
   "metadata": {},
   "outputs": [],
   "source": [
    "# convert_to_bids\n",
    "def data_to_bids(sub_data: SubDataInfo,\n",
    "                 out_dir: str,\n",
    "                 modality_type: Optional[str] = \"\",\n",
    "                 modality_label: Optional[str] = \"\",\n",
    "                 task: Optional[str] = \"\",\n",
    "                 meta_dict: Optional[Dict] = {},\n",
    "                 mod_dict: Optional[Dict] = {},\n",
    "                 log: Optional[LogFile] = None,\n",
    "                 env: Dict = {},\n",
    "                 dryrun: bool = False\n",
    "                 ):\n",
    "    '''working doc-string'''\n",
    "    sub_dir = os.path.join(out_dir,\"sub-\" + sub_data.sub)\n",
    "    sub_tmp = sub_dir\n",
    "    \n",
    "    if sub_data.ses:\n",
    "        sub_dir = os.path.join(sub_dir,\"ses-\" + sub_data.ses)\n",
    "    \n",
    "    if sub_dir:\n",
    "        sub_dir: str = os.path.abspath(sub_dir)\n",
    "    else:\n",
    "        os.makedirs(sub_dir)\n",
    "        sub_dir: str = os.path.abspath(sub_dir)\n",
    "    \n",
    "    if '.par' in sub_data.data or '.dcm' in sub_data.data:\n",
    "        with TmpDir(tmp_dir=sub_tmp,use_cwd=False) as tmp:\n",
    "            with TmpDir.TmpFile(tmp_dir=tmp.tmp_dir) as f:\n",
    "                tmp.mk_tmp_dir()\n",
    "                [_path, basename, _ext] = f.file_parts()\n",
    "                img_data = convert_image_data(file=sub_data.data,\n",
    "                                              basename=basename,\n",
    "                                              out_dir=tmp.tmp_dir,\n",
    "                                              log=log,\n",
    "                                              env=env,\n",
    "                                              dryrun=dryrun,\n",
    "                                              return_obj=True\n",
    "                                             )\n",
    "                \n",
    "                for i in len(img_data.imgs):\n",
    "                    if img_data.jsons[i]:\n",
    "                        json_dict: Dict = read_json(json_file=img_data.jsons[i])\n",
    "                    metadata: Dict = dict_multi_update(**meta_dict,\n",
    "                                                       **mod_dict)\n",
    "                    bids_dict: Dict = construct_bids_dict(meta_dict=metadata,\n",
    "                                                          json_dict=json_dict)\n",
    "                \n",
    "                # Put modality specific conversion functions here\n",
    "    elif '.nii' in sub_data.data:\n",
    "        # Handle NIFTI cases here\n",
    "        pass\n",
    "    else:\n",
    "        return None"
   ]
  },
  {
   "cell_type": "code",
   "execution_count": null,
   "metadata": {},
   "outputs": [],
   "source": [
    "def proc_batch(s:str,\n",
    "               search_dict: Dict,\n",
    "               bids_search: Optional[Dict] = None,\n",
    "               bids_map: Optional[Dict] = None\n",
    "              ):\n",
    "    '''\n",
    "    TODO: \n",
    "        * Use this function to search through image files\n",
    "        * This function should return lists of image data files\n",
    "            OR\n",
    "        * List of subject data (as a bids_name_dict) and the image files.\n",
    "    '''\n",
    "    # use this function to iterate through image data files and subjects\n",
    "    search_arr: List[str] = list_dict(d=search_dict)\n",
    "    \n",
    "    for i in search_arr:\n",
    "        for k,v in i.items():\n",
    "            if depth(i) == 3:\n",
    "                for k2,v2 in v.items():\n",
    "                    modality_type = k\n",
    "                    modality_label = k2\n",
    "                    mod_search = v2\n",
    "                    print(f\"{modality_type} - {modality_label} - {mod_search}\")\n",
    "                    # Do stuff here\n",
    "                    # Search str with mod_search list of substrings\n",
    "                    print(list_in_substr(in_list=mod_search,in_str=s))\n",
    "                    if list_in_substr(in_list=mod_search,in_str=s):\n",
    "                        bids_name_dict = search_bids(s=s,\n",
    "                                                     bids_search=bids_search,\n",
    "                                                     bids_map=bids_map,\n",
    "                                                     modality_type=modality_type,\n",
    "                                                     modality_label=modality_label)\n",
    "            elif depth(i) == 4:\n",
    "                for k2,v2 in v.items():\n",
    "                    for k3,v3 in v2.items():\n",
    "                        modality_type = k\n",
    "                        modality_label = k2\n",
    "                        task = k3\n",
    "                        mod_search = v3\n",
    "                        print(f\"{modality_type} - {modality_label} - {task} - {mod_search}\")\n",
    "                        # Do stuff here\n",
    "                        if list_in_substr(in_list=mod_search,in_str=s):\n",
    "                            bids_name_dict = search_bids(s=s,\n",
    "                                                         bids_search=bids_search,\n",
    "                                                         bids_map=bids_map,\n",
    "                                                         modality_type=modality_type,\n",
    "                                                         modality_label=modality_label,\n",
    "                                                         task=task)\n",
    "    # return bids_name_dict"
   ]
  }
 ],
 "metadata": {
  "kernelspec": {
   "display_name": "Python 3",
   "language": "python",
   "name": "python3"
  },
  "language_info": {
   "codemirror_mode": {
    "name": "ipython",
    "version": 3
   },
   "file_extension": ".py",
   "mimetype": "text/x-python",
   "name": "python",
   "nbconvert_exporter": "python",
   "pygments_lexer": "ipython3",
   "version": "3.8.3-final"
  }
 },
 "nbformat": 4,
 "nbformat_minor": 4
}