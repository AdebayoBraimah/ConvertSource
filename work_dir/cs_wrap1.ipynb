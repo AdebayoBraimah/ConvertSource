{
 "cells": [
  {
   "cell_type": "code",
   "execution_count": 1,
   "metadata": {},
   "outputs": [],
   "source": [
    "import os\n",
    "import sys\n",
    "import yaml\n",
    "from copy import deepcopy\n",
    "from typing import (\n",
    "    Dict,\n",
    "    List, \n",
    "    Optional,\n",
    "    Tuple,\n",
    "    Union\n",
    ")"
   ]
  },
  {
   "cell_type": "code",
   "execution_count": 2,
   "metadata": {},
   "outputs": [],
   "source": [
    "__file__ = os.path.join(os.getcwd(),\"cs_wrap1.ipynb\")"
   ]
  },
  {
   "cell_type": "code",
   "execution_count": 3,
   "metadata": {},
   "outputs": [],
   "source": [
    "mod_path = os.path.join(os.path.dirname(os.path.abspath(__file__)),\"..\")"
   ]
  },
  {
   "cell_type": "code",
   "execution_count": 4,
   "metadata": {},
   "outputs": [],
   "source": [
    "sys.path.append(mod_path)"
   ]
  },
  {
   "cell_type": "code",
   "execution_count": 5,
   "metadata": {},
   "outputs": [],
   "source": [
    "from convert_source.cs_utils.bids_info import (\n",
    "    construct_bids_dict,\n",
    "    construct_bids_name,\n",
    "    search_bids\n",
    ")"
   ]
  },
  {
   "cell_type": "code",
   "execution_count": 85,
   "metadata": {},
   "outputs": [],
   "source": [
    "from convert_source.cs_utils.utils import (\n",
    "    BIDSimg,\n",
    "    collect_info,\n",
    "    convert_image_data,\n",
    "    dict_multi_update,\n",
    "    get_metadata,\n",
    "    list_in_substr,\n",
    "    SubInfoError,\n",
    "    SubDataInfo,\n",
    "    read_json,\n",
    "    write_josn,\n",
    "    # new functions\n",
    "    comp_dict,\n",
    "    depth,\n",
    "    list_dict\n",
    ")"
   ]
  },
  {
   "cell_type": "code",
   "execution_count": 86,
   "metadata": {},
   "outputs": [],
   "source": [
    "from convert_source.cs_utils.fileio import(\n",
    "    LogFile,\n",
    "    TmpDir,\n",
    "    ConversionError\n",
    ")"
   ]
  },
  {
   "cell_type": "code",
   "execution_count": 8,
   "metadata": {},
   "outputs": [],
   "source": [
    "from convert_source.cs_utils.const import(\n",
    "    DEFAULT_CONFIG,\n",
    "    BIDS_PARAM\n",
    ")"
   ]
  },
  {
   "cell_type": "code",
   "execution_count": 9,
   "metadata": {},
   "outputs": [],
   "source": [
    "from convert_source.imgio.dcmio import (\n",
    "    is_valid_dcm\n",
    ")"
   ]
  },
  {
   "cell_type": "code",
   "execution_count": 10,
   "metadata": {},
   "outputs": [
    {
     "data": {
      "text/plain": [
       "'/Users/adebayobraimah/Desktop/projects/convert_source/notebooks.old/config.test/config.default.yml'"
      ]
     },
     "execution_count": 10,
     "metadata": {},
     "output_type": "execute_result"
    }
   ],
   "source": [
    "# test_config:\n",
    "test_config = os.path.abspath(\n",
    "    os.path.join(\n",
    "        __file__,\n",
    "        '..',\n",
    "        '..',\n",
    "        'notebooks.old',\n",
    "        'config.test',\n",
    "        'config.default.yml'\n",
    "        ))\n",
    "test_config"
   ]
  },
  {
   "cell_type": "code",
   "execution_count": null,
   "metadata": {},
   "outputs": [],
   "source": []
  },
  {
   "cell_type": "code",
   "execution_count": 11,
   "metadata": {},
   "outputs": [],
   "source": [
    "def read_config(config_file: Optional[str] = \"\", \n",
    "                verbose: Optional[bool] = False\n",
    "                ) -> Tuple[Dict[str,str],Dict,Dict,Dict,List[str]]:\n",
    "    '''Reads configuration file and creates a dictionary of search terms for \n",
    "    each modality provided that each BIDS modality is used as a key via the \n",
    "    keyword 'modality_search'. Should BIDS related parameter descriptions need \n",
    "    to be used when renaming files, the related search and mapping terms can included \n",
    "    via the keywords 'bids_search' and 'bids_map', respectively. If these keywords \n",
    "    are not specified, then empty dictionaries are returned. Should exclusions be provided \n",
    "    (via the key 'exclude') then an exclusion list is created. Should this not be provided, \n",
    "    then an empty list is returned.\n",
    "\n",
    "    BIDS modalities:\n",
    "        - anat:\n",
    "            - T1w, T2w, FLAIR, etc.\n",
    "        - func:\n",
    "            - bold\n",
    "                - task:\n",
    "                    - resting state, <task-name>\n",
    "        - dwi\n",
    "        - fmap\n",
    "\n",
    "    Usage example:\n",
    "        >>> [search_dict, bids_search, bids_map, meta_dict, exclusion_list] = read_config(config_file)\n",
    "    \n",
    "    Arguments:\n",
    "        config_file: File path to yaml configuration file. If no file is used, then the default configuration file is used.\n",
    "        verbose: Prints additional information to screen.\n",
    "    \n",
    "    Returns: \n",
    "        Tuple of dictionaries and a list that consists of:\n",
    "            * search_dict: Nested dictionary of heuristic modality search terms for BIDS modalities.\n",
    "            * bids_search: Nested dictionary of heuristic BIDS search terms.\n",
    "            * bids_map: Corresponding nested dictionary of BIDS mapping terms to rename files to.\n",
    "            * meta_dict: Nested dictionary of metadata terms to write to JSON file(s).\n",
    "            * exclusion_list: List of exclusion terms.\n",
    "    \n",
    "    Raises:\n",
    "        ConfigFileReadError: Error that arises if no heuristic search terms are provided.\n",
    "    '''\n",
    "    class ConfigFileReadError(Exception):\n",
    "        pass\n",
    "\n",
    "    if config_file:\n",
    "        config_file: str = os.path.abspath(config_file)\n",
    "    else:\n",
    "        config_file: str = DEFAULT_CONFIG\n",
    "\n",
    "    with open(config_file) as file:\n",
    "        data_map: Dict[str,str] = yaml.safe_load(file)\n",
    "        if verbose:\n",
    "            print(\"Initialized parameters from configuration file\")\n",
    "    \n",
    "    # Required modality search terms\n",
    "    if any(\"modality_search\" in data_map for element in data_map):\n",
    "        if verbose:\n",
    "            print(\"Categorizing search terms\")\n",
    "        search_dict: Dict[str,str] = data_map[\"modality_search\"]\n",
    "        del data_map[\"modality_search\"]\n",
    "    else:\n",
    "        if verbose:\n",
    "            print(\"Heuristic search terms required. Exiting...\")\n",
    "        raise ConfigFileReadError(\"Heuristic search terms required. Exiting...\")\n",
    "    \n",
    "    # BIDS search terms\n",
    "    if any(\"bids_search\" in data_map for element in data_map):\n",
    "        if verbose:\n",
    "            print(\"Including BIDS related search term settings\")\n",
    "        bids_search: Dict[str,str] = data_map[\"bids_search\"]\n",
    "        del data_map[\"bids_search\"]\n",
    "    else:\n",
    "        if verbose:\n",
    "            print(\"No BIDS related search term settings\")\n",
    "        meta_dict: Dict = dict()\n",
    "    \n",
    "    # BIDS mapping terms\n",
    "    if any(\"bids_map\" in data_map for element in data_map):\n",
    "        if verbose:\n",
    "            print(\"Corresponding BIDS mapping settings\")\n",
    "        bids_map: Dict[str,str] = data_map[\"bids_map\"]\n",
    "        del data_map[\"bids_map\"]\n",
    "    else:\n",
    "        if verbose:\n",
    "            print(\"No BIDS mapping settings\")\n",
    "        meta_dict: Dict = dict()\n",
    "    \n",
    "    # Metadata terms\n",
    "    if any(\"metadata\" in data_map for element in data_map):\n",
    "        if verbose:\n",
    "            print(\"Including additional settings for metadata\")\n",
    "        meta_dict: Dict[str,Union[str,int]] = data_map[\"metadata\"]\n",
    "        del data_map[\"metadata\"]\n",
    "    else:\n",
    "        if verbose:\n",
    "            print(\"No metadata settings\")\n",
    "        meta_dict: Dict = dict()\n",
    "    \n",
    "    # Exclusion terms  \n",
    "    if any(\"exclude\" in data_map for element in data_map):\n",
    "        if verbose:\n",
    "            print(\"Exclusion option implemented\")\n",
    "        exclusion_list: List[str] = data_map[\"exclude\"]\n",
    "        del data_map[\"exclude\"]\n",
    "    else:\n",
    "        if verbose:\n",
    "            print(\"Exclusion option not implemented\")\n",
    "        exclusion_list: List = list()\n",
    "        \n",
    "    return (search_dict,\n",
    "            bids_search,\n",
    "            bids_map,\n",
    "            meta_dict,\n",
    "            exclusion_list)"
   ]
  },
  {
   "cell_type": "code",
   "execution_count": 49,
   "metadata": {},
   "outputs": [],
   "source": [
    "[search_dict,bids_search,bids_map,meta_dict,exclusion_list] = read_config(config_file=test_config)"
   ]
  },
  {
   "cell_type": "code",
   "execution_count": 13,
   "metadata": {},
   "outputs": [],
   "source": [
    "# search_dict\n",
    "# bids_search\n",
    "# bids_map\n",
    "# meta_dict\n",
    "# exclusion_list"
   ]
  },
  {
   "cell_type": "code",
   "execution_count": 14,
   "metadata": {},
   "outputs": [
    {
     "data": {
      "text/plain": [
       "True"
      ]
     },
     "execution_count": 14,
     "metadata": {},
     "output_type": "execute_result"
    }
   ],
   "source": [
    "# Check BIDS search and map dicts\n",
    "comp_dict(d1=bids_search,d2=bids_map)"
   ]
  },
  {
   "cell_type": "code",
   "execution_count": 15,
   "metadata": {},
   "outputs": [],
   "source": [
    "# check depth of dicts"
   ]
  },
  {
   "cell_type": "code",
   "execution_count": 16,
   "metadata": {},
   "outputs": [
    {
     "data": {
      "text/plain": [
       "3"
      ]
     },
     "execution_count": 16,
     "metadata": {},
     "output_type": "execute_result"
    }
   ],
   "source": [
    "depth(search_dict['func'])"
   ]
  },
  {
   "cell_type": "code",
   "execution_count": 17,
   "metadata": {},
   "outputs": [
    {
     "data": {
      "text/plain": [
       "2"
      ]
     },
     "execution_count": 17,
     "metadata": {},
     "output_type": "execute_result"
    }
   ],
   "source": [
    "depth(search_dict['anat'])"
   ]
  },
  {
   "cell_type": "code",
   "execution_count": 18,
   "metadata": {},
   "outputs": [
    {
     "data": {
      "text/plain": [
       "{'info': {'sub': '', 'ses': ''},\n",
       " 'anat': {'acq': '', 'ce': '', 'rec': '', 'run': '', 'modality_label': ''},\n",
       " 'func': {'task': '',\n",
       "  'acq': '',\n",
       "  'ce': '',\n",
       "  'dir': '',\n",
       "  'rec': '',\n",
       "  'run': '',\n",
       "  'echo': '',\n",
       "  'modality_label': ''},\n",
       " 'dwi': {'acq': '', 'dir': '', 'run': '', 'modality_label': ''},\n",
       " 'fmap': {'acq': '',\n",
       "  'run': '',\n",
       "  'case1': {'phasediff': '', 'magnitude1': '', 'magnitude2': ''},\n",
       "  'case2': {'phase1': '', 'phase2': '', 'magnitude1': '', 'magnitude2': ''},\n",
       "  'case3': {'magnitude': '', 'fieldmap': ''},\n",
       "  'case4': {'ce': '', 'dir': '', 'modality_label': 'epi'}}}"
      ]
     },
     "execution_count": 18,
     "metadata": {},
     "output_type": "execute_result"
    }
   ],
   "source": [
    "BIDS_PARAM"
   ]
  },
  {
   "cell_type": "code",
   "execution_count": 19,
   "metadata": {},
   "outputs": [
    {
     "data": {
      "text/plain": [
       "{'common': {'Manufacturer': 'Philips',\n",
       "  'ManufacturersModelName': 'Ingenia',\n",
       "  'MagneticFieldStrength': 3,\n",
       "  'InstitutionName': \"Cincinnati Children's Hospital Medical Center\"},\n",
       " 'func': {'rest': {'ParallelAcquisitionTechnique': 'SENSE',\n",
       "   'PhaseEncodingDirection': 'j',\n",
       "   'MultibandAccelerationFactor': 6,\n",
       "   'TaskName': 'Resting State',\n",
       "   'dir': 'PA',\n",
       "   'NumberOfVolumesDiscardedByScanner': 4}}}"
      ]
     },
     "execution_count": 19,
     "metadata": {},
     "output_type": "execute_result"
    }
   ],
   "source": [
    "meta_dict"
   ]
  },
  {
   "cell_type": "code",
   "execution_count": null,
   "metadata": {},
   "outputs": [],
   "source": []
  },
  {
   "cell_type": "code",
   "execution_count": null,
   "metadata": {},
   "outputs": [],
   "source": []
  },
  {
   "cell_type": "code",
   "execution_count": null,
   "metadata": {},
   "outputs": [],
   "source": []
  },
  {
   "cell_type": "code",
   "execution_count": 20,
   "metadata": {},
   "outputs": [],
   "source": [
    "# 1. read config file\n",
    "# 2. check bids search and map dicts\n",
    "# 3. collect subject directory information [sub/ses ID, and data paths], exclude data as necessary\n",
    "# 4. pass to function: List[SubDataInfo], search_dict, bids_search, bids_map, and meta_dict"
   ]
  },
  {
   "cell_type": "code",
   "execution_count": 21,
   "metadata": {},
   "outputs": [],
   "source": [
    "par_img_dir = \"test.img\""
   ]
  },
  {
   "cell_type": "code",
   "execution_count": 22,
   "metadata": {},
   "outputs": [],
   "source": [
    "par_img_dir = os.path.abspath(par_img_dir)"
   ]
  },
  {
   "cell_type": "code",
   "execution_count": 23,
   "metadata": {},
   "outputs": [],
   "source": [
    "# 3 [exclusion list is used here]\n",
    "subs_data = collect_info(parent_dir=par_img_dir,\n",
    "                        exclusion_list=exclusion_list)"
   ]
  },
  {
   "cell_type": "code",
   "execution_count": 24,
   "metadata": {},
   "outputs": [
    {
     "data": {
      "text/plain": [
       "'001'"
      ]
     },
     "execution_count": 24,
     "metadata": {},
     "output_type": "execute_result"
    }
   ],
   "source": [
    "subs_data[90].ses"
   ]
  },
  {
   "cell_type": "code",
   "execution_count": 25,
   "metadata": {},
   "outputs": [],
   "source": [
    "# TODO:\n",
    "#   - Write function that takes input (of array) of SubDataInfo object(s) {sub,data,ses}, and search dict - to search and categorize data\n",
    "#   - helper/support function to aid in search and categorization of data."
   ]
  },
  {
   "cell_type": "code",
   "execution_count": null,
   "metadata": {},
   "outputs": [],
   "source": []
  },
  {
   "cell_type": "code",
   "execution_count": 84,
   "metadata": {},
   "outputs": [],
   "source": [
    "def bids_id(s:str,\n",
    "            search_dict: Dict,\n",
    "            bids_search: Optional[Dict] = None,\n",
    "            bids_map: Optional[Dict] = None,\n",
    "            bids_name_dict: Optional[Dict] = None\n",
    "           ) -> Tuple[Dict[str,str],str,str,str]:\n",
    "    '''\n",
    "    TODO:\n",
    "        * split the input string so that only the relevant parts of the filename are searched.\n",
    "        * contingency function to search image file headers.\n",
    "        \n",
    "    Performs identification of descriptive BIDS information relevant for file naming, provided\n",
    "    a BIDS search dictionary and a BIDS map dictionary. The resulting information is then placed\n",
    "    in nested dictionary of BIDS related descriptive terms.\n",
    "    \n",
    "    Usage example:\n",
    "        >>> bids_example_dict = bids_id(\"ImageFile00001.dcm\")\n",
    "        \n",
    "    Arguments:\n",
    "        s: Input str/file to be searched.\n",
    "        search_dict: Dictionary of modality specific search terms.\n",
    "        bids_search: Dictionary of BIDS specific search terms.\n",
    "        bids_map: Dictionary of BIDS related terms to be mapped to BIDS search terms.\n",
    "        bids_name_dict: Existing BIDS name dictionary. If provided, an updated copy of this dictionary is returned.\n",
    "        \n",
    "    Returns:\n",
    "        Tuple that consists of:\n",
    "            * Nested dictionary of BIDS descriptive naming related terms.\n",
    "            * Modality type.\n",
    "            * Modality label.\n",
    "            * Task label.\n",
    "    '''\n",
    "    search_arr: List[str] = list_dict(d=search_dict)\n",
    "    \n",
    "    if bids_name_dict:\n",
    "        bids_name_dict: Dict = deepcopy(bids_name_dict)\n",
    "    else:\n",
    "        bids_name_dict: Dict = deepcopy(BIDS_PARAM)\n",
    "    \n",
    "    mod_found: bool = False\n",
    "    \n",
    "    for i in search_arr:\n",
    "        if mod_found:\n",
    "            break\n",
    "        for k,v in i.items():\n",
    "            if depth(i) == 3:\n",
    "                for k2,v2 in v.items():\n",
    "                    modality_type: str = k\n",
    "                    modality_label: str = k2\n",
    "                    task: str = \"\"\n",
    "                    mod_search: List[str] = v2\n",
    "                    if list_in_substr(in_list=mod_search,in_str=s):\n",
    "                        bids_name_dict: Dict = search_bids(s=s,\n",
    "                                                           bids_search=bids_search,\n",
    "                                                           bids_map=bids_map,\n",
    "                                                           modality_type=modality_type,\n",
    "                                                           modality_label=modality_label,\n",
    "                                                           bids_name_dict=bids_name_dict)\n",
    "            elif depth(i) == 4:\n",
    "                for k2,v2 in v.items():\n",
    "                    for k3,v3 in v2.items():\n",
    "                        modality_type: str = k\n",
    "                        modality_label: str = k2\n",
    "                        task: str = k3\n",
    "                        mod_search: List[str] = v3\n",
    "                        if list_in_substr(in_list=mod_search,in_str=s):\n",
    "                            bids_name_dict: Dict = search_bids(s=s,\n",
    "                                                               bids_search=bids_search,\n",
    "                                                               bids_map=bids_map,\n",
    "                                                               modality_type=modality_type,\n",
    "                                                               modality_label=modality_label,\n",
    "                                                               task=task,\n",
    "                                                               bids_name_dict=bids_name_dict)\n",
    "    return (bids_name_dict,\n",
    "            modality_type,\n",
    "            modality_label,\n",
    "            task)"
   ]
  },
  {
   "cell_type": "code",
   "execution_count": 26,
   "metadata": {},
   "outputs": [],
   "source": [
    "def batch_proc(subs_data: List[SubDataInfo],\n",
    "               search_dict: Dict = {},\n",
    "               meta_dict: Optional[Dict] = {},\n",
    "               bids_search: Optional[Dict] = {},\n",
    "               bids_map: Optional[Dict] = {}\n",
    "              ):\n",
    "    '''working doc-string'''\n",
    "    subs_bids: List = []\n",
    "        \n",
    "    for sub_data in subs_data:\n",
    "        data: str = sub_data.data\n",
    "        bids_name_dict: Dict = deepcopy(BIDS_PARAM)\n",
    "        bids_name_dict['info']['sub'] = sub_data.sub\n",
    "        if sub_data.ses:\n",
    "            bids_name_dict['info']['ses'] = sub_data.ses\n",
    "        [bids_name_dict, modality_type, modality_label, task] = bids_id(s=data,\n",
    "                                                                        search_dict=search_dict,\n",
    "                                                                        bids_search=bids_search,\n",
    "                                                                        bids_map=bids_map,\n",
    "                                                                        bids_name_dict=bids_name_dict)\n",
    "        [meta_com_dict, meta_scan_dict] = get_metadata(dictionary=meta_dict,\n",
    "                                                       modality_type=modality_type,\n",
    "                                                       task=task)\n",
    "        # convert data here"
   ]
  },
  {
   "cell_type": "code",
   "execution_count": null,
   "metadata": {},
   "outputs": [],
   "source": []
  },
  {
   "cell_type": "code",
   "execution_count": 27,
   "metadata": {},
   "outputs": [
    {
     "data": {
      "text/plain": [
       "{'info': {'sub': '', 'ses': ''},\n",
       " 'anat': {'acq': '', 'ce': '', 'rec': '', 'run': '', 'modality_label': ''},\n",
       " 'func': {'task': '',\n",
       "  'acq': '',\n",
       "  'ce': '',\n",
       "  'dir': '',\n",
       "  'rec': '',\n",
       "  'run': '',\n",
       "  'echo': '',\n",
       "  'modality_label': ''},\n",
       " 'dwi': {'acq': '', 'dir': '', 'run': '', 'modality_label': ''},\n",
       " 'fmap': {'acq': '',\n",
       "  'run': '',\n",
       "  'case1': {'phasediff': '', 'magnitude1': '', 'magnitude2': ''},\n",
       "  'case2': {'phase1': '', 'phase2': '', 'magnitude1': '', 'magnitude2': ''},\n",
       "  'case3': {'magnitude': '', 'fieldmap': ''},\n",
       "  'case4': {'ce': '', 'dir': '', 'modality_label': 'epi'}}}"
      ]
     },
     "execution_count": 27,
     "metadata": {},
     "output_type": "execute_result"
    }
   ],
   "source": [
    "BIDS_PARAM"
   ]
  },
  {
   "cell_type": "code",
   "execution_count": null,
   "metadata": {},
   "outputs": [],
   "source": []
  },
  {
   "cell_type": "code",
   "execution_count": null,
   "metadata": {},
   "outputs": [],
   "source": []
  },
  {
   "cell_type": "code",
   "execution_count": null,
   "metadata": {},
   "outputs": [],
   "source": []
  },
  {
   "cell_type": "code",
   "execution_count": null,
   "metadata": {},
   "outputs": [],
   "source": []
  },
  {
   "cell_type": "code",
   "execution_count": null,
   "metadata": {},
   "outputs": [],
   "source": []
  },
  {
   "cell_type": "code",
   "execution_count": null,
   "metadata": {},
   "outputs": [],
   "source": []
  },
  {
   "cell_type": "code",
   "execution_count": null,
   "metadata": {},
   "outputs": [],
   "source": []
  },
  {
   "cell_type": "code",
   "execution_count": 31,
   "metadata": {},
   "outputs": [],
   "source": [
    "# Pass the large number of args as a dict\n",
    "# \n",
    "# Needs to run within for-loop\n",
    "# \n",
    "# Unable to test without actual data\n",
    "# \n",
    "# img_data = convert_image_data(file=subs_data[0].data,\n",
    "#                                 basename=\"random_str\",\n",
    "#                                 out_dir=\"out_dir\")"
   ]
  },
  {
   "cell_type": "code",
   "execution_count": null,
   "metadata": {},
   "outputs": [],
   "source": []
  },
  {
   "cell_type": "code",
   "execution_count": 25,
   "metadata": {},
   "outputs": [],
   "source": [
    "def data_to_bids(sub_data: SubDataInfo,\n",
    "                 bids_name_dict: Dict,\n",
    "                 out_dir: str,\n",
    "                 modality_type: Optional[str] = \"\",\n",
    "                 modality_label: Optional[str] = \"\",\n",
    "                 task: Optional[str] = \"\",\n",
    "                 meta_dict: Optional[Dict] = {},\n",
    "                 mod_dict: Optional[Dict] = {},\n",
    "                 log: Optional[LogFile] = None,\n",
    "                 gzip: bool = True,\n",
    "                 env: Optional[Dict] = {},\n",
    "                 dryrun: bool = False\n",
    "                 ):\n",
    "    '''\n",
    "    TODO: \n",
    "        * Construct dcm2niix's args as a dict, and pass that as args to this function.\n",
    "    '''\n",
    "    sub: Union[int,str] = sub_data.sub\n",
    "    ses: Union[int,str] = sub_data.ses\n",
    "    data: str = sub_data.data\n",
    "    \n",
    "    sub_dir: str = os.path.join(out_dir,\"sub-\" + sub)\n",
    "    sub_tmp: str = sub_dir\n",
    "    \n",
    "    if ses:\n",
    "        sub_dir: str = os.path.join(sub_dir,\"ses-\" + ses)\n",
    "    \n",
    "    if sub_dir:\n",
    "        sub_dir: str = os.path.abspath(sub_dir)\n",
    "    else:\n",
    "        os.makedirs(sub_dir)\n",
    "        sub_dir: str = os.path.abspath(sub_dir)\n",
    "    \n",
    "    out_data_dir: str = os.path.join(sub_dir, modality_type)\n",
    "    \n",
    "    # construct bids file name\n",
    "    # Write function to construct BIDS name args,\n",
    "    #     this function needs to be able handle\n",
    "    #     python dict KeyErrors\n",
    "    bids_name_dict = construct_bids_name(sub_data=sub_data,\n",
    "                                         modality_type=modality_type,\n",
    "                                         modality_label=modality_label,\n",
    "                                         acq=bids_name_dict[modality_type][modality_label])\n",
    "    \n",
    "    if '.par' in data or '.dcm' in data:\n",
    "        with TmpDir(tmp_dir=sub_tmp,use_cwd=False) as tmp:\n",
    "            with TmpDir.TmpFile(tmp_dir=tmp.tmp_dir) as f:\n",
    "                tmp.mk_tmp_dir()\n",
    "                [_path, basename, _ext] = f.file_parts()\n",
    "                try:\n",
    "                    img_data = convert_image_data(file=data,\n",
    "                                                  basename=basename,\n",
    "                                                  out_dir=tmp.tmp_dir,\n",
    "                                                  log=log,\n",
    "                                                  env=env,\n",
    "                                                  dryrun=dryrun,\n",
    "                                                  return_obj=True)\n",
    "\n",
    "                    # Update JSON files\n",
    "                    for i in range(0,len(img_data.imgs)):\n",
    "                        if img_data.jsons[i]:\n",
    "                            json_dict: Dict = read_json(json_file=img_data.jsons[i])\n",
    "\n",
    "                            metadata: Dict = dict_multi_update(**meta_dict,\n",
    "                                                               **mod_dict)\n",
    "\n",
    "                            bids_dict: Dict = construct_bids_dict(meta_dict=metadata,\n",
    "                                                                  json_dict=json_dict)\n",
    "\n",
    "                            img_data.jsons[i]: str = write_josn(json_file=img_data.jsons[i],\n",
    "                                                                dictionary=bids_dict)\n",
    "                    # Create output directory\n",
    "                    out_data_dir: str = os.path.join(sub_dir, modality_type)\n",
    "                except ConversionError:\n",
    "                    pass\n",
    "                \n",
    "                # Put modality specific conversion functions here\n",
    "    elif '.nii' in sub_data.data:\n",
    "        # Handle NIFTI cases here\n",
    "        pass\n",
    "    else:\n",
    "        return None"
   ]
  },
  {
   "cell_type": "code",
   "execution_count": 79,
   "metadata": {},
   "outputs": [],
   "source": [
    "# def bids_id(s:str,\n",
    "#             search_dict: Dict,\n",
    "#             bids_search: Optional[Dict] = None,\n",
    "#             bids_map: Optional[Dict] = None,\n",
    "#             bids_name_dict: Optional[Dict] = None\n",
    "#            ) -> Union[Dict[str,str],None]:\n",
    "#     '''\n",
    "#     TODO:\n",
    "#         * split the input string so that only the relevant parts of the filename are searched.\n",
    "#         * contingency function to search image file headers\n",
    "        \n",
    "#     Performs identification of descriptive BIDS information relevant for file naming, provided\n",
    "#     a BIDS search dictionary and a BIDS map dictionary. The resulting information is then placed\n",
    "#     in nested dictionary of BIDS related descriptive terms.\n",
    "    \n",
    "#     Usage example:\n",
    "#         >>> bids_example_dict = bids_id(\"ImageFile00001.dcm\")\n",
    "        \n",
    "#     Arguments:\n",
    "#         s: Input str/file to be searched.\n",
    "#         search_dict: Dictionary of modality specific search terms.\n",
    "#         bids_search: Dictionary of BIDS specific search terms.\n",
    "#         bids_map: Dictionary of BIDS related terms to be mapped to BIDS search terms.\n",
    "#         bids_name_dict: Existing BIDS name dictionary.\n",
    "        \n",
    "#     Returns:\n",
    "#         Nested dictionary of BIDS descriptive naming related terms.\n",
    "#     '''\n",
    "#     search_arr: List[str] = list_dict(d=search_dict)\n",
    "    \n",
    "#     if bids_name_dict:\n",
    "#         bids_name_dict: Dict = deepcopy(bids_name_dict)\n",
    "#     else:\n",
    "#         bids_name_dict: Dict = None\n",
    "    \n",
    "#     mod_found: bool = False\n",
    "    \n",
    "#     for i in search_arr:\n",
    "#         if mod_found:\n",
    "#             break\n",
    "#         for k,v in i.items():\n",
    "#             if depth(i) == 3:\n",
    "#                 for k2,v2 in v.items():\n",
    "#                     modality_type = k\n",
    "#                     modality_label = k2\n",
    "#                     mod_search = v2\n",
    "#                     if list_in_substr(in_list=mod_search,in_str=s):\n",
    "#                         bids_name_dict: Dict = search_bids(s=s,\n",
    "#                                                            bids_search=bids_search,\n",
    "#                                                            bids_map=bids_map,\n",
    "#                                                            modality_type=modality_type,\n",
    "#                                                            modality_label=modality_label,\n",
    "#                                                            bids_name_dict=bids_name_dict)\n",
    "#             elif depth(i) == 4:\n",
    "#                 for k2,v2 in v.items():\n",
    "#                     for k3,v3 in v2.items():\n",
    "#                         modality_type = k\n",
    "#                         modality_label = k2\n",
    "#                         task = k3\n",
    "#                         mod_search = v3\n",
    "#                         if list_in_substr(in_list=mod_search,in_str=s):\n",
    "#                             bids_name_dict: Dict = search_bids(s=s,\n",
    "#                                                                bids_search=bids_search,\n",
    "#                                                                bids_map=bids_map,\n",
    "#                                                                modality_type=modality_type,\n",
    "#                                                                modality_label=modality_label,\n",
    "#                                                                task=task,\n",
    "#                                                                bids_name_dict=bids_name_dict)\n",
    "#     return bids_name_dict"
   ]
  },
  {
   "cell_type": "code",
   "execution_count": 29,
   "metadata": {},
   "outputs": [
    {
     "data": {
      "text/plain": [
       "'/Users/adebayobraimah/Desktop/projects/convert_source/work_dir/test.img/002-001/PAR REC/FLAIR.PAR'"
      ]
     },
     "execution_count": 29,
     "metadata": {},
     "output_type": "execute_result"
    }
   ],
   "source": [
    "subs_data[65].data"
   ]
  },
  {
   "cell_type": "code",
   "execution_count": 30,
   "metadata": {},
   "outputs": [
    {
     "data": {
      "text/plain": [
       "'/Users/adebayobraimah/Desktop/projects/convert_source/work_dir/test.img/002-001/PAR REC/task-2-func.PAR'"
      ]
     },
     "execution_count": 30,
     "metadata": {},
     "output_type": "execute_result"
    }
   ],
   "source": [
    "subs_data[61].data"
   ]
  },
  {
   "cell_type": "code",
   "execution_count": 31,
   "metadata": {
    "scrolled": true
   },
   "outputs": [
    {
     "data": {
      "text/plain": [
       "'/Users/adebayobraimah/Desktop/projects/convert_source/work_dir/test.img/002-001/PAR REC/T1.PAR'"
      ]
     },
     "execution_count": 31,
     "metadata": {},
     "output_type": "execute_result"
    }
   ],
   "source": [
    "subs_data[66].data"
   ]
  },
  {
   "cell_type": "code",
   "execution_count": 32,
   "metadata": {},
   "outputs": [
    {
     "data": {
      "text/plain": [
       "'/Users/adebayobraimah/Desktop/projects/convert_source/work_dir/test.img/002-001/PAR REC/DWI_sbref.PAR'"
      ]
     },
     "execution_count": 32,
     "metadata": {},
     "output_type": "execute_result"
    }
   ],
   "source": [
    "subs_data[64].data"
   ]
  },
  {
   "cell_type": "code",
   "execution_count": 70,
   "metadata": {},
   "outputs": [],
   "source": [
    "dd = deepcopy(BIDS_PARAM)"
   ]
  },
  {
   "cell_type": "code",
   "execution_count": 71,
   "metadata": {},
   "outputs": [],
   "source": [
    "dd['info']['sub'] = subs_data[61].sub"
   ]
  },
  {
   "cell_type": "code",
   "execution_count": 72,
   "metadata": {},
   "outputs": [],
   "source": [
    "dd['info']['ses'] = subs_data[61].ses"
   ]
  },
  {
   "cell_type": "code",
   "execution_count": 73,
   "metadata": {
    "scrolled": true
   },
   "outputs": [
    {
     "data": {
      "text/plain": [
       "{'info': {'sub': '002', 'ses': '001'},\n",
       " 'anat': {'acq': '', 'ce': '', 'rec': '', 'run': '', 'modality_label': ''},\n",
       " 'func': {'task': '',\n",
       "  'acq': '',\n",
       "  'ce': '',\n",
       "  'dir': '',\n",
       "  'rec': '',\n",
       "  'run': '',\n",
       "  'echo': '',\n",
       "  'modality_label': ''},\n",
       " 'dwi': {'acq': '', 'dir': '', 'run': '', 'modality_label': ''},\n",
       " 'fmap': {'acq': '',\n",
       "  'run': '',\n",
       "  'case1': {'phasediff': '', 'magnitude1': '', 'magnitude2': ''},\n",
       "  'case2': {'phase1': '', 'phase2': '', 'magnitude1': '', 'magnitude2': ''},\n",
       "  'case3': {'magnitude': '', 'fieldmap': ''},\n",
       "  'case4': {'ce': '', 'dir': '', 'modality_label': 'epi'}}}"
      ]
     },
     "execution_count": 73,
     "metadata": {},
     "output_type": "execute_result"
    }
   ],
   "source": [
    "dd"
   ]
  },
  {
   "cell_type": "code",
   "execution_count": null,
   "metadata": {},
   "outputs": [],
   "source": []
  },
  {
   "cell_type": "code",
   "execution_count": 77,
   "metadata": {},
   "outputs": [
    {
     "data": {
      "text/plain": [
       "{'info': {'sub': '002', 'ses': '001'},\n",
       " 'anat': {'acq': '', 'ce': '', 'rec': '', 'run': '', 'modality_label': 'T1w'},\n",
       " 'func': {'task': '',\n",
       "  'acq': '',\n",
       "  'ce': '',\n",
       "  'dir': '',\n",
       "  'rec': '',\n",
       "  'run': '',\n",
       "  'echo': '',\n",
       "  'modality_label': ''},\n",
       " 'dwi': {'acq': '', 'dir': '', 'run': '', 'modality_label': ''},\n",
       " 'fmap': {'acq': '',\n",
       "  'run': '',\n",
       "  'case1': {'phasediff': '', 'magnitude1': '', 'magnitude2': ''},\n",
       "  'case2': {'phase1': '', 'phase2': '', 'magnitude1': '', 'magnitude2': ''},\n",
       "  'case3': {'magnitude': '', 'fieldmap': ''},\n",
       "  'case4': {'ce': '', 'dir': '', 'modality_label': 'epi'}}}"
      ]
     },
     "execution_count": 77,
     "metadata": {},
     "output_type": "execute_result"
    }
   ],
   "source": [
    "bids_id(subs_data[66].data,search_dict,bids_search,bids_map,bids_name_dict=dd)"
   ]
  },
  {
   "cell_type": "code",
   "execution_count": 42,
   "metadata": {},
   "outputs": [
    {
     "data": {
      "text/plain": [
       "{'info': {'sub': '', 'ses': ''},\n",
       " 'anat': {'acq': '', 'ce': '', 'rec': '', 'run': '', 'modality_label': ''},\n",
       " 'func': {'task': '',\n",
       "  'acq': '',\n",
       "  'ce': '',\n",
       "  'dir': '',\n",
       "  'rec': '',\n",
       "  'run': '',\n",
       "  'echo': '',\n",
       "  'modality_label': ''},\n",
       " 'dwi': {'acq': '', 'dir': '', 'run': '', 'modality_label': ''},\n",
       " 'fmap': {'acq': '',\n",
       "  'run': '',\n",
       "  'case1': {'phasediff': '', 'magnitude1': '', 'magnitude2': ''},\n",
       "  'case2': {'phase1': '', 'phase2': '', 'magnitude1': '', 'magnitude2': ''},\n",
       "  'case3': {'magnitude': '', 'fieldmap': ''},\n",
       "  'case4': {'ce': '', 'dir': '', 'modality_label': 'epi'}}}"
      ]
     },
     "execution_count": 42,
     "metadata": {},
     "output_type": "execute_result"
    }
   ],
   "source": [
    "BIDS_PARAM"
   ]
  },
  {
   "cell_type": "code",
   "execution_count": 33,
   "metadata": {},
   "outputs": [
    {
     "data": {
      "text/plain": [
       "True"
      ]
     },
     "execution_count": 33,
     "metadata": {},
     "output_type": "execute_result"
    }
   ],
   "source": [
    "list_in_substr(in_list=['rsfMR', 'rest', 'FFE', 'FEEPI','rs-func'],\n",
    "               in_str=subs_data[61].data)"
   ]
  },
  {
   "cell_type": "code",
   "execution_count": 112,
   "metadata": {},
   "outputs": [
    {
     "data": {
      "text/plain": [
       "True"
      ]
     },
     "execution_count": 112,
     "metadata": {},
     "output_type": "execute_result"
    }
   ],
   "source": [
    "list_in_substr(in_list=['T1', 'TFE'], in_str=subs_data[66].data)"
   ]
  },
  {
   "cell_type": "code",
   "execution_count": null,
   "metadata": {},
   "outputs": [],
   "source": []
  },
  {
   "cell_type": "code",
   "execution_count": 52,
   "metadata": {},
   "outputs": [],
   "source": [
    "ss: List[str] = list_dict(d=search_dict)"
   ]
  },
  {
   "cell_type": "code",
   "execution_count": 60,
   "metadata": {},
   "outputs": [
    {
     "data": {
      "text/plain": [
       "4"
      ]
     },
     "execution_count": 60,
     "metadata": {},
     "output_type": "execute_result"
    }
   ],
   "source": [
    "depth(ss[1])"
   ]
  },
  {
   "cell_type": "code",
   "execution_count": 61,
   "metadata": {},
   "outputs": [
    {
     "data": {
      "text/plain": [
       "3"
      ]
     },
     "execution_count": 61,
     "metadata": {},
     "output_type": "execute_result"
    }
   ],
   "source": [
    "depth(ss[0])"
   ]
  },
  {
   "cell_type": "code",
   "execution_count": 73,
   "metadata": {},
   "outputs": [
    {
     "data": {
      "text/plain": [
       "{'anat': {'T1w': ['T1', 'T1w', 'TFE'], 'T2w': ['T2', 'T2w', 'TSE']}}"
      ]
     },
     "execution_count": 73,
     "metadata": {},
     "output_type": "execute_result"
    }
   ],
   "source": [
    "ss[0]"
   ]
  },
  {
   "cell_type": "code",
   "execution_count": null,
   "metadata": {},
   "outputs": [],
   "source": []
  }
 ],
 "metadata": {
  "kernelspec": {
   "display_name": "Python 3",
   "language": "python",
   "name": "python3"
  },
  "language_info": {
   "codemirror_mode": {
    "name": "ipython",
    "version": 3
   },
   "file_extension": ".py",
   "mimetype": "text/x-python",
   "name": "python",
   "nbconvert_exporter": "python",
   "pygments_lexer": "ipython3",
   "version": "3.8.3"
  }
 },
 "nbformat": 4,
 "nbformat_minor": 4
}
