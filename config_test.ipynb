{
 "cells": [
  {
   "cell_type": "code",
   "execution_count": 2,
   "metadata": {},
   "outputs": [],
   "source": [
    "import pydicom\n",
    "import json\n",
    "import re\n",
    "import os\n",
    "import sys\n",
    "import shutil\n",
    "import glob\n",
    "import random\n",
    "import subprocess\n",
    "import pathlib\n",
    "import yaml"
   ]
  },
  {
   "cell_type": "code",
   "execution_count": 9,
   "metadata": {},
   "outputs": [],
   "source": [
    "# cfg = \"C:/Users/smart/Desktop/GitProjects/convsauce/ConvertSource/cfg.test.yml\"\n",
    "cfg = \"/Users/brac4g/Desktop/convsauce/ConvertSource/cfg.test.yml\""
   ]
  },
  {
   "cell_type": "code",
   "execution_count": 13,
   "metadata": {},
   "outputs": [],
   "source": [
    "def read_config(config_file, verbose = False):\n",
    "    '''\n",
    "    Reads configuration file and creates a dictionary of search terms for \n",
    "    certain modalities provided that BIDS modalities are used as keys. If\n",
    "    exclusions are provided (via the key 'exclude') then an exclusion list is \n",
    "    created. Otherwise, 'exclusion_list' is returned as an empty list. If \n",
    "    additional settings are specified, they should be done so via the key\n",
    "    'settings' to enable writing of additional metadata.\n",
    "    \n",
    "    Arguments:\n",
    "        config_file (string): file path to yaml configuration file.\n",
    "        verbose (boolean): Prints additional information to screen.\n",
    "    \n",
    "    Returns: \n",
    "        data_map (dict): Nested dictionary of search terms for BIDS modalities\n",
    "        exclusion_list (list): List of exclusion terms\n",
    "        settings_dict (dict): Nested dictionary of metadata terms to write to JSON file(s)\n",
    "    '''\n",
    "    \n",
    "    with open(config_file) as file:\n",
    "        data_map = yaml.safe_load(file)\n",
    "        if verbose:\n",
    "            print(\"Initialized parameters from configuration file\")\n",
    "        \n",
    "    if any(\"exclude\" in data_map for element in data_map):\n",
    "        if verbose:\n",
    "            print(\"exclusion option implemented\")\n",
    "        exclusion_list = data_map[\"exclude\"]\n",
    "        del data_map[\"exclude\"]\n",
    "    else:\n",
    "        if verbose:\n",
    "            print(\"exclusion option not implemented\")\n",
    "        exclusion_list = list()\n",
    "        \n",
    "    if any(\"settings\" in data_map for element in data_map):\n",
    "        if verbose:\n",
    "            print(\"implementing additional settings\")\n",
    "        settings_dict = data_map[\"settings\"]\n",
    "        del data_map[\"settings\"]\n",
    "    else:\n",
    "        if verbose:\n",
    "            print(\"no additional settings implemented\")\n",
    "        settings_dict = dict()\n",
    "        \n",
    "    return data_map,exclusion_list,settings_dict"
   ]
  },
  {
   "cell_type": "code",
   "execution_count": 14,
   "metadata": {},
   "outputs": [
    {
     "name": "stdout",
     "output_type": "stream",
     "text": [
      "Initialized parameters from configuration file\n",
      "exclusion option implemented\n",
      "implementing additional settings\n"
     ]
    }
   ],
   "source": [
    "search_dict, exclusion_list, param_dict = read_config(cfg,True)"
   ]
  },
  {
   "cell_type": "code",
   "execution_count": 15,
   "metadata": {},
   "outputs": [
    {
     "data": {
      "text/plain": [
       "{'anat': {'T1w': ['T1', 'T1w', 'TFE'], 'T2w': ['T2', 'T2w', 'TSE']},\n",
       " 'func': {'bold': {'rest': ['rsfMR', 'rest', 'FFE', 'FEEPI'],\n",
       "   'visualstrobe': ['vis', 'visual']}},\n",
       " 'fmap': {'fmap': ['map']},\n",
       " 'swi': {'swi': ['swi']},\n",
       " 'dwi': {'dwi': ['diffusion', 'DTI', 'DWI', '6_DIR']}}"
      ]
     },
     "execution_count": 15,
     "metadata": {},
     "output_type": "execute_result"
    }
   ],
   "source": [
    "search_dict"
   ]
  },
  {
   "cell_type": "code",
   "execution_count": 16,
   "metadata": {
    "scrolled": false
   },
   "outputs": [
    {
     "data": {
      "text/plain": [
       "['SURVEY',\n",
       " 'Reg',\n",
       " 'SHORT',\n",
       " 'LONG',\n",
       " 'MRS',\n",
       " 'PRESS',\n",
       " 'DEFAULT',\n",
       " 'ScreenCapture',\n",
       " 'PD',\n",
       " 'ALL',\n",
       " 'SPECTRO']"
      ]
     },
     "execution_count": 16,
     "metadata": {},
     "output_type": "execute_result"
    }
   ],
   "source": [
    "exclusion_list"
   ]
  },
  {
   "cell_type": "code",
   "execution_count": 17,
   "metadata": {},
   "outputs": [
    {
     "data": {
      "text/plain": [
       "{'general': {'metadata': {'Manufacturer': 'Philips',\n",
       "   'ManufacturersModelName': 'Ingenia',\n",
       "   'InstitutionName': \"Cincinnati Children's Hospital Medical Center\",\n",
       "   'ParallelAcquisitionTechnique': 'SENSE'}},\n",
       " 'func': {'metadata': {'PhaseEncodingDirection': 'j'}}}"
      ]
     },
     "execution_count": 17,
     "metadata": {},
     "output_type": "execute_result"
    }
   ],
   "source": [
    "param_dict"
   ]
  },
  {
   "cell_type": "code",
   "execution_count": 18,
   "metadata": {},
   "outputs": [],
   "source": [
    "# data_dir_par = \"C:/Users/smart/Desktop/GitProjects/convsauce/287H_C10/PAR REC\"\n",
    "data_dir_par = \"/Users/brac4g/Desktop/convsauce/287H_C10/PAR REC\""
   ]
  },
  {
   "cell_type": "code",
   "execution_count": 19,
   "metadata": {},
   "outputs": [],
   "source": [
    "# data_dir_dcm = \"C:/Users/smart/Desktop/GitProjects/convsauce/IRC287H-8/20171003\"\n",
    "data_dir_dcm = \"/Users/brac4g/Desktop/convsauce/IRC287H-8/20171003\""
   ]
  },
  {
   "cell_type": "code",
   "execution_count": 21,
   "metadata": {},
   "outputs": [],
   "source": [
    "data_dir_nii = \"/Users/brac4g/Desktop/convsauce/287H_C10/NIFTI\""
   ]
  },
  {
   "cell_type": "code",
   "execution_count": 24,
   "metadata": {},
   "outputs": [],
   "source": [
    "def get_dcm_files(dcm_dir):\n",
    "    '''\n",
    "    Creates a file list consisting of the first DICOM file in a parent DICOM directory. \n",
    "    A file list is then returned.\n",
    "    \n",
    "    Arguments:\n",
    "        dcm_dir (string): Absolute path to parent DICOM data directory\n",
    "\n",
    "    Returns: \n",
    "        dcm_files (list): List of DICOM filenames, complete with their absolute paths.\n",
    "    '''\n",
    "    \n",
    "    # Create directory list\n",
    "    dcm_dir = os.path.abspath(dcm_dir)\n",
    "    parent_dcm_dir = os.path.join(dcm_dir,'*')\n",
    "    dcm_dir_list = glob.glob(parent_dcm_dir, recursive=True)\n",
    "\n",
    "    # Initilized dcm_file list\n",
    "    dcm_files = list()\n",
    "    \n",
    "    # Iterate through files in the dicom directory list\n",
    "    for dir_ in dcm_dir_list:\n",
    "        # print(dir_)\n",
    "        for root, dirs, files in os.walk(dir_):\n",
    "            # print(files[0])\n",
    "            tmp_dcm_file = files[0] # only need the first dicom file\n",
    "            tmp_dcm_dir = root\n",
    "            tmp_file = os.path.join(tmp_dcm_dir, tmp_dcm_file)\n",
    "\n",
    "            dcm_files.append(tmp_file)\n",
    "            break\n",
    "\n",
    "    return dcm_files"
   ]
  },
  {
   "cell_type": "code",
   "execution_count": 27,
   "metadata": {},
   "outputs": [],
   "source": [
    "def create_file_list(data_dir, file_ext=\"\", order=\"size\"):\n",
    "    '''\n",
    "    Creates a file list by globbing a directory for a specific file\n",
    "    extension and sorting by some determined order. A file list is \n",
    "    then returned\n",
    "    \n",
    "    Arguments:\n",
    "        data_dir (string): Absolute path to data directory (must be a directory dump of image data)\n",
    "        file_ext (string): File extension to glob. Built-in options include:\n",
    "            - 'par' or 'PAR': Searches for PAR headers\n",
    "            - 'dcm' or 'DICOM': Searches for DICOM directories, then searches for one file from each DICOM directory\n",
    "            - 'nii', or 'Nifti': Searches for nifti files (including gzipped nifti files)\n",
    "        order (string): Order to sort the list. Valid options are: 'size' and 'time':\n",
    "            - 'size': sorts by file size in ascending order (default)\n",
    "            - 'time': sorts by file modification time in ascending order\n",
    "            - 'none': no sorting is applied and the list is generated as the system finds the files\n",
    "    \n",
    "    Returns: \n",
    "        file_list (list): List of filenames, complete with their absolute paths.\n",
    "    '''\n",
    "    \n",
    "    # Check file extension\n",
    "    if file_ext != \"\":\n",
    "        if file_ext.upper() == \"PAR\" or file_ext.upper() == \"REC\":\n",
    "            file_ext = \"PAR\"\n",
    "            file_ext = f\".{file_ext.upper()}\"\n",
    "        elif file_ext.lower() == \"dcm\" or file_ext.upper() == \"DICOM\":\n",
    "            file_ext = \"dcm\"\n",
    "            file_ext = f\".{file_ext.lower()}\"\n",
    "        elif file_ext.lower() == \"nii\" or file_ext.lower() == \"nifti\":\n",
    "            file_ext = \"nii\"\n",
    "            file_ext = f\".{file_ext.lower()}*\" # Add wildcard for globbling gzipped files\n",
    "        else:\n",
    "            file_ext = f\".{file_ext}\"\n",
    "    \n",
    "    # Check sort order\n",
    "    if order.lower() == \"size\":\n",
    "        order_key = os.path.getsize\n",
    "    elif order.lower() == \"time\":\n",
    "        order_key = os.path.getmtime\n",
    "    elif order.lower() == \"none\":\n",
    "        order_key=None\n",
    "    else:\n",
    "        order_key = os.path.getsize\n",
    "        print(\"Unrecognized keyword option. Using default.\")\n",
    "    \n",
    "    # Create file list\n",
    "    if file_ext == \".dcm\":\n",
    "        file_list = sorted(get_dcm_files(data_dir), key=order_key, reverse=False)\n",
    "    elif file_ext != \".dcm\":\n",
    "        file_names = os.path.join(data_dir, f\"*{file_ext}\")\n",
    "        file_list = sorted(glob.glob(file_names, recursive=True), key=order_key, reverse=False)\n",
    "    \n",
    "    return file_list"
   ]
  },
  {
   "cell_type": "code",
   "execution_count": 28,
   "metadata": {},
   "outputs": [],
   "source": [
    "par_file_list = create_file_list(data_dir=data_dir_par,file_ext=\"par\")\n",
    "dcm_file_list = create_file_list(data_dir=data_dir_dcm,file_ext=\"dcm\")\n",
    "nii_file_list = create_file_list(data_dir=data_dir_nii,file_ext=\"nii\")"
   ]
  },
  {
   "cell_type": "code",
   "execution_count": 30,
   "metadata": {
    "scrolled": true
   },
   "outputs": [
    {
     "data": {
      "text/plain": [
       "['/Users/brac4g/Desktop/convsauce/287H_C10/PAR REC/287H_C10_WIP_NEONATAL_SURVEY_2_1.PAR',\n",
       " '/Users/brac4g/Desktop/convsauce/287H_C10/PAR REC/287H_C10_WIP_NEONATAL_SURVEY_1_1.PAR',\n",
       " '/Users/brac4g/Desktop/convsauce/287H_C10/PAR REC/287H_C10_WIP_NEONATAL_SURVEY_14_1.PAR',\n",
       " '/Users/brac4g/Desktop/convsauce/287H_C10/PAR REC/287H_C10_WIP_NEONATAL_SURVEY_16_1.PAR',\n",
       " '/Users/brac4g/Desktop/convsauce/287H_C10/PAR REC/287H_C10_WIP_NEONATAL_SURVEY_13_1.PAR',\n",
       " '/Users/brac4g/Desktop/convsauce/287H_C10/PAR REC/287H_C10_WIP_NEONATAL_SURVEY_17_1.PAR',\n",
       " '/Users/brac4g/Desktop/convsauce/287H_C10/PAR REC/287H_C10_isoReg_-_WIP_DTI_6DIR_B800_12_6.PAR',\n",
       " '/Users/brac4g/Desktop/convsauce/287H_C10/PAR REC/287H_C10_faReg_-_WIP_DTI_6DIR_B800_12_4.PAR',\n",
       " '/Users/brac4g/Desktop/convsauce/287H_C10/PAR REC/287H_C10_SAG_4_5.PAR',\n",
       " '/Users/brac4g/Desktop/convsauce/287H_C10/PAR REC/287H_C10_SAG_15_5.PAR',\n",
       " '/Users/brac4g/Desktop/convsauce/287H_C10/PAR REC/287H_C10_AXIAL__4_4.PAR',\n",
       " '/Users/brac4g/Desktop/convsauce/287H_C10/PAR REC/287H_C10_AXIAL__15_4.PAR',\n",
       " '/Users/brac4g/Desktop/convsauce/287H_C10/PAR REC/287H_C10_AXIAL__3_3.PAR',\n",
       " '/Users/brac4g/Desktop/convsauce/287H_C10/PAR REC/287H_C10_CORONAL__4_3.PAR',\n",
       " '/Users/brac4g/Desktop/convsauce/287H_C10/PAR REC/287H_C10_CORONAL__15_3.PAR',\n",
       " '/Users/brac4g/Desktop/convsauce/287H_C10/PAR REC/287H_C10_CORONAL__3_2.PAR',\n",
       " '/Users/brac4g/Desktop/convsauce/287H_C10/PAR REC/287H_C10_WIP_rsfMRI_NR1_MB3_SENSE_1_fat_shift_A_7_1.PAR',\n",
       " '/Users/brac4g/Desktop/convsauce/287H_C10/PAR REC/287H_C10_WIP_rsfMRI_NR1_MB3_SENSE_1_fat_shift_P_8_1.PAR',\n",
       " '/Users/brac4g/Desktop/convsauce/287H_C10/PAR REC/287H_C10_WIP_Philips_GRE_Map_SENSE_10_1.PAR',\n",
       " '/Users/brac4g/Desktop/convsauce/287H_C10/PAR REC/287H_C10_WIP_T2W_TSE_AXIAL_NEONATE_NSA1_4_1.PAR',\n",
       " '/Users/brac4g/Desktop/convsauce/287H_C10/PAR REC/287H_C10_WIP_T2W_TSE_AXIAL_NEONATE_NSA1_15_1.PAR',\n",
       " '/Users/brac4g/Desktop/convsauce/287H_C10/PAR REC/287H_C10_WIP_SAG_T1W_3D_Y_INNER_TI_1100_3_1.PAR',\n",
       " '/Users/brac4g/Desktop/convsauce/287H_C10/PAR REC/287H_C10_WIP_6_DIR_B0_A_TE88_SENSE_NO_MB_NO_4DYN_5_1.PAR',\n",
       " '/Users/brac4g/Desktop/convsauce/287H_C10/PAR REC/287H_C10_WIP_SWIp_11_1.PAR',\n",
       " '/Users/brac4g/Desktop/convsauce/287H_C10/PAR REC/287H_C10_dReg_-_WIP_DTI_6DIR_B800_12_3.PAR',\n",
       " '/Users/brac4g/Desktop/convsauce/287H_C10/PAR REC/287H_C10_WIP_DTI_6DIR_B800_12_1.PAR',\n",
       " '/Users/brac4g/Desktop/convsauce/287H_C10/PAR REC/287H_C10_Reg_-_WIP_DTI_6DIR_B800_12_2.PAR',\n",
       " '/Users/brac4g/Desktop/convsauce/287H_C10/PAR REC/287H_C10_WIP_6_DIR_B0_A_TE88_6DYN_20_1.PAR',\n",
       " '/Users/brac4g/Desktop/convsauce/287H_C10/PAR REC/287H_C10_WIP_36DIR_DTI_B800__P_SENSE_NO__MB_MAX_GRAD_6_1.PAR',\n",
       " '/Users/brac4g/Desktop/convsauce/287H_C10/PAR REC/287H_C10_WIP_DTI_B2000_A68_FAT_SHIFT_P_MB2_SENSE_2_TE88_21_1.PAR',\n",
       " '/Users/brac4g/Desktop/convsauce/287H_C10/PAR REC/287H_C10_WIP_rsfMRI_400M_MB3_SENSE_1_fat_shift_P_9_1.PAR']"
      ]
     },
     "execution_count": 30,
     "metadata": {},
     "output_type": "execute_result"
    }
   ],
   "source": [
    "par_file_list"
   ]
  },
  {
   "cell_type": "code",
   "execution_count": 31,
   "metadata": {},
   "outputs": [
    {
     "data": {
      "text/plain": [
       "['/Users/brac4g/Desktop/convsauce/IRC287H-8/20171003/1101_rsfMRI_MB6_SENSE_1_fat_shift_P_017100310465322437/MR1101027463.dcm',\n",
       " '/Users/brac4g/Desktop/convsauce/IRC287H-8/20171003/0_DEFAULT_PS_SERIES_2017100310463791022/PR0000000001.dcm',\n",
       " '/Users/brac4g/Desktop/convsauce/IRC287H-8/20171003/1701_WM_SV_PRESS_35_017100311174543840/MR1701000001.dcm',\n",
       " '/Users/brac4g/Desktop/convsauce/IRC287H-8/20171003/201_SAG_T1W_3D_Y_INNER_TI_1100_017100310184810020/MR0201000137.dcm',\n",
       " '/Users/brac4g/Desktop/convsauce/IRC287H-8/20171003/303_CORONAL_2017100310262626000/MR0303000091.dcm',\n",
       " '/Users/brac4g/Desktop/convsauce/IRC287H-8/20171003/0_DEFAULT_PS_SERIES_2017100310374358016/PR0000000001.dcm']"
      ]
     },
     "execution_count": 31,
     "metadata": {},
     "output_type": "execute_result"
    }
   ],
   "source": [
    "dcm_file_list"
   ]
  },
  {
   "cell_type": "code",
   "execution_count": 32,
   "metadata": {
    "scrolled": true
   },
   "outputs": [
    {
     "data": {
      "text/plain": [
       "['/Users/brac4g/Desktop/convsauce/287H_C10/NIFTI/287H_C10_WIP_Philips_GRE_Map_SENSE_10_1.nii.gz',\n",
       " '/Users/brac4g/Desktop/convsauce/287H_C10/NIFTI/287H_C10_WIP_T2W_TSE_AXIAL_NEONATE_NSA1_15_1.nii.gz',\n",
       " '/Users/brac4g/Desktop/convsauce/287H_C10/NIFTI/287H_C10_WIP_T2W_TSE_AXIAL_NEONATE_NSA1_4_1.nii.gz',\n",
       " '/Users/brac4g/Desktop/convsauce/287H_C10/NIFTI/287H_C10_WIP_SAG_T1W_3D_Y_INNER_TI_1100_3_1.nii.gz',\n",
       " '/Users/brac4g/Desktop/convsauce/287H_C10/NIFTI/287H_C10_CORONAL__15_3.nii.gz',\n",
       " '/Users/brac4g/Desktop/convsauce/287H_C10/NIFTI/287H_C10_AXIAL__15_4.nii.gz',\n",
       " '/Users/brac4g/Desktop/convsauce/287H_C10/NIFTI/287H_C10_SAG_15_5.nii.gz',\n",
       " '/Users/brac4g/Desktop/convsauce/287H_C10/NIFTI/287H_C10_AXIAL__3_3.nii.gz',\n",
       " '/Users/brac4g/Desktop/convsauce/287H_C10/NIFTI/287H_C10_SAG_4_5.nii.gz',\n",
       " '/Users/brac4g/Desktop/convsauce/287H_C10/NIFTI/287H_C10_AXIAL__4_4.nii.gz',\n",
       " '/Users/brac4g/Desktop/convsauce/287H_C10/NIFTI/287H_C10_CORONAL__4_3.nii.gz',\n",
       " '/Users/brac4g/Desktop/convsauce/287H_C10/NIFTI/287H_C10_CORONAL__3_2.nii.gz']"
      ]
     },
     "execution_count": 32,
     "metadata": {},
     "output_type": "execute_result"
    }
   ],
   "source": [
    "nii_file_list"
   ]
  },
  {
   "cell_type": "code",
   "execution_count": 84,
   "metadata": {},
   "outputs": [],
   "source": [
    "def file_exclude(file_list, data_dir, exclusion_list = [], verbose = False):\n",
    "    '''\n",
    "    Excludes files from the conversion process by removing filenames\n",
    "    that contain words that match those found in the 'exclusion_list'\n",
    "    from the 'read_config' function - should any files need/want to be \n",
    "    excluded.\n",
    "    \n",
    "    If 'exclusion_list' is empty, then the original 'file_list' is returned.\n",
    "    \n",
    "    Arguments:\n",
    "        file_list (list): List of filenames\n",
    "        data_dir (string): Absolute path to parent directory that contains the image data\n",
    "        exclusion_list (list): List of words to be matched. Filenames that contain these words will be excluded.\n",
    "        verbose (bool): Boolean - True or False.\n",
    "    \n",
    "    Returns: \n",
    "        currated_list (list): Currated list of filenames, with unwanted filenames removed.\n",
    "    '''\n",
    "            \n",
    "    # Check file extension in file list\n",
    "    if 'dcm' in file_list[0]:\n",
    "        file_ext = \"dcm\"\n",
    "        file_ext = f\".{file_ext.lower()}\"\n",
    "    elif 'PAR' in file_list[0]:\n",
    "        file_ext = \"PAR\"\n",
    "        file_ext = f\".{file_ext.upper()}\"\n",
    "    elif 'nii' in file_list[0]:\n",
    "        file_ext = \"nii\"\n",
    "        file_ext = f\".{file_ext.lower()}*\" # Add wildcard for globbling gzipped files\n",
    "    else:\n",
    "        file_ext = \"\"\n",
    "        file_ext = f\".{file_ext.lower()}\"\n",
    "    \n",
    "    # create set of lists\n",
    "    file_set = set(file_list)\n",
    "    \n",
    "    # create empty sets\n",
    "    currated_set = set()\n",
    "    exclusion_set = set()\n",
    "    \n",
    "    if len(exclusion_list) == 0:\n",
    "        currated_set = file_set\n",
    "    else:\n",
    "        for file in exclusion_list:\n",
    "            if file_ext == '.dcm':\n",
    "                dir_ = os.path.join(data_dir, f\"*{file}*\",f\"*{file_ext}\")\n",
    "            else:\n",
    "                dir_ = os.path.join(data_dir, f\"*{file}*{file_ext}\")\n",
    "            f_names = glob.glob(dir_, recursive=True)        \n",
    "            f_names_set = set(f_names)\n",
    "            exclusion_set.update(f_names_set)\n",
    "            \n",
    "        currated_set = file_set.difference(exclusion_set)\n",
    "\n",
    "    currated_list = list(currated_set)\n",
    "    \n",
    "    return currated_list"
   ]
  },
  {
   "cell_type": "code",
   "execution_count": 85,
   "metadata": {
    "scrolled": true
   },
   "outputs": [],
   "source": [
    "par_file_list_currated = file_exclude(par_file_list,data_dir_par,exclusion_list)\n",
    "dcm_file_list_currated = file_exclude(dcm_file_list,data_dir_dcm,exclusion_list)\n",
    "nii_file_list_currated = file_exclude(nii_file_list,data_dir_nii,exclusion_list)"
   ]
  },
  {
   "cell_type": "code",
   "execution_count": 86,
   "metadata": {
    "scrolled": true
   },
   "outputs": [
    {
     "data": {
      "text/plain": [
       "['/Users/brac4g/Desktop/convsauce/287H_C10/PAR REC/287H_C10_WIP_SAG_T1W_3D_Y_INNER_TI_1100_3_1.PAR',\n",
       " '/Users/brac4g/Desktop/convsauce/287H_C10/PAR REC/287H_C10_WIP_DTI_B2000_A68_FAT_SHIFT_P_MB2_SENSE_2_TE88_21_1.PAR',\n",
       " '/Users/brac4g/Desktop/convsauce/287H_C10/PAR REC/287H_C10_WIP_rsfMRI_NR1_MB3_SENSE_1_fat_shift_A_7_1.PAR',\n",
       " '/Users/brac4g/Desktop/convsauce/287H_C10/PAR REC/287H_C10_WIP_rsfMRI_400M_MB3_SENSE_1_fat_shift_P_9_1.PAR',\n",
       " '/Users/brac4g/Desktop/convsauce/287H_C10/PAR REC/287H_C10_WIP_Philips_GRE_Map_SENSE_10_1.PAR',\n",
       " '/Users/brac4g/Desktop/convsauce/287H_C10/PAR REC/287H_C10_WIP_36DIR_DTI_B800__P_SENSE_NO__MB_MAX_GRAD_6_1.PAR',\n",
       " '/Users/brac4g/Desktop/convsauce/287H_C10/PAR REC/287H_C10_WIP_DTI_6DIR_B800_12_1.PAR',\n",
       " '/Users/brac4g/Desktop/convsauce/287H_C10/PAR REC/287H_C10_AXIAL__4_4.PAR',\n",
       " '/Users/brac4g/Desktop/convsauce/287H_C10/PAR REC/287H_C10_WIP_6_DIR_B0_A_TE88_6DYN_20_1.PAR',\n",
       " '/Users/brac4g/Desktop/convsauce/287H_C10/PAR REC/287H_C10_WIP_T2W_TSE_AXIAL_NEONATE_NSA1_4_1.PAR',\n",
       " '/Users/brac4g/Desktop/convsauce/287H_C10/PAR REC/287H_C10_WIP_SWIp_11_1.PAR',\n",
       " '/Users/brac4g/Desktop/convsauce/287H_C10/PAR REC/287H_C10_AXIAL__3_3.PAR',\n",
       " '/Users/brac4g/Desktop/convsauce/287H_C10/PAR REC/287H_C10_SAG_4_5.PAR',\n",
       " '/Users/brac4g/Desktop/convsauce/287H_C10/PAR REC/287H_C10_CORONAL__15_3.PAR',\n",
       " '/Users/brac4g/Desktop/convsauce/287H_C10/PAR REC/287H_C10_WIP_rsfMRI_NR1_MB3_SENSE_1_fat_shift_P_8_1.PAR',\n",
       " '/Users/brac4g/Desktop/convsauce/287H_C10/PAR REC/287H_C10_AXIAL__15_4.PAR',\n",
       " '/Users/brac4g/Desktop/convsauce/287H_C10/PAR REC/287H_C10_CORONAL__3_2.PAR',\n",
       " '/Users/brac4g/Desktop/convsauce/287H_C10/PAR REC/287H_C10_WIP_6_DIR_B0_A_TE88_SENSE_NO_MB_NO_4DYN_5_1.PAR',\n",
       " '/Users/brac4g/Desktop/convsauce/287H_C10/PAR REC/287H_C10_CORONAL__4_3.PAR',\n",
       " '/Users/brac4g/Desktop/convsauce/287H_C10/PAR REC/287H_C10_SAG_15_5.PAR',\n",
       " '/Users/brac4g/Desktop/convsauce/287H_C10/PAR REC/287H_C10_WIP_T2W_TSE_AXIAL_NEONATE_NSA1_15_1.PAR']"
      ]
     },
     "execution_count": 86,
     "metadata": {},
     "output_type": "execute_result"
    }
   ],
   "source": [
    "par_file_list_currated"
   ]
  },
  {
   "cell_type": "code",
   "execution_count": 87,
   "metadata": {},
   "outputs": [
    {
     "data": {
      "text/plain": [
       "21"
      ]
     },
     "execution_count": 87,
     "metadata": {},
     "output_type": "execute_result"
    }
   ],
   "source": [
    "len(par_file_list_currated)"
   ]
  },
  {
   "cell_type": "code",
   "execution_count": 88,
   "metadata": {
    "scrolled": true
   },
   "outputs": [
    {
     "data": {
      "text/plain": [
       "['/Users/brac4g/Desktop/convsauce/IRC287H-8/20171003/303_CORONAL_2017100310262626000/MR0303000091.dcm',\n",
       " '/Users/brac4g/Desktop/convsauce/IRC287H-8/20171003/201_SAG_T1W_3D_Y_INNER_TI_1100_017100310184810020/MR0201000137.dcm',\n",
       " '/Users/brac4g/Desktop/convsauce/IRC287H-8/20171003/1101_rsfMRI_MB6_SENSE_1_fat_shift_P_017100310465322437/MR1101027463.dcm']"
      ]
     },
     "execution_count": 88,
     "metadata": {},
     "output_type": "execute_result"
    }
   ],
   "source": [
    "dcm_file_list_currated"
   ]
  },
  {
   "cell_type": "code",
   "execution_count": 89,
   "metadata": {},
   "outputs": [
    {
     "data": {
      "text/plain": [
       "3"
      ]
     },
     "execution_count": 89,
     "metadata": {},
     "output_type": "execute_result"
    }
   ],
   "source": [
    "len(dcm_file_list_currated)"
   ]
  },
  {
   "cell_type": "code",
   "execution_count": 90,
   "metadata": {
    "scrolled": true
   },
   "outputs": [
    {
     "data": {
      "text/plain": [
       "['/Users/brac4g/Desktop/convsauce/287H_C10/NIFTI/287H_C10_AXIAL__15_4.nii.gz',\n",
       " '/Users/brac4g/Desktop/convsauce/287H_C10/NIFTI/287H_C10_SAG_15_5.nii.gz',\n",
       " '/Users/brac4g/Desktop/convsauce/287H_C10/NIFTI/287H_C10_AXIAL__4_4.nii.gz',\n",
       " '/Users/brac4g/Desktop/convsauce/287H_C10/NIFTI/287H_C10_SAG_4_5.nii.gz',\n",
       " '/Users/brac4g/Desktop/convsauce/287H_C10/NIFTI/287H_C10_WIP_T2W_TSE_AXIAL_NEONATE_NSA1_4_1.nii.gz',\n",
       " '/Users/brac4g/Desktop/convsauce/287H_C10/NIFTI/287H_C10_CORONAL__3_2.nii.gz',\n",
       " '/Users/brac4g/Desktop/convsauce/287H_C10/NIFTI/287H_C10_CORONAL__4_3.nii.gz',\n",
       " '/Users/brac4g/Desktop/convsauce/287H_C10/NIFTI/287H_C10_CORONAL__15_3.nii.gz',\n",
       " '/Users/brac4g/Desktop/convsauce/287H_C10/NIFTI/287H_C10_WIP_SAG_T1W_3D_Y_INNER_TI_1100_3_1.nii.gz',\n",
       " '/Users/brac4g/Desktop/convsauce/287H_C10/NIFTI/287H_C10_AXIAL__3_3.nii.gz',\n",
       " '/Users/brac4g/Desktop/convsauce/287H_C10/NIFTI/287H_C10_WIP_Philips_GRE_Map_SENSE_10_1.nii.gz',\n",
       " '/Users/brac4g/Desktop/convsauce/287H_C10/NIFTI/287H_C10_WIP_T2W_TSE_AXIAL_NEONATE_NSA1_15_1.nii.gz']"
      ]
     },
     "execution_count": 90,
     "metadata": {},
     "output_type": "execute_result"
    }
   ],
   "source": [
    "nii_file_list_currated"
   ]
  },
  {
   "cell_type": "code",
   "execution_count": 91,
   "metadata": {},
   "outputs": [
    {
     "data": {
      "text/plain": [
       "12"
      ]
     },
     "execution_count": 91,
     "metadata": {},
     "output_type": "execute_result"
    }
   ],
   "source": [
    "len(nii_file_list_currated)"
   ]
  },
  {
   "cell_type": "code",
   "execution_count": 92,
   "metadata": {},
   "outputs": [
    {
     "data": {
      "text/plain": [
       "{'anat': {'T1w': ['T1', 'T1w', 'TFE'], 'T2w': ['T2', 'T2w', 'TSE']},\n",
       " 'func': {'bold': {'rest': ['rsfMR', 'rest', 'FFE', 'FEEPI'],\n",
       "   'visualstrobe': ['vis', 'visual']}},\n",
       " 'fmap': {'fmap': ['map']},\n",
       " 'swi': {'swi': ['swi']},\n",
       " 'dwi': {'dwi': ['diffusion', 'DTI', 'DWI', '6_DIR']}}"
      ]
     },
     "execution_count": 92,
     "metadata": {},
     "output_type": "execute_result"
    }
   ],
   "source": [
    "search_dict"
   ]
  },
  {
   "cell_type": "code",
   "execution_count": 93,
   "metadata": {},
   "outputs": [],
   "source": [
    "def str_in_substr(sub_str_,str_):\n",
    "    '''\n",
    "    DEPRECATED: Should only be used if config_file uses comma separated\n",
    "        lists to denote search terms.\n",
    "    \n",
    "    Searches a (longer) string using a comma separated string \n",
    "    consisting of substrings. Returns 'True' or 'False' if any part\n",
    "    of the substring is found within the larger string.\n",
    "    \n",
    "    Example:\n",
    "        str_in_substr('T1,TFE','sub_T1_image_file') would return True.\n",
    "        str_in_substr('T2,TSE','sub_T1_image_file') would return False.\n",
    "    \n",
    "    Arguments:\n",
    "        sub_str_ (string): Substring used for matching.\n",
    "        str_ (string): Larger string to be searched for matches within substring.\n",
    "    \n",
    "    Returns: \n",
    "        bool_var (bool): Boolean - True or False\n",
    "    '''\n",
    "    \n",
    "    bool_var = False\n",
    "    \n",
    "    for word in sub_str_.split(\",\"):\n",
    "        if any(word in str_ for element in str_):\n",
    "            bool_var = True\n",
    "            \n",
    "    return bool_var"
   ]
  },
  {
   "cell_type": "code",
   "execution_count": 121,
   "metadata": {},
   "outputs": [],
   "source": [
    "def list_in_substr(list_,str_):\n",
    "    '''\n",
    "    Searches a string using a list that contains substrings. \n",
    "    Returns 'True' or 'False' if any elements of the list are \n",
    "    found within the string.\n",
    "    \n",
    "    Example:\n",
    "        list_in_substr('['T1','TFE']','sub_T1_image_file') would return True.\n",
    "        list_in_substr('['T2','TSE']','sub_T1_image_file') would return False.\n",
    "    \n",
    "    Arguments:\n",
    "        list_ (string): list containing strings used for matching.\n",
    "        str_ (string): Larger string to be searched for matches within substring.\n",
    "    \n",
    "    Returns: \n",
    "        bool_var (bool): Boolean - True or False\n",
    "    '''\n",
    "    \n",
    "    bool_var = False\n",
    "    \n",
    "    for word in list_:\n",
    "        if any(word.lower() in str_.lower() for element in str_.lower()):\n",
    "            bool_var = True\n",
    "            \n",
    "    return bool_var"
   ]
  },
  {
   "cell_type": "code",
   "execution_count": 101,
   "metadata": {},
   "outputs": [],
   "source": [
    "def convert_modality(dictionary, file):\n",
    "    '''\n",
    "    Converts an image file and extracts information from the filename\n",
    "    (such as the modality). \n",
    "    \n",
    "    Note: This function is still undergoing active development.\n",
    "    \n",
    "    Arguments:\n",
    "        dictionary (dict): Nested dictionary from the 'read_config' function\n",
    "        file (string): Filename with absolute filepath\n",
    "    \n",
    "    Returns: \n",
    "        None\n",
    "    '''\n",
    "    \n",
    "    mod_found = False\n",
    "    \n",
    "    for key,item in dictionary.items():\n",
    "        for dict_key,dict_item in dictionary[key].items():\n",
    "            if isinstance(dict_item,list):\n",
    "                if list_in_substr(dict_item,file):\n",
    "                    mod_found = True\n",
    "                    print(f\"{key} - {dict_key}: {dict_item}\")\n",
    "                    if mod_found:\n",
    "                        break\n",
    "            elif isinstance(dict_item,dict):\n",
    "                tmp_dict = dictionary[key]\n",
    "                for d_key,d_item in tmp_dict[dict_key].items():\n",
    "                    if list_in_substr(d_item,file):\n",
    "                        mod_found = True\n",
    "                        print(f\"{key} - {dict_key} - {d_key}: {d_item}\")\n",
    "                        if mod_found:\n",
    "                            break\n",
    "                        \n",
    "    if not mod_found:\n",
    "        print(\"unknown modality\")\n",
    "    \n",
    "    return None"
   ]
  },
  {
   "cell_type": "code",
   "execution_count": 102,
   "metadata": {
    "scrolled": true
   },
   "outputs": [
    {
     "name": "stdout",
     "output_type": "stream",
     "text": [
      "anat - T1w: ['T1', 'T1w', 'TFE']\n",
      "1\n",
      "dwi - dwi: ['diffusion', 'DTI', 'DWI', '6_DIR']\n",
      "2\n",
      "func - bold - rest: ['rsfMR', 'rest', 'FFE', 'FEEPI']\n",
      "3\n",
      "func - bold - rest: ['rsfMR', 'rest', 'FFE', 'FEEPI']\n",
      "4\n",
      "unknown modality\n",
      "5\n",
      "dwi - dwi: ['diffusion', 'DTI', 'DWI', '6_DIR']\n",
      "6\n",
      "dwi - dwi: ['diffusion', 'DTI', 'DWI', '6_DIR']\n",
      "7\n",
      "unknown modality\n",
      "8\n",
      "dwi - dwi: ['diffusion', 'DTI', 'DWI', '6_DIR']\n",
      "9\n",
      "anat - T2w: ['T2', 'T2w', 'TSE']\n",
      "10\n",
      "unknown modality\n",
      "11\n",
      "unknown modality\n",
      "12\n",
      "unknown modality\n",
      "13\n",
      "unknown modality\n",
      "14\n",
      "func - bold - rest: ['rsfMR', 'rest', 'FFE', 'FEEPI']\n",
      "15\n",
      "unknown modality\n",
      "16\n",
      "unknown modality\n",
      "17\n",
      "dwi - dwi: ['diffusion', 'DTI', 'DWI', '6_DIR']\n",
      "18\n",
      "unknown modality\n",
      "19\n",
      "unknown modality\n",
      "20\n",
      "anat - T2w: ['T2', 'T2w', 'TSE']\n",
      "21\n"
     ]
    }
   ],
   "source": [
    "for idx,file in enumerate(par_file_list_currated):\n",
    "    # print(\"test_parse(search_list,file)\")\n",
    "    convert_modality(search_dict,file)\n",
    "    print(idx+1)\n",
    "    \n",
    "# print(idx+1)"
   ]
  },
  {
   "cell_type": "code",
   "execution_count": 103,
   "metadata": {},
   "outputs": [
    {
     "name": "stdout",
     "output_type": "stream",
     "text": [
      "unknown modality\n",
      "1\n",
      "anat - T1w: ['T1', 'T1w', 'TFE']\n",
      "2\n",
      "func - bold - rest: ['rsfMR', 'rest', 'FFE', 'FEEPI']\n",
      "3\n"
     ]
    }
   ],
   "source": [
    "for idx,file in enumerate(dcm_file_list_currated):\n",
    "    # print(\"test_parse(search_list,file)\")\n",
    "    convert_modality(search_dict,file)\n",
    "    print(idx+1)\n",
    "    \n",
    "# print(idx+1)"
   ]
  },
  {
   "cell_type": "code",
   "execution_count": 104,
   "metadata": {
    "scrolled": true
   },
   "outputs": [
    {
     "name": "stdout",
     "output_type": "stream",
     "text": [
      "unknown modality\n",
      "1\n",
      "unknown modality\n",
      "2\n",
      "unknown modality\n",
      "3\n",
      "unknown modality\n",
      "4\n",
      "anat - T2w: ['T2', 'T2w', 'TSE']\n",
      "5\n",
      "unknown modality\n",
      "6\n",
      "unknown modality\n",
      "7\n",
      "unknown modality\n",
      "8\n",
      "anat - T1w: ['T1', 'T1w', 'TFE']\n",
      "9\n",
      "unknown modality\n",
      "10\n",
      "unknown modality\n",
      "11\n",
      "anat - T2w: ['T2', 'T2w', 'TSE']\n",
      "12\n"
     ]
    }
   ],
   "source": [
    "for idx,file in enumerate(nii_file_list_currated):\n",
    "    # print(\"test_parse(search_list,file)\")\n",
    "    convert_modality(search_dict,file)\n",
    "    print(idx+1)\n",
    "    \n",
    "# print(idx+1)"
   ]
  },
  {
   "cell_type": "code",
   "execution_count": 136,
   "metadata": {},
   "outputs": [],
   "source": [
    "def get_dcm_scan_tech(dictionary, dcm_file):\n",
    "    '''\n",
    "    working doc-string\n",
    "    '''\n",
    "    \n",
    "    mod_found = False\n",
    "    \n",
    "    # Load DICOM data and read header\n",
    "    ds = pydicom.dcmread(dcm_file)\n",
    "    \n",
    "    # Parse DICOM header for Scan Technique used\n",
    "    dcm_scan_tech_str = str(ds[0x2001,0x1020])\n",
    "    \n",
    "    for key,item in dictionary.items():\n",
    "        for dict_key,dict_item in dictionary[key].items():\n",
    "            if isinstance(dict_item,list):\n",
    "                if list_in_substr(dict_item,dcm_scan_tech_str):\n",
    "                    mod_found = True\n",
    "                    print(f\"{key} - {dict_key}: {dict_item}\")\n",
    "                    if mod_found:\n",
    "                        break\n",
    "            elif isinstance(dict_item,dict):\n",
    "                tmp_dict = dictionary[key]\n",
    "                for d_key,d_item in tmp_dict[dict_key].items():\n",
    "                    if list_in_substr(d_item,dcm_scan_tech_str):\n",
    "                        mod_found = True\n",
    "                        print(f\"{key} - {dict_key} - {d_key}: {d_item}\")\n",
    "                        if mod_found:\n",
    "                            break\n",
    "                            \n",
    "        if mod_found:\n",
    "            break\n",
    "    \n",
    "    # Secondary look in the case Private Field (2001, 1020) [Scanning Technique Description MR] is empty\n",
    "    if not mod_found:\n",
    "        dcm_fields = ['SeriesDescription', 'ImageType', 'ProtocolName'] # Define list of DICOM header fields\n",
    "        \n",
    "        for dcm_field in dcm_fields:\n",
    "            dcm_scan_tech_str = str(eval(f\"ds.{dcm_field}\"))\n",
    "            \n",
    "            for key,item in dictionary.items():\n",
    "                for dict_key,dict_item in dictionary[key].items():\n",
    "                    if isinstance(dict_item,list):\n",
    "                        if list_in_substr(dict_item,dcm_scan_tech_str):\n",
    "                            mod_found = True\n",
    "                            print(f\"{key} - {dict_key}: {dict_item}\")\n",
    "                            if mod_found:\n",
    "                                break\n",
    "                    elif isinstance(dict_item,dict):\n",
    "                        tmp_dict = dictionary[key]\n",
    "                        for d_key,d_item in tmp_dict[dict_key].items():\n",
    "                            if list_in_substr(d_item,dcm_scan_tech_str):\n",
    "                                mod_found = True\n",
    "                                print(f\"{key} - {dict_key} - {d_key}: {d_item}\")\n",
    "                                if mod_found:\n",
    "                                    break\n",
    "\n",
    "            if mod_found:\n",
    "                break\n",
    "                \n",
    "    if not mod_found:\n",
    "        print(\"unknown modality\")"
   ]
  },
  {
   "cell_type": "code",
   "execution_count": 135,
   "metadata": {},
   "outputs": [
    {
     "name": "stdout",
     "output_type": "stream",
     "text": [
      "func - bold - rest: ['rsfMR', 'rest', 'FFE', 'FEEPI']\n"
     ]
    }
   ],
   "source": [
    "get_dcm_scan_tech(search_dict,dcm_file_list_currated[2])"
   ]
  },
  {
   "cell_type": "code",
   "execution_count": null,
   "metadata": {},
   "outputs": [],
   "source": []
  },
  {
   "cell_type": "code",
   "execution_count": null,
   "metadata": {},
   "outputs": [],
   "source": []
  },
  {
   "cell_type": "code",
   "execution_count": 107,
   "metadata": {},
   "outputs": [],
   "source": [
    "ds = pydicom.dcmread(dcm_file_list_currated[0])"
   ]
  },
  {
   "cell_type": "code",
   "execution_count": 108,
   "metadata": {},
   "outputs": [
    {
     "data": {
      "text/plain": [
       "(0008, 0000) Group Length                        UL: 614\n",
       "(0008, 0005) Specific Character Set              CS: 'ISO_IR 100'\n",
       "(0008, 0008) Image Type                          CS: ['ORIGINAL', 'PRIMARY', 'PROJECTION IMAGE', 'M', 'SE']\n",
       "(0008, 0012) Instance Creation Date              DA: '20171003'\n",
       "(0008, 0013) Instance Creation Time              TM: '112749.800'\n",
       "(0008, 0014) Instance Creator UID                UI: 1.3.46.670589.11.89.5\n",
       "(0008, 0016) SOP Class UID                       UI: MR Image Storage\n",
       "(0008, 0018) SOP Instance UID                    UI: 1.3.46.670589.11.71329.5.0.10456.2017100310262751090\n",
       "(0008, 0020) Study Date                          DA: '20171003'\n",
       "(0008, 0021) Series Date                         DA: '20171003'\n",
       "(0008, 0022) Acquisition Date                    DA: '20171003'\n",
       "(0008, 0023) Content Date                        DA: '20171003'\n",
       "(0008, 0030) Study Time                          TM: '095546'\n",
       "(0008, 0031) Series Time                         TM: '102626.265'\n",
       "(0008, 0032) Acquisition Time                    TM: '102328.30'\n",
       "(0008, 0033) Content Time                        TM: '102328.30'\n",
       "(0008, 0050) Accession Number                    SH: ''\n",
       "(0008, 0060) Modality                            CS: 'MR'\n",
       "(0008, 0064) Conversion Type                     CS: ''\n",
       "(0008, 0070) Manufacturer                        LO: 'Philips Medical Systems'\n",
       "(0008, 0080) Institution Name                    LO: 'Cincinnati Childrens'\n",
       "(0008, 0081) Institution Address                 ST: '3333 Burnett Ave'\n",
       "(0008, 0090) Referring Physician's Name          PN: ''\n",
       "(0008, 0100) Code Value                          SH: ''\n",
       "(0008, 0102) Coding Scheme Designator            SH: ''\n",
       "(0008, 0104) Code Meaning                        LO: ''\n",
       "(0008, 1010) Station Name                        SH: 'CCMMRT'\n",
       "(0008, 1030) Study Description                   LO: 'IRC287H'\n",
       "(0008, 103e) Series Description                  LO: 'CORONAL'\n",
       "(0008, 1040) Institutional Department Name       LO: 'Research'\n",
       "(0008, 1050) Performing Physician's Name         PN: ''\n",
       "(0008, 1070) Operators' Name                     PN: ''\n",
       "(0008, 1080) Admitting Diagnoses Description     LO: ''\n",
       "(0008, 1090) Manufacturer's Model Name           LO: 'Ingenia'\n",
       "(0008, 1111)  Referenced Performed Procedure Step Sequence   1 item(s) ---- \n",
       "   (0008, 0012) Instance Creation Date              DA: '20171003'\n",
       "   (0008, 0013) Instance Creation Time              TM: '095545.790'\n",
       "   (0008, 0014) Instance Creator UID                UI: 1.3.46.670589.11.89.5\n",
       "   (0008, 1150) Referenced SOP Class UID            UI: Modality Performed Procedure Step SOP Class\n",
       "   (0008, 1155) Referenced SOP Instance UID         UI: 1.3.46.670589.11.71329.5.0.12064.2017100309554579001\n",
       "   (0020, 0013) Instance Number                     IS: \"0\"\n",
       "   (2005, 0014) Private Creator                     LO: 'Philips MR Imaging DD 005'\n",
       "   (2005, 1404) Private tag data                    UN: b'\\x01\\x00'\n",
       "   (2005, 1406) [Unknown]                           UN: b'\\x01\\x00'\n",
       "   ---------\n",
       "(0008, 1140)  Referenced Image Sequence   3 item(s) ---- \n",
       "   (0008, 1150) Referenced SOP Class UID            UI: MR Image Storage\n",
       "   (0008, 1155) Referenced SOP Instance UID         UI: 1.3.46.670589.11.71329.5.0.7904.2017100310170767007\n",
       "   ---------\n",
       "   (0008, 1150) Referenced SOP Class UID            UI: MR Image Storage\n",
       "   (0008, 1155) Referenced SOP Instance UID         UI: 1.3.46.670589.11.71329.5.0.7904.2017100310172040011\n",
       "   ---------\n",
       "   (0008, 1150) Referenced SOP Class UID            UI: MR Image Storage\n",
       "   (0008, 1155) Referenced SOP Instance UID         UI: 1.3.46.670589.11.71329.5.0.7904.2017100310173633016\n",
       "   ---------\n",
       "(0010, 0000) Group Length                        UL: 142\n",
       "(0010, 0010) Patient's Name                      PN: 'IRC287H-8'\n",
       "(0010, 0020) Patient ID                          LO: 'IRC287H-8'\n",
       "(0010, 0030) Patient's Birth Date                DA: '20170928'\n",
       "(0010, 0040) Patient's Sex                       CS: 'M'\n",
       "(0010, 1010) Patient's Age                       AS: '005D'\n",
       "(0010, 1030) Patient's Weight                    DS: \"3\"\n",
       "(0010, 2000) Medical Alerts                      LO: ''\n",
       "(0010, 2110) Allergies                           LO: ''\n",
       "(0010, 2160) Ethnic Group                        SH: ''\n",
       "(0010, 2180) Occupation                          SH: ''\n",
       "(0010, 21b0) Additional Patient History          LT: ''\n",
       "(0010, 21c0) Pregnancy Status                    US: 1\n",
       "(0010, 4000) Patient Comments                    LT: ''\n",
       "(0018, 0000) Group Length                        UL: 578\n",
       "(0018, 0015) Body Part Examined                  CS: 'BRAIN'\n",
       "(0018, 0020) Scanning Sequence                   CS: 'SE'\n",
       "(0018, 0021) Sequence Variant                    CS: 'SK'\n",
       "(0018, 0022) Scan Options                        CS: 'FC'\n",
       "(0018, 0023) MR Acquisition Type                 CS: '2D'\n",
       "(0018, 0024) Sequence Name                       SH: ''\n",
       "(0018, 0050) Slice Thickness                     DS: \"1\"\n",
       "(0018, 0080) Repetition Time                     DS: \"16600\"\n",
       "(0018, 0081) Echo Time                           DS: \"166\"\n",
       "(0018, 0083) Number of Averages                  DS: \"1\"\n",
       "(0018, 0084) Imaging Frequency                   DS: \"127.754471\"\n",
       "(0018, 0085) Imaged Nucleus                      SH: '1H'\n",
       "(0018, 0086) Echo Number(s)                      IS: \"1\"\n",
       "(0018, 0087) Magnetic Field Strength             DS: \"3\"\n",
       "(0018, 0088) Spacing Between Slices              DS: \"1\"\n",
       "(0018, 0089) Number of Phase Encoding Steps      IS: \"144\"\n",
       "(0018, 0091) Echo Train Length                   IS: \"24\"\n",
       "(0018, 0093) Percent Sampling                    DS: \"100\"\n",
       "(0018, 0094) Percent Phase Field of View         DS: \"100\"\n",
       "(0018, 0095) Pixel Bandwidth                     DS: \"436\"\n",
       "(0018, 1000) Device Serial Number                LO: '71329'\n",
       "(0018, 1010) Secondary Capture Device ID         LO: ''\n",
       "(0018, 1016) Secondary Capture Device Manufactur LO: ''\n",
       "(0018, 1018) Secondary Capture Device Manufactur LO: ''\n",
       "(0018, 1019) Secondary Capture Device Software V LO: ''\n",
       "(0018, 1020) Software Version(s)                 LO: ['5.3.0', '5.3.0.3']\n",
       "(0018, 1022) Video Image Format Acquired         SH: ''\n",
       "(0018, 1023) Digital Image Format Acquired       LO: ''\n",
       "(0018, 1030) Protocol Name                       LO: 'CORONAL'\n",
       "(0018, 1081) Low R-R Value                       IS: \"0\"\n",
       "(0018, 1082) High R-R Value                      IS: \"0\"\n",
       "(0018, 1083) Intervals Acquired                  IS: \"0\"\n",
       "(0018, 1084) Intervals Rejected                  IS: \"0\"\n",
       "(0018, 1088) Heart Rate                          IS: \"0\"\n",
       "(0018, 1100) Reconstruction Diameter             DS: \"160\"\n",
       "(0018, 1250) Receive Coil Name                   SH: 'MULTI COIL'\n",
       "(0018, 1251) Transmit Coil Name                  SH: 'BODY'\n",
       "(0018, 1310) Acquisition Matrix                  US: [0, 160, 144, 0]\n",
       "(0018, 1314) Flip Angle                          DS: \"90\"\n",
       "(0018, 1316) SAR                                 DS: \"3.20627665519714\"\n",
       "(0018, 1318) dB/dt                               DS: \"22.7023830413818\"\n",
       "(0018, 1320) B1rms                               FL: 2.283299684524536\n",
       "(0018, 5100) Patient Position                    CS: 'HFS'\n",
       "(0018, 9073) Acquisition Duration                FD: 199.20001220703125\n",
       "(0018, 9087) Diffusion b-value                   FD: 0.0\n",
       "(0018, 9089) Diffusion Gradient Orientation      FD: [0.0, 0.0, 0.0]\n",
       "(0020, 0000) Group Length                        UL: 466\n",
       "(0020, 000d) Study Instance UID                  UI: 1.3.46.670589.11.71329.5.0.12064.2017100309554561000\n",
       "(0020, 000e) Series Instance UID                 UI: 1.3.46.670589.11.71329.5.0.12956.2017100310262626000\n",
       "(0020, 0010) Study ID                            SH: '536421345'\n",
       "(0020, 0011) Series Number                       IS: \"303\"\n",
       "(0020, 0012) Acquisition Number                  IS: \"3\"\n",
       "(0020, 0013) Instance Number                     IS: \"91\"\n",
       "(0020, 0032) Image Position (Patient)            DS: ['-93.402352232147', '-8.9081859789431', '118.792558748477']\n",
       "(0020, 0037) Image Orientation (Patient)         DS: ['0.96887829393015', '0.23758336248795', '0.06949098804810', '0.07745618977000', '-0.0243453895584', '-0.9966984702875']\n",
       "(0020, 0052) Frame of Reference UID              UI: 1.3.46.670589.11.71329.5.0.12900.2017100310144697000\n",
       "(0020, 0060) Laterality                          CS: ''\n",
       "(0020, 0100) Temporal Position Identifier        IS: \"1\"\n",
       "(0020, 0105) Number of Temporal Positions        IS: \"1\"\n",
       "(0020, 1040) Position Reference Indicator        LO: ''\n",
       "(0020, 1041) Slice Location                      DS: \"-8.3210612850287\"\n",
       "(0020, 4000) Image Comments                      LT: ''\n",
       "(0028, 0000) Group Length                        UL: 212\n",
       "(0028, 0002) Samples per Pixel                   US: 1\n",
       "(0028, 0004) Photometric Interpretation          CS: 'MONOCHROME2'\n",
       "(0028, 0010) Rows                                US: 512\n",
       "(0028, 0011) Columns                             US: 512\n",
       "(0028, 0030) Pixel Spacing                       DS: ['0.3125', '0.3125']\n",
       "(0028, 0100) Bits Allocated                      US: 16\n",
       "(0028, 0101) Bits Stored                         US: 12\n",
       "(0028, 0102) High Bit                            US: 11\n",
       "(0028, 0103) Pixel Representation                US: 0\n",
       "(0028, 1050) Window Center                       DS: \"1751.69\"\n",
       "(0028, 1051) Window Width                        DS: \"3485.3\"\n",
       "(0028, 1052) Rescale Intercept                   DS: \"0\"\n",
       "(0028, 1053) Rescale Slope                       DS: \"4.02661782661782\"\n",
       "(0028, 1054) Rescale Type                        LO: 'normalized'\n",
       "(0028, 1055) Window Center & Width Explanation   LO: ''\n",
       "(0028, 2110) Lossy Image Compression             CS: '00'\n",
       "(0032, 0000) Group Length                        UL: 48\n",
       "(0032, 1032) Requesting Physician                PN: ''\n",
       "(0032, 1033) Requesting Service                  LO: ''\n",
       "(0032, 1060) Requested Procedure Description     LO: ''\n",
       "(0032, 1070) Requested Contrast Agent            LO: ''\n",
       "(0032, 4000) Study Comments                      LT: 'IRC287H'\n",
       "(0038, 0000) Group Length                        UL: 16\n",
       "(0038, 0050) Special Needs                       LO: ''\n",
       "(0038, 0500) Patient State                       LO: ''\n",
       "(0040, 0000) Group Length                        UL: 278\n",
       "(0040, 0006) Scheduled Performing Physician's Na PN: ''\n",
       "(0040, 0241) Performed Station AE Title          AE: 'CCMMRT'\n",
       "(0040, 0242) Performed Station Name              SH: ''\n",
       "(0040, 0243) Performed Location                  SH: ''\n",
       "(0040, 0244) Performed Procedure Step Start Date DA: '20171003'\n",
       "(0040, 0245) Performed Procedure Step Start Time TM: '095546'\n",
       "(0040, 0250) Performed Procedure Step End Date   DA: '20171003'\n",
       "(0040, 0251) Performed Procedure Step End Time   TM: '095546'\n",
       "(0040, 0252) Performed Procedure Step Status     CS: ''\n",
       "(0040, 0253) Performed Procedure Step ID         SH: '536421345'\n",
       "(0040, 0254) Performed Procedure Step Descriptio LO: 'IRC287H'\n",
       "(0040, 0255) Performed Procedure Type Descriptio LO: ''\n",
       "(0040, 0260)  Performed Protocol Code Sequence   1 item(s) ---- \n",
       "   (0008, 0100) Code Value                          SH: 'UNDEFINED'\n",
       "   (0008, 0102) Coding Scheme Designator            SH: 'UNDEFINED'\n",
       "   (0008, 0104) Code Meaning                        LO: 'UNDEFINED'\n",
       "   (0008, 010b) Context Group Extension Flag        CS: 'N'\n",
       "   ---------\n",
       "(0040, 0280) Comments on the Performed Procedure ST: ''\n",
       "(0040, 1001) Requested Procedure ID              SH: ''\n",
       "(0040, 1002) Reason for the Requested Procedure  LO: ''\n",
       "(0040, 1003) Requested Procedure Priority        SH: ''\n",
       "(0040, 1004) Patient Transport Arrangements      LO: ''\n",
       "(0040, 1005) Requested Procedure Location        LO: ''\n",
       "(0040, 1400) Requested Procedure Comments        LT: ''\n",
       "(0040, 2001) Reason for the Imaging Service Requ LO: ''\n",
       "(0040, 2004) Issue Date of Imaging Service Reque DA: '20171003'\n",
       "(0040, 2005) Issue Time of Imaging Service Reque TM: '095545.619'\n",
       "(0040, 2009) Order Enterer's Location            SH: ''\n",
       "(0040, 2010) Order Callback Phone Number         SH: ''\n",
       "(0040, 2400) Imaging Service Request Comments    LT: ''\n",
       "(2001, 0000) Private Creator                     UN: b'\\xfe\\x02\\x00\\x00'\n",
       "(2001, 0010) Private tag data                    LO: 'Philips Imaging DD 001'\n",
       "(2001, 0011) Private tag data                    LO: 'Philips Imaging DD 002'\n",
       "(2001, 1001) [Chemical Shift]                    UN: b'\\x00\\x00\\x00\\x00'\n",
       "(2001, 1002) [Chemical Shift Number MR]          UN: b'0 '\n",
       "(2001, 1003) [Diffusion B-Factor]                UN: b'\\x00\\x00\\x00\\x00'\n",
       "(2001, 1004) [Diffusion Direction]               UN: b''\n",
       "(2001, 1006) [Image Enhanced]                    UN: b'N '\n",
       "(2001, 1007) [Image Type ED ES]                  UN: b'U '\n",
       "(2001, 1008) [Phase Number]                      UN: b'1 '\n",
       "(2001, 1009) [Unknown]                           UN: b'\\x00\\x00\\x00\\x00'\n",
       "(2001, 100a) [Slice Number MR]                   UN: b'91'\n",
       "(2001, 100b) [Slice Orientation]                 UN: b'CORONAL '\n",
       "(2001, 100c) [Unknown]                           UN: b'N '\n",
       "(2001, 100e) [Unknown]                           UN: b'N '\n",
       "(2001, 100f) [Unknown]                           UN: b'\\x00\\x00'\n",
       "(2001, 1010) [Cardiac Sync]                      UN: b'NO'\n",
       "(2001, 1011) [Diffusion Echo Time]               UN: b'\\x00\\x00\\x00\\x00'\n",
       "(2001, 1012) [Dynamic Series]                    UN: b'N '\n",
       "(2001, 1013) [EPI Factor]                        UN: b'\\x01\\x00\\x00\\x00'\n",
       "(2001, 1014) [Number of Echoes]                  UN: b'\\x01\\x00\\x00\\x00'\n",
       "(2001, 1015) [Number of Locations]               UN: b'\\x01\\x00'\n",
       "(2001, 1016) [Number of PC Directions]           UN: b'\\x00\\x00'\n",
       "(2001, 1017) [Number of Phases MR]               UN: b'\\x01\\x00\\x00\\x00'\n",
       "(2001, 1018) [Number of Slices MR]               UN: b's\\x00\\x00\\x00'\n",
       "(2001, 1019) [Partial Matrix Scanned]            UN: b'N '\n",
       "(2001, 101a) [PC Velocity]                       UN: b'\\x00\\x00\\x00\\x00\\x00\\x00\\x00\\x00\\x00\\x00\\x00\\x00'\n",
       "(2001, 101b) [Prepulse Delay]                    UN: b'\\x00\\x00\\x00\\x00'\n",
       "(2001, 101c) [Prepulse Type]                     UN: b'NO'\n",
       "(2001, 101d) [Reconstruction Number MR]          UN: b'3 '\n",
       "(2001, 101e) [Unknown]                           UN: b''\n",
       "(2001, 101f) [Respiration Sync]                  UN: b'NO'\n",
       "(2001, 1020) [Scanning Technique Description MR] UN: b'TSE '\n",
       "(2001, 1021) [SPIR]                              UN: b'N '\n",
       "(2001, 1022) [Water Fat Shift]                   UN: b'\\x98\\xc6~?'\n",
       "(2001, 1023) [Flip Angle Philips]                UN: b'90'\n",
       "(2001, 1024) [Interactive]                       UN: b'N '\n",
       "(2001, 1025) [Echo Time Display MR]              UN: b'166 '\n",
       "(2001, 104e) [Window Smoothing Taste]            UN: b''\n",
       "(2001, 105f)  Private tag data   1 item(s) ---- \n",
       "   (2001, 0010) Private Creator                     LO: 'Philips Imaging DD 001'\n",
       "   (2001, 102d) [Number of Stack Slices]            UN: b's\\x00'\n",
       "   (2001, 1032) [Stack Radial Angle]                UN: b'\\x00\\x00\\x00\\x00'\n",
       "   (2001, 1033) [Stack Radial Axis]                 UN: b''\n",
       "   (2001, 1035) [Stack Slice Number]                UN: b'\\x01\\x00'\n",
       "   (2001, 1036) [Stack Type]                        UN: b'PARALLEL'\n",
       "   (2005, 0010) Private Creator                     LO: 'Philips MR Imaging DD 001'\n",
       "   (2005, 0015) Private Creator                     LO: 'Philips MR Imaging DD 006'\n",
       "   (2005, 1071) [Unknown]                           UN: b\"\\xd5'\\x8e\\xc0\"\n",
       "   (2005, 1072) [Unknown]                           UN: b'=<ZA'\n",
       "   (2005, 1073) [Unknown]                           UN: b'\\xfb\\x19\\xb3\\xbf'\n",
       "   (2005, 1074) [Unknown]                           UN: b'\\x00\\x00\\xe6B'\n",
       "   (2005, 1075) [Unknown]                           UN: b'\\x00\\x00 C'\n",
       "   (2005, 1076) [Unknown]                           UN: b'\\x00\\x00 C'\n",
       "   (2005, 1078) [Unknown]                           UN: b'\\xd8,\\xbb\\xc1'\n",
       "   (2005, 1079) [Unknown]                           UN: b'\\x05f9B'\n",
       "   (2005, 107a) [Unknown]                           UN: b'o\\xb4\\xeb\\xbf'\n",
       "   (2005, 107b) [Unknown]                           UN: b'RL'\n",
       "   (2005, 107e) [Unknown]                           UN: b'\\x00\\x00\\x80?'\n",
       "   (2005, 1081) [Unknown]                           UN: b'AP'\n",
       "   (2005, 1567) Private tag data                    UN: b'0 '\n",
       "   ---------\n",
       "(2001, 1060) [Number of Stacks]                  UN: b'\\x01\\x00\\x00\\x00'\n",
       "(2001, 1061) [Unknown]                           UN: b'N '\n",
       "(2001, 1062) [Unknown]                           UN: b'N '\n",
       "(2001, 1063) [Examination Source]                UN: b'ELSEWHERE '\n",
       "(2001, 1077) [GL TrafoType]                      UN: b''\n",
       "(2001, 107a) [Unknown]                           UN: b'\\x00\\x00\\x00\\x00'\n",
       "(2001, 107b) [Acquisition Number]                UN: b'3 '\n",
       "(2001, 1081) [Number of Dynamic Scans]           UN: b'1 '\n",
       "(2001, 1082) [Echo Train Length]                 UN: b'24'\n",
       "(2001, 1083) [Imaging Frequency]                 UN: b'127.754471'\n",
       "(2001, 1084) [Inversion Time]                    UN: b'0 '\n",
       "(2001, 1085) [Magnetic Field Strength]           UN: b'3 '\n",
       "(2001, 1086) [Unknown]                           UN: b'0 '\n",
       "(2001, 1087) [Imaged Nucleus]                    UN: b'1H'\n",
       "(2001, 1088) [Number of Averages]                UN: b'1 '\n",
       "(2001, 1089) [Phase FOV Percent]                 UN: b'0 '\n",
       "(2001, 108a) [Sampling Percent]                  UN: b'0 '\n",
       "(2001, 108b) [Unknown]                           UN: b'S '\n",
       "(2001, 10c8) Private tag data                    UN: Array of 18 elements\n",
       "(2001, 10cc) [Unknown]                           UN: b''\n",
       "(2001, 10f1) [Prospective Motion Correction]     UN: Array of 24 elements\n",
       "(2001, 10f2) [Retrospective Motion Correction]   UN: Array of 24 elements\n",
       "(2001, 116b) Private tag data                    UN: b''\n",
       "(2005, 0000) Private Creator                     UN: b'\\x90\\x0b\\x00\\x00'\n",
       "(2005, 0010) Private tag data                    LO: 'Philips MR Imaging DD 001'\n",
       "(2005, 0011) Private tag data                    LO: 'Philips MR Imaging DD 002'\n",
       "(2005, 0012) Private tag data                    LO: 'Philips MR Imaging DD 003'\n",
       "(2005, 0013) Private tag data                    LO: 'Philips MR Imaging DD 004'\n",
       "(2005, 0014) Private tag data                    LO: 'Philips MR Imaging DD 005'\n",
       "(2005, 0015) Private tag data                    LO: 'Philips MR Imaging DD 006'\n",
       "(2005, 1000) [Unknown]                           UN: b\"\\xd5'\\x8e\\xc0\"\n",
       "(2005, 1001) [Unknown]                           UN: b'=<ZA'\n",
       "(2005, 1002) [Unknown]                           UN: b'\\xfb\\x19\\xb3\\xbf'\n",
       "(2005, 1004) [Unknown]                           UN: b'NONE'\n",
       "(2005, 1008) [Unknown]                           UN: b'k\\xe1\\x01A'\n",
       "(2005, 1009) [Unknown]                           UN: b'\\x19\\x0b3B'\n",
       "(2005, 100a) [Unknown]                           UN: b'\\xce\\xbe\\x1d\\xc1'\n",
       "(2005, 100b) [Unknown]                           UN: b'\\xc5G\\xe4E'\n",
       "(2005, 100c) [Unknown]                           UN: b'.^C<'\n",
       "(2005, 100d) [Unknown]                           UN: b'\\x00\\x00\\x00\\x00'\n",
       "(2005, 100e) [Unknown]                           UN: b'H^\\x9f='\n",
       "(2005, 100f) [Window Center]                     UN: b'1751.69403315579'\n",
       "(2005, 1010) [Window Width]                      UN: b'3485.30444335937'\n",
       "(2005, 1011) [Unknown]                           UN: b'M '\n",
       "(2005, 1012) [Unknown]                           UN: b'N '\n",
       "(2005, 1013) [Unknown]                           UN: b'PATCH '\n",
       "(2005, 1014) [Unknown]                           UN: b'N '\n",
       "(2005, 1015) [Unknown]                           UN: b'N '\n",
       "(2005, 1016) [Unknown]                           UN: b'Y '\n",
       "(2005, 1017) [Unknown]                           UN: b'N '\n",
       "(2005, 1018) [Unknown]                           UN: b''\n",
       "(2005, 1019) [Unknown]                           UN: b'N '\n",
       "(2005, 101a) [Unknown]                           UN: b'\\x00\\x00'\n",
       "(2005, 101b) [Unknown]                           UN: b'N '\n",
       "(2005, 101c) [Unknown]                           UN: b'N '\n",
       "(2005, 101d) [Unknown]                           UN: b'\\xa0\\x00'\n",
       "(2005, 101e) [Unknown]                           UN: b'compose '\n",
       "(2005, 101f) [Unknown]                           UN: b'compose '\n",
       "(2005, 1020) [Number of Chemical Shift]          UN: b'\\x00\\x00\\x00\\x00'\n",
       "(2005, 1021) [Unknown]                           UN: b'\\x01\\x00'\n",
       "(2005, 1022) [Unknown]                           UN: b'1 '\n",
       "(2005, 1023) [Unknown]                           UN: b'\\x00\\x00'\n",
       "(2005, 1025) [Unknown]                           UN: b'\\x00\\x00'\n",
       "(2005, 1026) [Unknown]                           UN: b'N '\n",
       "(2005, 1027) [Unknown]                           UN: b'MINIMUM '\n",
       "(2005, 1028) [Unknown]                           UN: b'N '\n",
       "(2005, 1029) [Unknown]                           UN: b'N '\n",
       "(2005, 102a) [Unknown]                           UN: b'573473696 '\n",
       "(2005, 102b) [Unknown]                           UN: b'd\\x00'\n",
       "(2005, 102c) [Unknown]                           UN: b'N '\n",
       "(2005, 102d) [Unknown]                           UN: b'0 '\n",
       "(2005, 102e) [Unknown]                           UN: b'N '\n",
       "(2005, 102f) [Unknown]                           UN: b'N '\n",
       "(2005, 1030) [Repetition Time]                   UN: b'\\x00\\xb0\\x81F\\x00\\x00\\x00\\x00'\n",
       "(2005, 1031) [Unknown]                           UN: b'N '\n",
       "(2005, 1032) [Unknown]                           UN: b''\n",
       "(2005, 1033) [Acquisition Duration]              UN: b'43GC'\n",
       "(2005, 1034) [Unknown]                           UN: b'Y '\n",
       "(2005, 1035) [Unknown]                           UN: b'PIXEL '\n",
       "(2005, 1036) [Unknown]                           UN: b'N '\n",
       "(2005, 1037) [Unknown]                           UN: b'N '\n",
       "(2005, 1038) [Unknown]                           UN: b'N '\n",
       "(2005, 1039) [Unknown]                           UN: b'N '\n",
       "(2005, 103a) [Unknown]                           UN: b''\n",
       "(2005, 103b) [Unknown]                           UN: b'N '\n",
       "(2005, 103c) [Unknown]                           UN: b'N '\n",
       "(2005, 103d) [Unknown]                           UN: b'\\x01\\x00'\n",
       "(2005, 103e) [Unknown]                           UN: b'\\x00\\x00\\x00\\x00'\n",
       "(2005, 105f) [Unknown]                           UN: b'UNKNOWN '\n",
       "(2005, 1060) [Unknown]                           UN: b'-1'\n",
       "(2005, 1061) [Unknown]                           UN: b'NO'\n",
       "(2005, 1063) [Unknown]                           UN: b'\\x00\\x00'\n",
       "(2005, 106e) [Unknown]                           UN: b'SE'\n",
       "(2005, 106f) [Unknown]                           UN: b'MS'\n",
       "(2005, 1070) [Unknown]                           UN: b''\n",
       "(2005, 1081) [Unknown]                           UN: b''\n",
       "(2005, 1084)  Private tag data   1 item(s) ---- \n",
       "   (2005, 0010) Private Creator                     LO: 'Philips MR Imaging DD 001'\n",
       "   (2005, 0014) Private Creator                     LO: 'Philips MR Imaging DD 005'\n",
       "   (2005, 1048) [Unknown]                           UN: b'3 '\n",
       "   (2005, 1049) [Unknown]                           UN: b'0 '\n",
       "   (2005, 104a) [Unknown]                           UN: b'0 '\n",
       "   (2005, 104b) [Unknown]                           UN: b'0 '\n",
       "   (2005, 104c) [Unknown]                           UN: b''\n",
       "   (2005, 104d) [Unknown]                           UN: b''\n",
       "   (2005, 1064) [Unknown]                           UN: b'0 '\n",
       "   (2005, 1065) [Unknown]                           UN: b'1 '\n",
       "   (2005, 1066) [Unknown]                           UN: b''\n",
       "   (2005, 1067) [Unknown]                           UN: b'0 '\n",
       "   (2005, 1068) [Unknown]                           UN: b'MIP '\n",
       "   (2005, 1436) [Unknown]                           UN: b''\n",
       "   ---------\n",
       "(2005, 1086) [Unknown]                           UN: b'\\x00\\x00'\n",
       "(2005, 109f) [Unknown]                           UN: b''\n",
       "(2005, 10a0) [Unknown]                           UN: b'\\x00\\x00\\x00\\x00'\n",
       "(2005, 10a1) [Syncra Scan Type]                  UN: b'SENSE '\n",
       "(2005, 10a2) [Unknown]                           UN: b'N '\n",
       "(2005, 10a8) [Unknown]                           UN: b'0 '\n",
       "(2005, 10a9) [Unknown]                           UN: b'2D'\n",
       "(2005, 10b0) [Diffusion Direction RL]            UN: b'\\x00\\x00\\x00\\x00'\n",
       "(2005, 10b1) [Diffusion Direction AP]            UN: b'\\x00\\x00\\x00\\x00'\n",
       "(2005, 10b2) [Diffusion Direction FH]            UN: b'\\x00\\x00\\x00\\x00'\n",
       "(2005, 10c0) [Unknown]                           UN: b'SE'\n",
       "(2005, 1134) Private tag data                    UN: b''\n",
       "(2005, 1199) [Unknown]                           UN: b'\\x00\\x00\\x00\\x00'\n",
       "(2005, 1200) [Unknown]                           UN: b'\\x01\\x00\\x00\\x00'\n",
       "(2005, 1201) [Unknown]                           UN: b'\\x00\\x00\\x00\\x00'\n",
       "(2005, 1213) [Unknown]                           UN: b'\\x01\\x00\\x00\\x00'\n",
       "(2005, 1245) [Unknown]                           UN: b'\\x02\\x00'\n",
       "(2005, 1249) [Unknown]                           UN: b'\\x00\\x00'\n",
       "(2005, 1251) [Unknown]                           UN: b'\\x00\\x00'\n",
       "(2005, 1252) [Unknown]                           UN: b'\\x00\\x00'\n",
       "(2005, 1253) [Unknown]                           UN: b'\\x00\\x00'\n",
       "(2005, 1256) [Unknown]                           UN: b'\\x00\\x00'\n",
       "(2005, 1325) [Unknown]                           UN: b'N '\n",
       "(2005, 1326) [Unknown]                           UN: b'\\x00\\x00\\x00\\x00'\n",
       "(2005, 1327) [Unknown]                           UN: b'REAL'\n",
       "(2005, 1328) [Unknown]                           UN: b'ORIGINAL'\n",
       "(2005, 1329) [Unknown]                           UN: b'\\x00\\x00HB'\n",
       "(2005, 1331) [Unknown]                           UN: b'\\x00\\x00'\n",
       "(2005, 1334) [Unknown]                           UN: b'UNKNOWN '\n",
       "(2005, 1335) [Unknown]                           UN: b'UNKNOWN '\n",
       "(2005, 1336) [Unknown]                           UN: b'\\x00\\x00\\x00\\x00'\n",
       "(2005, 1337) [Unknown]                           UN: b'\\x00\\x00\\x00\\x00'\n",
       "(2005, 1338) [Unknown]                           UN: b'\\x00\\x00\\x00\\x00'\n",
       "(2005, 1340) [Unknown]                           UN: b'PRE_FT'\n",
       "(2005, 1341) [Unknown]                           UN: b'UNKNOWN '\n",
       "(2005, 1342) [Unknown]                           UN: b'FID '\n",
       "(2005, 1343) [Unknown]                           UN: b'Y '\n",
       "(2005, 1345) [Unknown]                           UN: b'NO'\n",
       "(2005, 1346) [Unknown]                           UN: b'HERTZ '\n",
       "(2005, 1347) [Unknown]                           UN: b'\\x00\\x00\\x00\\x00'\n",
       "(2005, 1348) [Unknown]                           UN: b'OFF '\n",
       "(2005, 1349) [Unknown]                           UN: b'\\x00\\x00\\x00\\x00'\n",
       "(2005, 1351) [Unknown]                           UN: b'\\x00\\x00'\n",
       "(2005, 1352) [Unknown]                           UN: b'\\x00\\x00'\n",
       "(2005, 1354) [Unknown]                           UN: b''\n",
       "(2005, 1355) [Unknown]                           UN: Array of 120 elements\n",
       "(2005, 1356) [Unknown]                           UN: b'NO'\n",
       "(2005, 1357) [Unknown]                           UN: b'\\x00\\x00'\n",
       "(2005, 1358) [Unknown]                           UN: b''\n",
       "(2005, 1359) [Unknown]                           UN: b'\\x00\\x00\\x80?'\n",
       "(2005, 1360) [Unknown]                           UN: b'\\x00\\x00\\x00\\x00'\n",
       "(2005, 1362) [Unknown]                           UN: b'\\x00\\x00\\x00\\x00'\n",
       "(2005, 1363) [Unknown]                           UN: b'\\x00\\x00\\x00\\x00'\n",
       "(2005, 1364) [Unknown]                           UN: b'NO'\n",
       "(2005, 1370) [Unknown]                           UN: b'\\x00\\x00'\n",
       "(2005, 1381) [Unknown]                           UN: b'3 '\n",
       "(2005, 1382) [Unknown]                           UN: b'\\x00\\x00\\x00\\x00'\n",
       "(2005, 1391) [Unknown]                           UN: b''\n",
       "(2005, 1392) [Unknown]                           UN: b'0 '\n",
       "(2005, 1393) [Unknown]                           UN: b'-1'\n",
       "(2005, 1395) [Unknown]                           UN: Array of 114 elements\n",
       "(2005, 1396) [Unknown]                           UN: b'NO'\n",
       "(2005, 1397) [Unknown]                           UN: Array of 18 elements\n",
       "(2005, 1398) [Unknown]                           UN: b'NO'\n",
       "(2005, 1399) [Unknown]                           UN: b'NO'\n",
       "(2005, 1400) [Unknown]                           UN: b'NO'\n",
       "(2005, 1401) [Unknown]                           UN: b'\\x01\\x00\\x00\\x00'\n",
       "(2005, 1403) [Unknown]                           UN: b'\\x00\\x00\\x00\\x00'\n",
       "(2005, 1404) Private tag data                    UN: b'\\x01\\x00'\n",
       "(2005, 1406) [Unknown]                           UN: b'\\x01\\x00'\n",
       "(2005, 1409) [Unknown]                           UN: b'0 '\n",
       "(2005, 140a) [Unknown]                           UN: b'4.02661782661782'\n",
       "(2005, 140b) [Unknown]                           UN: b'normalized'\n",
       "(2005, 140f)  Private tag data   1 item(s) ---- \n",
       "   (0008, 002a) Acquisition DateTime                DT: '20171003'\n",
       "   (0008, 9007) Frame Type                          CS: ''\n",
       "   (0008, 9123) Creator-Version UID                 UI: 1.3.46.670589.11\n",
       "   (0008, 9205) Pixel Presentation                  CS: 'MONOCHROME'\n",
       "   (0008, 9206) Volumetric Properties               CS: 'VOLUME'\n",
       "   (0008, 9207) Volume Based Calculation Technique  CS: 'MPR'\n",
       "   (0008, 9208) Complex Image Component             CS: 'REAL'\n",
       "   (0008, 9209) Acquisition Contrast                CS: 'T2'\n",
       "   (0018, 9005) Pulse Sequence Name                 SH: 'TSE'\n",
       "   (0018, 9008) Echo Pulse Sequence                 CS: 'SPIN'\n",
       "   (0018, 9009) Inversion Recovery                  CS: 'NO'\n",
       "   (0018, 9011) Multiple Spin Echo                  CS: 'YES'\n",
       "   (0018, 9012) Multi-planar Excitation             CS: 'NO'\n",
       "   (0018, 9014) Phase Contrast                      CS: 'NO'\n",
       "   (0018, 9015) Time of Flight Contrast             CS: 'NO'\n",
       "   (0018, 9016) Spoiling                            CS: 'NONE'\n",
       "   (0018, 9017) Steady State Pulse Sequence         CS: 'NONE'\n",
       "   (0018, 9018) Echo Planar Pulse Sequence          CS: 'NO'\n",
       "   (0018, 9019) Tag Angle First Axis                FD: 7.23e+75\n",
       "   (0018, 9020) Magnetization Transfer              CS: 'NONE'\n",
       "   (0018, 9021) T2 Preparation                      CS: 'NO'\n",
       "   (0018, 9022) Blood Signal Nulling                CS: 'NO'\n",
       "   (0018, 9024) Saturation Recovery                 CS: 'NO'\n",
       "   (0018, 9025) Spectrally Selected Suppression     CS: 'NONE'\n",
       "   (0018, 9026) Spectrally Selected Excitation      CS: 'NONE'\n",
       "   (0018, 9027) Spatial Pre-saturation              CS: 'NONE'\n",
       "   (0018, 9028) Tagging                             CS: 'NONE'\n",
       "   (0018, 9029) Oversampling Phase                  CS: 'NONE'\n",
       "   (0018, 9030) Tag Spacing First Dimension         FD: 7.23e+75\n",
       "   (0018, 9032) Geometry of k-Space Traversal       CS: 'RECTILINEAR'\n",
       "   (0018, 9033) Segmented k-Space Traversal         CS: 'PARTIAL'\n",
       "   (0018, 9034) Rectilinear Phase Encode Reordering CS: 'UNKNOWN'\n",
       "   (0018, 9035) Tag Thickness                       FD: 0.0\n",
       "   (0018, 9036) Partial Fourier Direction           CS: ''\n",
       "   (0018, 9037) Cardiac Synchronization Technique   CS: 'NONE'\n",
       "   (0018, 9041) Receive Coil Manufacturer Name      LO: ''\n",
       "   (0018, 9043) Receive Coil Type                   CS: 'MULTICOIL'\n",
       "   (0018, 9044) Quadrature Receive Coil             CS: 'NO'\n",
       "   (0018, 9047) Multi-Coil Element Name             SH: 'MULTI ELEMENT'\n",
       "   (0018, 9048) Multi-Coil Element Used             CS: 'YES'\n",
       "   (0018, 9050) Transmit Coil Manufacturer Name     LO: ''\n",
       "   (0018, 9051) Transmit Coil Type                  CS: 'SURFACE'\n",
       "   (0018, 9053) Chemical Shift Reference            FD: [4.68, 4.68]\n",
       "   (0018, 9058) MR Acquisition Frequency Encoding S US: 160\n",
       "   (0018, 9059) De-coupling                         CS: 'NO'\n",
       "   (0018, 9060) De-coupled Nucleus                  CS: ''\n",
       "   (0018, 9062) De-coupling Method                  CS: ''\n",
       "   (0018, 9064) k-space Filtering                   CS: 'RIESZ'\n",
       "   (0018, 9065) Time Domain Filtering               CS: ''\n",
       "   (0018, 9069) Parallel Reduction Factor In-plane  FD: 1.5\n",
       "   (0018, 9075) Diffusion Directionality            CS: 'NONE'\n",
       "   (0018, 9077) Parallel Acquisition                CS: 'YES'\n",
       "   (0018, 9078) Parallel Acquisition Technique      CS: 'SENSE'\n",
       "   (0018, 9079) Inversion Times                     FD: 0.0\n",
       "   (0018, 9080) Metabolite Map Description          ST: 'WATER'\n",
       "   (0018, 9081) Partial Fourier                     CS: 'NO'\n",
       "   (0018, 9085) Cardiac Signal Source               CS: ''\n",
       "   (0018, 9087) Diffusion b-value                   FD: 7.23e+75\n",
       "   (0018, 9089) Diffusion Gradient Orientation      FD: [7.23e+75, 7.23e+75, 7.23e+75]\n",
       "   (0018, 9090) Velocity Encoding Direction         FD: [0.0, 0.0, 0.0]\n",
       "   (0018, 9091) Velocity Encoding Minimum Value     FD: 0.0\n",
       "   (0018, 9093) Number of k-Space Trajectories      US: 4\n",
       "   (0018, 9094) Coverage of k-Space                 CS: ''\n",
       "   (0018, 9101) Frequency Correction                CS: 'NO'\n",
       "   (0018, 9147) Diffusion Anisotropy Type           CS: ''\n",
       "   (0018, 9155) Parallel Reduction Factor out-of-pl FD: 1.0\n",
       "   (0018, 9168) Parallel Reduction Factor Second In FD: 1.0\n",
       "   (0018, 9169) Cardiac Beat Rejection Technique    CS: ''\n",
       "   (0018, 9170) Respiratory Motion Compensation Tec CS: 'NONE'\n",
       "   (0018, 9171) Respiratory Signal Source           CS: 'NONE'\n",
       "   (0018, 9172) Bulk Motion Compensation Technique  CS: 'NONE'\n",
       "   (0018, 9174) Applicable Safety Standard Agency   CS: 'IEC'\n",
       "   (0018, 9176)  Operating Mode Sequence   3 item(s) ---- \n",
       "      (0018, 9177) Operating Mode Type                 CS: 'STATIC FIELD'\n",
       "      (0018, 9178) Operating Mode                      CS: 'IEC_FIRST_LEVEL'\n",
       "      ---------\n",
       "      (0018, 9177) Operating Mode Type                 CS: 'RF'\n",
       "      (0018, 9178) Operating Mode                      CS: 'IEC_FIRST_LEVEL'\n",
       "      ---------\n",
       "      (0018, 9177) Operating Mode Type                 CS: 'GRADIENT'\n",
       "      (0018, 9178) Operating Mode                      CS: 'IEC_NORMAL'\n",
       "      ---------\n",
       "   (0018, 9179) Specific Absorption Rate Definition CS: 'IEC_WHOLE_BODY'\n",
       "   (0018, 9180) Gradient Output Type                CS: 'DB_DT'\n",
       "   (0018, 9181) Specific Absorption Rate Value      FD: 3.2062766551971436\n",
       "   (0018, 9182) Gradient Output                     FD: 22.702383041381836\n",
       "   (0018, 9183) Flow Compensation Direction         CS: 'SLICE_AND_FREQ'\n",
       "   (0018, 9199) Water Referenced Phase Correction   CS: 'NO'\n",
       "   (0018, 9200) MR Spectroscopy Acquisition Type    CS: ''\n",
       "   (0018, 9231) MR Acquisition Phase Encoding Steps US: 144\n",
       "   (0018, 9232) MR Acquisition Phase Encoding Steps US: 1\n",
       "   (0018, 9240) RF Echo Train Length                US: 24\n",
       "   (0018, 9241) Gradient Echo Train Length          US: 0\n",
       "   (0018, 9602) Diffusion b-value XX                FD: 7.23e+75\n",
       "   (0018, 9603) Diffusion b-value XY                FD: 7.23e+75\n",
       "   (0018, 9604) Diffusion b-value XZ                FD: 7.23e+75\n",
       "   (0018, 9605) Diffusion b-value YY                FD: 7.23e+75\n",
       "   (0018, 9606) Diffusion b-value YZ                FD: 7.23e+75\n",
       "   (0018, 9607) Diffusion b-value ZZ                FD: 7.23e+75\n",
       "   (0020, 9072) Frame Laterality                    CS: 'U'\n",
       "   (0020, 9254) Respiratory Interval Time           FD: 0.0\n",
       "   (0020, 9255) Nominal Respiratory Trigger Delay T FD: 0.0\n",
       "   (0020, 9256) Respiratory Trigger Delay Threshold FD: 7.23e+75\n",
       "   (0028, 9001) Data Point Rows                     UL: 1\n",
       "   (0028, 9002) Data Point Columns                  UL: 0\n",
       "   (0028, 9003) Signal Domain Columns               CS: ''\n",
       "   (0028, 9108) Data Representation                 CS: ''\n",
       "   (0040, 9210) LUT Label                           SH: 'Philips'\n",
       "   ---------\n",
       "(2005, 1410) [Unknown]                           UN: b'2147483647'\n",
       "(2005, 1412) [Unknown]                           UN: b'1 '\n",
       "(2005, 1413) [Unknown]                           UN: b'1 '\n",
       "(2005, 1414) [Unknown]                           UN: b'\\x01\\x00\\x00\\x00'\n",
       "(2005, 1415) [Unknown]                           UN: b'\\x01\\x00\\x00\\x00'\n",
       "(2005, 1416) [Unknown]                           UN: b'MAN '\n",
       "(2005, 1418) [Unknown]                           UN: Array of 24 elements\n",
       "(2005, 1419) [Unknown]                           UN: Array of 42 elements\n",
       "(2005, 141a) [Unknown]                           UN: b''\n",
       "(2005, 141b) [Unknown]                           UN: b'0 '\n",
       "(2005, 141c) [Unknown]                           UN: b'0 '\n",
       "(2005, 141d) [Unknown]                           UN: b'0 '\n",
       "(2005, 1426) [Unknown]                           UN: b'N '\n",
       "(2005, 1428) [Unknown]                           UN: b'\\x00\\x00\\x00\\x00'\n",
       "(2005, 1429) Private tag data                    UN: b''\n",
       "(2005, 142a) [Unknown]                           UN: b'INITIAL '\n",
       "(2005, 142b) [Unknown]                           UN: b'PARTLY_ACCEPTED '\n",
       "(2005, 142c) [Unknown]                           UN: b'INITIAL '\n",
       "(2005, 142d) [Unknown]                           UN: b'INITIAL '\n",
       "(2005, 142e) [Unknown]                           UN: b'\\x9e\\xc9\\xff~'\n",
       "(2005, 142f) [Unknown]                           UN: b'\\x9e\\xc9\\xff~'\n",
       "(2005, 1430) [Unknown]                           UN: b'\\x9e\\xc9\\xff~'\n",
       "(2005, 1431) [Unknown]                           UN: b'\\x9e\\xc9\\xff~'\n",
       "(2005, 1432) [Unknown]                           UN: b'N '\n",
       "(2005, 1435) [Unknown]                           UN: b'N '\n",
       "(2005, 1437) [Unknown]                           UN: b''\n",
       "(2005, 143a) [Unknown]                           UN: Array of 26 elements\n",
       "(2005, 143b) [Unknown]                           UN: b'N '\n",
       "(2005, 143f) [Unknown]                           UN: b'N '\n",
       "(2005, 1440) [Unknown]                           UN: b'\\x00\\x00\\x00\\x00'\n",
       "(2005, 1441) [Unknown]                           UN: b'\\x00\\x00\\x00\\x00'\n",
       "(2005, 1442) [Unknown]                           UN: b'\\x95!\\x12@'\n",
       "(2005, 1443) [Unknown]                           UN: b'\\x00\\x00\\x00\\x00'\n",
       "(2005, 1444) [Unknown]                           UN: b'0 '\n",
       "(2005, 1445) [Unknown]                           UN: b'N '\n",
       "(2005, 1446) [Unknown]                           UN: b'\\x9e\\xc9\\xff~'\n",
       "(2005, 1447) [Unknown]                           UN: b'\\x00\\x00\\x00\\x00'\n",
       "(2005, 1448) [Unknown]                           UN: b'\\x9e\\xc9\\xff~'\n",
       "(2005, 144d) [Unknown]                           UN: b'N '\n",
       "(2005, 144e) [Unknown]                           UN: b'N '\n",
       "(2005, 1492) Private tag data                    UN: b'6\\x81#?'\n",
       "(2005, 1553) Private tag data                    UN: b'\\x00\\x00\\x00\\x00'\n",
       "(2005, 1554) Private tag data                    UN: b'\\x00\\x00\\x00\\x00'\n",
       "(2005, 1555) Private tag data                    UN: b'\\x00\\x00\\x00\\x00'\n",
       "(2005, 1556) Private tag data                    UN: b'\\x00\\x00\\x00\\x00'\n",
       "(2005, 1557) Private tag data                    UN: b'NONE'\n",
       "(2005, 1558) Private tag data                    UN: b'\\x00\\x00\\x00\\x00'\n",
       "(2005, 1559) Private tag data                    UN: b'\\x00\\x00\\x00\\x00'\n",
       "(2005, 1560) Private tag data                    UN: b'0 '\n",
       "(2005, 1561) Private tag data                    UN: b'\\x00\\x00\\x00\\x00'\n",
       "(2005, 1562) Private tag data                    UN: b'N/A '\n",
       "(2005, 1563) Private tag data                    UN: b'LR'\n",
       "(2005, 1564) Private tag data                    UN: b'AP'\n",
       "(2005, 1565) Private tag data                    UN: b'FH'\n",
       "(2005, 1566) Private tag data                    UN: b'AP'\n",
       "(2005, 1568) Private tag data                    UN: b'1 '\n",
       "(2005, 1571) Private tag data                    UN: b'0 '\n",
       "(2005, 1572) Private tag data                    UN: b'\\x00\\x00\\x00\\x00'\n",
       "(2005, 1573) Private tag data                    UN: b'0 '\n",
       "(2005, 1574) Private tag data                    UN: b'0 '\n",
       "(2005, 1575) Private tag data                    UN: b'0 '\n",
       "(2005, 1576) Private tag data                    UN: b''\n",
       "(2005, 1578) Private tag data                    UN: b''\n",
       "(2005, 1579) Private tag data                    UN: Array of 44 elements\n",
       "(2005, 1581) Private tag data                    UN: b'FIRSTLEVEL'\n",
       "(2005, 1582) Private tag data                    UN: b'0 '\n",
       "(2005, 1583) Private tag data                    UN: b''\n",
       "(2005, 1585) Private tag data                    UN: b'0 '\n",
       "(2005, 1586) Private tag data                    UN: b''\n",
       "(2005, 1587) Private tag data                    UN: b'0 '\n",
       "(2050, 0000) Group Length                        UL: 16\n",
       "(2050, 0020) Presentation LUT Shape              CS: 'IDENTITY'\n",
       "(7fe0, 0000) Group Length                        UL: 524296\n",
       "(7fe0, 0010) Pixel Data                          OW: Array of 524288 elements"
      ]
     },
     "execution_count": 108,
     "metadata": {},
     "output_type": "execute_result"
    }
   ],
   "source": [
    "ds"
   ]
  },
  {
   "cell_type": "code",
   "execution_count": 119,
   "metadata": {},
   "outputs": [
    {
     "data": {
      "text/plain": [
       "True"
      ]
     },
     "execution_count": 119,
     "metadata": {},
     "output_type": "execute_result"
    }
   ],
   "source": [
    "'TSE'.lower() in str(ds[0x2001,0x1020]).lower()"
   ]
  },
  {
   "cell_type": "code",
   "execution_count": 123,
   "metadata": {},
   "outputs": [
    {
     "data": {
      "text/plain": [
       "'CORONAL'"
      ]
     },
     "execution_count": 123,
     "metadata": {},
     "output_type": "execute_result"
    }
   ],
   "source": [
    "ds.SeriesDescription"
   ]
  },
  {
   "cell_type": "code",
   "execution_count": 126,
   "metadata": {},
   "outputs": [
    {
     "data": {
      "text/plain": [
       "['ORIGINAL', 'PRIMARY', 'PROJECTION IMAGE', 'M', 'SE']"
      ]
     },
     "execution_count": 126,
     "metadata": {},
     "output_type": "execute_result"
    }
   ],
   "source": [
    "ds.ImageType"
   ]
  },
  {
   "cell_type": "code",
   "execution_count": 127,
   "metadata": {},
   "outputs": [
    {
     "data": {
      "text/plain": [
       "'CORONAL'"
      ]
     },
     "execution_count": 127,
     "metadata": {},
     "output_type": "execute_result"
    }
   ],
   "source": [
    "ds.ProtocolName"
   ]
  },
  {
   "cell_type": "code",
   "execution_count": 128,
   "metadata": {},
   "outputs": [],
   "source": [
    "t = \"ProtocolName\""
   ]
  },
  {
   "cell_type": "code",
   "execution_count": 129,
   "metadata": {},
   "outputs": [
    {
     "data": {
      "text/plain": [
       "'CORONAL'"
      ]
     },
     "execution_count": 129,
     "metadata": {},
     "output_type": "execute_result"
    }
   ],
   "source": [
    "eval(f\"ds.{t}\")"
   ]
  },
  {
   "cell_type": "code",
   "execution_count": null,
   "metadata": {},
   "outputs": [],
   "source": []
  },
  {
   "cell_type": "code",
   "execution_count": null,
   "metadata": {},
   "outputs": [],
   "source": []
  },
  {
   "cell_type": "code",
   "execution_count": null,
   "metadata": {},
   "outputs": [],
   "source": []
  },
  {
   "cell_type": "code",
   "execution_count": 224,
   "metadata": {},
   "outputs": [
    {
     "data": {
      "text/plain": [
       "21"
      ]
     },
     "execution_count": 224,
     "metadata": {},
     "output_type": "execute_result"
    }
   ],
   "source": [
    "len(file_list_currated)"
   ]
  },
  {
   "cell_type": "code",
   "execution_count": 111,
   "metadata": {},
   "outputs": [],
   "source": [
    "verbose = False"
   ]
  },
  {
   "cell_type": "code",
   "execution_count": 112,
   "metadata": {},
   "outputs": [],
   "source": [
    "if verbose:\n",
    "    print(\"True\")"
   ]
  },
  {
   "cell_type": "code",
   "execution_count": null,
   "metadata": {},
   "outputs": [],
   "source": []
  },
  {
   "cell_type": "code",
   "execution_count": null,
   "metadata": {},
   "outputs": [],
   "source": []
  },
  {
   "cell_type": "code",
   "execution_count": null,
   "metadata": {},
   "outputs": [],
   "source": []
  },
  {
   "cell_type": "code",
   "execution_count": null,
   "metadata": {},
   "outputs": [],
   "source": []
  },
  {
   "cell_type": "code",
   "execution_count": null,
   "metadata": {},
   "outputs": [],
   "source": []
  },
  {
   "cell_type": "code",
   "execution_count": null,
   "metadata": {},
   "outputs": [],
   "source": []
  },
  {
   "cell_type": "code",
   "execution_count": null,
   "metadata": {},
   "outputs": [],
   "source": []
  },
  {
   "cell_type": "code",
   "execution_count": null,
   "metadata": {},
   "outputs": [],
   "source": []
  },
  {
   "cell_type": "code",
   "execution_count": null,
   "metadata": {},
   "outputs": [],
   "source": []
  },
  {
   "cell_type": "code",
   "execution_count": null,
   "metadata": {},
   "outputs": [],
   "source": []
  },
  {
   "cell_type": "code",
   "execution_count": null,
   "metadata": {},
   "outputs": [],
   "source": []
  },
  {
   "cell_type": "code",
   "execution_count": 30,
   "metadata": {},
   "outputs": [],
   "source": [
    "# way to implement function [file list function]\n",
    "# 1. make file list\n",
    "# 2. read config file\n",
    "# 3. exclude files from file list"
   ]
  },
  {
   "cell_type": "code",
   "execution_count": 31,
   "metadata": {},
   "outputs": [],
   "source": [
    "# way to implelement conversion function [file conversion]\n",
    "# 1. read in file list\n",
    "# 2. read in config file\n",
    "# 3. convert files in list"
   ]
  },
  {
   "cell_type": "code",
   "execution_count": 23,
   "metadata": {},
   "outputs": [
    {
     "data": {
      "text/plain": [
       "['T2', 'T2w', 'TSE']"
      ]
     },
     "execution_count": 23,
     "metadata": {},
     "output_type": "execute_result"
    }
   ],
   "source": [
    "ex1 = (exL[1])\n",
    "ex_main = ex1[0]\n",
    "ex_tmp = ex1[1].split(\",\")\n",
    "ex_tmp"
   ]
  },
  {
   "cell_type": "code",
   "execution_count": 11,
   "metadata": {},
   "outputs": [
    {
     "data": {
      "text/plain": [
       "['T2', 'T2w', 'TSE']"
      ]
     },
     "execution_count": 11,
     "metadata": {},
     "output_type": "execute_result"
    }
   ],
   "source": [
    "ex_tmp"
   ]
  },
  {
   "cell_type": "code",
   "execution_count": 12,
   "metadata": {},
   "outputs": [],
   "source": [
    "# use this to check if filename is in ex_tmp\n",
    "if 'T1' in ex_tmp or 'TFE' in ex_tmp:\n",
    "    print(\"True\")"
   ]
  },
  {
   "cell_type": "code",
   "execution_count": 13,
   "metadata": {},
   "outputs": [],
   "source": [
    "f1 = \"C:/Users/smart/Desktop/GitProjects/convsauce/287H_C10/PAR_REC/287H_C10_WIP_T2W_TSE_AXIAL_NEONATE_NSA1_4_1.PAR\""
   ]
  },
  {
   "cell_type": "code",
   "execution_count": 14,
   "metadata": {},
   "outputs": [],
   "source": [
    "if f1 in ex_tmp:\n",
    "    print(\"True\")"
   ]
  },
  {
   "cell_type": "code",
   "execution_count": 15,
   "metadata": {},
   "outputs": [
    {
     "data": {
      "text/plain": [
       "True"
      ]
     },
     "execution_count": 15,
     "metadata": {},
     "output_type": "execute_result"
    }
   ],
   "source": [
    "any(ele in f1 for ele in ex_tmp)"
   ]
  },
  {
   "cell_type": "code",
   "execution_count": 16,
   "metadata": {},
   "outputs": [
    {
     "name": "stdout",
     "output_type": "stream",
     "text": [
      "True\n"
     ]
    }
   ],
   "source": [
    "if any(ele in f1 for ele in ex_tmp):\n",
    "    print(\"True\")"
   ]
  },
  {
   "cell_type": "code",
   "execution_count": 17,
   "metadata": {},
   "outputs": [
    {
     "data": {
      "text/plain": [
       "['bold', {'rest': 'rsfMR,rest', 'visualstrobe': 'vis,visual'}]"
      ]
     },
     "execution_count": 17,
     "metadata": {},
     "output_type": "execute_result"
    }
   ],
   "source": [
    "exL[2]"
   ]
  },
  {
   "cell_type": "code",
   "execution_count": 18,
   "metadata": {},
   "outputs": [
    {
     "data": {
      "text/plain": [
       "list"
      ]
     },
     "execution_count": 18,
     "metadata": {},
     "output_type": "execute_result"
    }
   ],
   "source": [
    "type(exL[2])"
   ]
  },
  {
   "cell_type": "code",
   "execution_count": 19,
   "metadata": {},
   "outputs": [
    {
     "data": {
      "text/plain": [
       "{'rest': 'rsfMR,rest', 'visualstrobe': 'vis,visual'}"
      ]
     },
     "execution_count": 19,
     "metadata": {},
     "output_type": "execute_result"
    }
   ],
   "source": [
    "ex1 = (exL[2])\n",
    "ex_main = ex1[0]\n",
    "ex1[1]\n",
    "# ex_tmp = ex1[1].split(\",\")\n",
    "# ex_tmp"
   ]
  },
  {
   "cell_type": "code",
   "execution_count": 20,
   "metadata": {},
   "outputs": [
    {
     "data": {
      "text/plain": [
       "{'rest': 'rsfMR,rest', 'visualstrobe': 'vis,visual'}"
      ]
     },
     "execution_count": 20,
     "metadata": {},
     "output_type": "execute_result"
    }
   ],
   "source": [
    "ex1[1]"
   ]
  },
  {
   "cell_type": "code",
   "execution_count": 21,
   "metadata": {},
   "outputs": [
    {
     "name": "stdout",
     "output_type": "stream",
     "text": [
      "rest: rsfMR\n",
      "rest: rest\n",
      "visualstrobe: vis\n",
      "visualstrobe: visual\n"
     ]
    }
   ],
   "source": [
    "for key, values in ex1[1].items():\n",
    "    for value in values.split(','):\n",
    "        print(f\"{key}: {value}\")"
   ]
  },
  {
   "cell_type": "markdown",
   "metadata": {},
   "source": [
    "#### `TaskName` JSON file appending funtion"
   ]
  },
  {
   "cell_type": "code",
   "execution_count": 4,
   "metadata": {},
   "outputs": [],
   "source": [
    "# task_name = \"\"\n",
    "task_name = \"visualstrobe\""
   ]
  },
  {
   "cell_type": "code",
   "execution_count": 5,
   "metadata": {},
   "outputs": [
    {
     "name": "stdout",
     "output_type": "stream",
     "text": [
      "task_name is: visualstrobe\n"
     ]
    }
   ],
   "source": [
    "if task_name == \"\":\n",
    "    print(\"task_name is empty\")\n",
    "else:\n",
    "    print(f\"task_name is: {task_name}\")"
   ]
  },
  {
   "cell_type": "code",
   "execution_count": 1,
   "metadata": {},
   "outputs": [],
   "source": [
    "nii_file = \"c:/Users/smart/Desktop/GitProjects/convsauce/BIDS/rawdata/sub-C10/ses-001/func/sub-C10_ses-001_task-rest_acq-PA_run-01_bold.nii.gz\""
   ]
  },
  {
   "cell_type": "code",
   "execution_count": 2,
   "metadata": {},
   "outputs": [],
   "source": [
    "import os\n",
    "import nibabel as nib\n",
    "import numpy as np"
   ]
  },
  {
   "cell_type": "code",
   "execution_count": 3,
   "metadata": {},
   "outputs": [
    {
     "data": {
      "text/plain": [
       "True"
      ]
     },
     "execution_count": 3,
     "metadata": {},
     "output_type": "execute_result"
    }
   ],
   "source": [
    "os.path.exists(nii_file)"
   ]
  },
  {
   "cell_type": "code",
   "execution_count": 4,
   "metadata": {},
   "outputs": [],
   "source": [
    "img = nib.load(nii_file)"
   ]
  },
  {
   "cell_type": "code",
   "execution_count": 5,
   "metadata": {},
   "outputs": [
    {
     "data": {
      "text/plain": [
       "<nibabel.nifti1.Nifti1Image at 0x22eb4b28470>"
      ]
     },
     "execution_count": 5,
     "metadata": {},
     "output_type": "execute_result"
    }
   ],
   "source": [
    "img"
   ]
  },
  {
   "cell_type": "code",
   "execution_count": 6,
   "metadata": {},
   "outputs": [
    {
     "data": {
      "text/plain": [
       "(64, 64, 45, 400)"
      ]
     },
     "execution_count": 6,
     "metadata": {},
     "output_type": "execute_result"
    }
   ],
   "source": [
    "img.header.get_data_shape()"
   ]
  },
  {
   "cell_type": "code",
   "execution_count": 7,
   "metadata": {},
   "outputs": [
    {
     "data": {
      "text/plain": [
       "tuple"
      ]
     },
     "execution_count": 7,
     "metadata": {},
     "output_type": "execute_result"
    }
   ],
   "source": [
    "type(img.header.get_data_shape())"
   ]
  },
  {
   "cell_type": "code",
   "execution_count": 9,
   "metadata": {},
   "outputs": [],
   "source": [
    "frames = img.header.get_data_shape()"
   ]
  },
  {
   "cell_type": "code",
   "execution_count": 10,
   "metadata": {},
   "outputs": [
    {
     "data": {
      "text/plain": [
       "(64, 64, 45, 400)"
      ]
     },
     "execution_count": 10,
     "metadata": {},
     "output_type": "execute_result"
    }
   ],
   "source": [
    "frames"
   ]
  },
  {
   "cell_type": "code",
   "execution_count": 13,
   "metadata": {},
   "outputs": [
    {
     "data": {
      "text/plain": [
       "int"
      ]
     },
     "execution_count": 13,
     "metadata": {},
     "output_type": "execute_result"
    }
   ],
   "source": [
    "type(frames[3])"
   ]
  },
  {
   "cell_type": "code",
   "execution_count": null,
   "metadata": {},
   "outputs": [],
   "source": []
  }
 ],
 "metadata": {
  "kernelspec": {
   "display_name": "Python 3",
   "language": "python",
   "name": "python3"
  },
  "language_info": {
   "codemirror_mode": {
    "name": "ipython",
    "version": 3
   },
   "file_extension": ".py",
   "mimetype": "text/x-python",
   "name": "python",
   "nbconvert_exporter": "python",
   "pygments_lexer": "ipython3",
   "version": "3.7.3"
  }
 },
 "nbformat": 4,
 "nbformat_minor": 2
}
