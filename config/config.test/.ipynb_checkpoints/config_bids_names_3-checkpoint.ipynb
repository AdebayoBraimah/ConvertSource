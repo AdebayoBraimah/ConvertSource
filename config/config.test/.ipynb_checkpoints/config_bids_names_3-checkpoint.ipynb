{
 "cells": [
  {
   "cell_type": "code",
   "execution_count": 24,
   "metadata": {},
   "outputs": [],
   "source": [
    "import os\n",
    "import yaml\n",
    "import sys\n",
    "from collections import deque\n",
    "from typing import(\n",
    "    Dict,\n",
    "    List,\n",
    "    Optional,\n",
    "    Tuple,\n",
    "    Union\n",
    ")"
   ]
  },
  {
   "cell_type": "code",
   "execution_count": 2,
   "metadata": {},
   "outputs": [
    {
     "data": {
      "text/plain": [
       "'/Users/adebayobraimah/Desktop/projects/convert_source/config/config.test/config.default.yml'"
      ]
     },
     "execution_count": 2,
     "metadata": {},
     "output_type": "execute_result"
    }
   ],
   "source": [
    "config = \"config.default.yml\"; config = os.path.abspath(config); config"
   ]
  },
  {
   "cell_type": "code",
   "execution_count": 3,
   "metadata": {},
   "outputs": [],
   "source": [
    "def read_config(config_file: Optional[str] = \"\", \n",
    "                verbose: Optional[bool] = False\n",
    "                ) -> Tuple[Dict[str,str],Dict,Dict,Dict,List[str]]:\n",
    "    '''\n",
    "    TODO: \n",
    "        * re-write\n",
    "        \n",
    "    Reads configuration file and creates a dictionary of search terms for \n",
    "    certain modalities provided that BIDS modalities are used as keys. If\n",
    "    exclusions are provided (via the key 'exclude') then an exclusion list is \n",
    "    created. Otherwise, 'exclusion_list' is returned as an empty list. If \n",
    "    additional settings are specified, they should be done so via the key\n",
    "    'metadata' to enable writing of additional metadata. Otherwise, an \n",
    "    empty dictionary is returned.\n",
    "\n",
    "    BIDS modalities:\n",
    "        - anat:\n",
    "            - T1w, T2w, FLAIR, etc.\n",
    "        - func:\n",
    "            - task:\n",
    "                - resting state, <task-name>\n",
    "        - dwi\n",
    "        - fmap\n",
    "\n",
    "    Usage example:\n",
    "        >>> [search_dict, exclusion_list, meta_dict] = read_config(config_file)\n",
    "    \n",
    "    Arguments:\n",
    "        config_file: File path to yaml configuration file. If no file is used, then the default configuration file is used.\n",
    "        verbose: Prints additional information to screen.\n",
    "    \n",
    "    Returns: \n",
    "        search_dict: Nested dictionary of heuristic modality search terms for BIDS modalities.\n",
    "        bids_search: Nested dictionary of heuristic BIDS search terms.\n",
    "        bids_map: Corresponding nested dictionary of BIDS mapping terms to rename files to.\n",
    "        meta_dict: Nested dictionary of metadata terms to write to JSON file(s).\n",
    "        exclusion_list: List of exclusion terms.\n",
    "    \n",
    "    Raises:\n",
    "        ConfigFileReadError: Error that arises if no heuristic search terms are provided.\n",
    "    '''\n",
    "    class ConfigFileReadError(Exception):\n",
    "        pass\n",
    "\n",
    "    if config_file:\n",
    "        config_file: str = os.path.abspath(config_file)\n",
    "    else:\n",
    "        config_file: str = DEFAULT_CONFIG\n",
    "\n",
    "    with open(config_file) as file:\n",
    "        data_map: Dict[str,str] = yaml.safe_load(file)\n",
    "        if verbose:\n",
    "            print(\"Initialized parameters from configuration file\")\n",
    "    \n",
    "    # Required modality search terms\n",
    "    if any(\"modality_search\" in data_map for element in data_map):\n",
    "        if verbose:\n",
    "            print(\"Categorizing search terms\")\n",
    "        search_dict: Dict[str,str] = data_map[\"modality_search\"]\n",
    "        del data_map[\"modality_search\"]\n",
    "    else:\n",
    "        if verbose:\n",
    "            print(\"Heuristic search terms required. Exiting...\")\n",
    "        raise ConfigFileReadError(\"Heuristic search terms required. Exiting...\")\n",
    "    \n",
    "    # BIDS search terms\n",
    "    if any(\"bids_search\" in data_map for element in data_map):\n",
    "        if verbose:\n",
    "            print(\"Including BIDS related search term settings\")\n",
    "        bids_search: Dict[str,str] = data_map[\"bids_search\"]\n",
    "        del data_map[\"bids_search\"]\n",
    "    else:\n",
    "        if verbose:\n",
    "            print(\"No BIDS related search term settings\")\n",
    "        meta_dict: Dict = dict()\n",
    "    \n",
    "    # BIDS mapping terms\n",
    "    if any(\"bids_map\" in data_map for element in data_map):\n",
    "        if verbose:\n",
    "            print(\"Corresponding BIDS mapping settings\")\n",
    "        bids_map: Dict[str,str] = data_map[\"bids_map\"]\n",
    "        del data_map[\"bids_map\"]\n",
    "    else:\n",
    "        if verbose:\n",
    "            print(\"No BIDS mapping settings\")\n",
    "        meta_dict: Dict = dict()\n",
    "    \n",
    "    # Metadata terms\n",
    "    if any(\"metadata\" in data_map for element in data_map):\n",
    "        if verbose:\n",
    "            print(\"Including additional settings for metadata\")\n",
    "        meta_dict: Dict[str,Union[str,int]] = data_map[\"metadata\"]\n",
    "        del data_map[\"metadata\"]\n",
    "    else:\n",
    "        if verbose:\n",
    "            print(\"No metadata settings\")\n",
    "        meta_dict: Dict = dict()\n",
    "    \n",
    "    # Exclusion terms  \n",
    "    if any(\"exclude\" in data_map for element in data_map):\n",
    "        if verbose:\n",
    "            print(\"Exclusion option implemented\")\n",
    "        exclusion_list: List[str] = data_map[\"exclude\"]\n",
    "        del data_map[\"exclude\"]\n",
    "    else:\n",
    "        if verbose:\n",
    "            print(\"Exclusion option not implemented\")\n",
    "        exclusion_list: List = list()\n",
    "        \n",
    "    return (search_dict,\n",
    "            bids_search,\n",
    "            bids_map,\n",
    "            meta_dict,\n",
    "            exclusion_list)"
   ]
  },
  {
   "cell_type": "code",
   "execution_count": 4,
   "metadata": {},
   "outputs": [],
   "source": [
    "def comp_dict(d1: Dict, \n",
    "              d2: Dict, \n",
    "              path: Optional[str] = \"\", \n",
    "              verbose: bool = False\n",
    "             ) -> Union[bool,None]:\n",
    "    '''\n",
    "    * Use this to compare dictionaries that are supposed to be keymatched *\n",
    "    \n",
    "    StackOverflow answer: \n",
    "    https://stackoverflow.com/questions/27265939/comparing-python-dictionaries-and-nested-dictionaries\n",
    "    '''\n",
    "    for k in d1:\n",
    "        if (k not in d2):\n",
    "            if verbose:\n",
    "                print (path, \":\")\n",
    "                print (k + \" as key not in d2\", \"\\n\")\n",
    "            raise KeyError(\"Input dictionaries do not have matching keys\")\n",
    "        else:\n",
    "            if type(d1[k]) is dict:\n",
    "                if path == \"\":\n",
    "                    path = k\n",
    "                else:\n",
    "                    if verbose:\n",
    "                        path = path + \"->\" + k\n",
    "                    pass\n",
    "                comp_dict(d1[k],d2[k], path, verbose)\n",
    "            else:\n",
    "                if d1[k] != d2[k] and (d1[k] is None or d2[k] is None):\n",
    "                    if verbose:\n",
    "                        print (path, \":\")\n",
    "                        print (\" - \", k,\" : \", d1[k])\n",
    "                        print (\" + \", k,\" : \", d2[k])\n",
    "                    raise ValueError(\"One or both input BIDS dictionaries map to NoneType values.\")\n",
    "    return True"
   ]
  },
  {
   "cell_type": "code",
   "execution_count": 5,
   "metadata": {},
   "outputs": [],
   "source": [
    "def depth(d: Dict) -> int:\n",
    "    '''\n",
    "    StackOverflow answer:\n",
    "    https://stackoverflow.com/questions/23499017/know-the-depth-of-a-dictionary\n",
    "    '''\n",
    "    queue = deque([(id(d), d, 1)])\n",
    "    memo = set()\n",
    "    while queue:\n",
    "        id_, o, level = queue.popleft()\n",
    "        if id_ in memo:\n",
    "            continue\n",
    "        memo.add(id_)\n",
    "        if isinstance(o, dict):\n",
    "            queue += ((id(v), v, level + 1) for v in o.values())\n",
    "    return level"
   ]
  },
  {
   "cell_type": "code",
   "execution_count": 6,
   "metadata": {},
   "outputs": [],
   "source": [
    "def list_dict(d: Dict[str,str]\n",
    "             ) -> List[Dict[str,str]]:\n",
    "    '''\n",
    "    * This works *\n",
    "    \n",
    "    Creates list of dicts\n",
    "    '''\n",
    "    arr: List = []\n",
    "    for k,v in d.items():\n",
    "        tmp: Dict = {k:v}\n",
    "        arr.append(tmp)\n",
    "    return arr"
   ]
  },
  {
   "cell_type": "code",
   "execution_count": 7,
   "metadata": {},
   "outputs": [],
   "source": [
    "def proc_batch(search_arr):\n",
    "    '''\n",
    "    * uses search_arr list\n",
    "    '''\n",
    "    for i in search_arr:\n",
    "        for k,v in i.items():\n",
    "            if depth(i) == 3:\n",
    "                for k2,v2 in v.items():\n",
    "                    modality_type = k\n",
    "                    modality_label = k2\n",
    "                    mod_search = v2\n",
    "                    print(f\"{modality_type} - {modality_label} - {mod_search}\")\n",
    "                    # Do stuff here\n",
    "                    # Search str with mod_search list of substrings\n",
    "            elif depth(i) == 4:\n",
    "                for k2,v2 in v.items():\n",
    "                    for k3,v3 in v2.items():\n",
    "                        modality_type = k\n",
    "                        modality_label = k2\n",
    "                        task = k3\n",
    "                        mod_search = v3\n",
    "                        print(f\"{modality_type} - {modality_label} - {task} - {mod_search}\")\n",
    "                        # Do stuff here"
   ]
  },
  {
   "cell_type": "code",
   "execution_count": null,
   "metadata": {},
   "outputs": [],
   "source": []
  },
  {
   "cell_type": "code",
   "execution_count": 8,
   "metadata": {},
   "outputs": [],
   "source": [
    "search_dict,bids_search,bids_map,meta_dict,exclusion_list = read_config(config)"
   ]
  },
  {
   "cell_type": "code",
   "execution_count": 9,
   "metadata": {},
   "outputs": [
    {
     "data": {
      "text/plain": [
       "True"
      ]
     },
     "execution_count": 9,
     "metadata": {},
     "output_type": "execute_result"
    }
   ],
   "source": [
    "comp_dict(bids_search,bids_map,verbose=True)"
   ]
  },
  {
   "cell_type": "code",
   "execution_count": 10,
   "metadata": {},
   "outputs": [],
   "source": [
    "t = list_dict(search_dict)"
   ]
  },
  {
   "cell_type": "code",
   "execution_count": 11,
   "metadata": {},
   "outputs": [
    {
     "name": "stdout",
     "output_type": "stream",
     "text": [
      "anat - T1w - ['T1', 'T1w', 'TFE']\n",
      "anat - T2w - ['T2', 'T2w', 'TSE']\n",
      "func - bold - rest - ['rsfMR', 'rest', 'FFE', 'FEEPI']\n"
     ]
    }
   ],
   "source": [
    "proc_batch(t)"
   ]
  },
  {
   "cell_type": "code",
   "execution_count": 12,
   "metadata": {},
   "outputs": [],
   "source": [
    "def search_bids(bids_search=None,\n",
    "                bids_map=None,\n",
    "                modality_type=\"\",\n",
    "                modality_label=\"\",\n",
    "                task=\"\"):\n",
    "    '''working doc-string'''\n",
    "    # search string with BIDS search term\n",
    "    # term is present, add BIDS mapped name to BIDS name dictionary (global, constant)\n",
    "    \n",
    "    # iterate through \n",
    "    \n",
    "    if bids_search and bids_map:\n",
    "        pass\n",
    "    else:\n",
    "        return None\n",
    "    \n",
    "    if modality_type and modality_label:\n",
    "        pass\n",
    "    else:\n",
    "        return None\n",
    "    \n",
    "    k1 = list(bids_search[modality_type][modality_label].keys())\n",
    "    \n",
    "#     for k,v in bids_search[modality_type][modality_label].items():\n",
    "#         for v2 in v:\n",
    "#             print(f\"{k} - {v2}\")\n",
    "    \n",
    "    for (k1,v1),(k2,v2) in zip(bids_search[modality_type][modality_label].items(),bids_map[modality_type][modality_label].items()):\n",
    "        for va,vb in zip(v1,v2):\n",
    "            print(f\"{k1} - {va} - {vb}\")"
   ]
  },
  {
   "cell_type": "code",
   "execution_count": 13,
   "metadata": {},
   "outputs": [],
   "source": [
    "m1=\"anat\"; m2=\"T1w\""
   ]
  },
  {
   "cell_type": "code",
   "execution_count": 14,
   "metadata": {},
   "outputs": [
    {
     "data": {
      "text/plain": [
       "{'acq': ['Axial'], 'rec': ['MoCo']}"
      ]
     },
     "execution_count": 14,
     "metadata": {},
     "output_type": "execute_result"
    }
   ],
   "source": [
    "bids_search[m1][m2]"
   ]
  },
  {
   "cell_type": "code",
   "execution_count": 15,
   "metadata": {},
   "outputs": [
    {
     "name": "stdout",
     "output_type": "stream",
     "text": [
      "acq - Axial - 2D\n",
      "rec - MoCo - MotionCorrected\n"
     ]
    }
   ],
   "source": [
    "search_bids(bids_search,bids_map,'anat','T1w')"
   ]
  },
  {
   "cell_type": "code",
   "execution_count": 16,
   "metadata": {},
   "outputs": [
    {
     "data": {
      "text/plain": [
       "'/Users/adebayobraimah/Desktop/projects/convert_source/config/config.test'"
      ]
     },
     "execution_count": 16,
     "metadata": {},
     "output_type": "execute_result"
    }
   ],
   "source": [
    "os.getcwd()"
   ]
  },
  {
   "cell_type": "code",
   "execution_count": 21,
   "metadata": {},
   "outputs": [
    {
     "data": {
      "text/plain": [
       "'/Users/adebayobraimah/Desktop/projects/convert_source/config/config.test/../../convert_source'"
      ]
     },
     "execution_count": 21,
     "metadata": {},
     "output_type": "execute_result"
    }
   ],
   "source": [
    "a = os.path.join(os.getcwd(),'..','..','convert_source'); a"
   ]
  },
  {
   "cell_type": "code",
   "execution_count": 22,
   "metadata": {},
   "outputs": [
    {
     "data": {
      "text/plain": [
       "['imgio',\n",
       " '.DS_Store',\n",
       " 'convert_source.py',\n",
       " '__init__.py',\n",
       " 'utils',\n",
       " '__pycache__']"
      ]
     },
     "execution_count": 22,
     "metadata": {},
     "output_type": "execute_result"
    }
   ],
   "source": [
    "os.listdir(a)"
   ]
  },
  {
   "cell_type": "code",
   "execution_count": 34,
   "metadata": {},
   "outputs": [],
   "source": [
    "mod_path = os.path.join(os.getcwd(),'..','..','convert_source'); sys.path.append(mod_path)"
   ]
  },
  {
   "cell_type": "code",
   "execution_count": 37,
   "metadata": {},
   "outputs": [
    {
     "ename": "ModuleNotFoundError",
     "evalue": "No module named 'convert_source'",
     "output_type": "error",
     "traceback": [
      "\u001b[0;31m---------------------------------------------------------------------------\u001b[0m",
      "\u001b[0;31mModuleNotFoundError\u001b[0m                       Traceback (most recent call last)",
      "\u001b[0;32m<ipython-input-37-eb323c10fa99>\u001b[0m in \u001b[0;36m<module>\u001b[0;34m\u001b[0m\n\u001b[0;32m----> 1\u001b[0;31m \u001b[0;32mimport\u001b[0m \u001b[0mconvert_source\u001b[0m\u001b[0;34m.\u001b[0m\u001b[0mconvert_source\u001b[0m\u001b[0;34m.\u001b[0m\u001b[0mutils\u001b[0m\u001b[0;34m\u001b[0m\u001b[0;34m\u001b[0m\u001b[0m\n\u001b[0m",
      "\u001b[0;31mModuleNotFoundError\u001b[0m: No module named 'convert_source'"
     ]
    }
   ],
   "source": [
    "import convert_source.convert_source.utils"
   ]
  },
  {
   "cell_type": "code",
   "execution_count": null,
   "metadata": {},
   "outputs": [],
   "source": []
  }
 ],
 "metadata": {
  "kernelspec": {
   "display_name": "Python 3",
   "language": "python",
   "name": "python3"
  },
  "language_info": {
   "codemirror_mode": {
    "name": "ipython",
    "version": 3
   },
   "file_extension": ".py",
   "mimetype": "text/x-python",
   "name": "python",
   "nbconvert_exporter": "python",
   "pygments_lexer": "ipython3",
   "version": "3.8.3"
  }
 },
 "nbformat": 4,
 "nbformat_minor": 4
}
